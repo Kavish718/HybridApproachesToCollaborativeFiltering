{
 "cells": [
  {
   "cell_type": "markdown",
   "id": "5e2e5c3f",
   "metadata": {},
   "source": [
    "## Matrix Factorization"
   ]
  },
  {
   "cell_type": "code",
   "execution_count": 1,
   "id": "bff807df",
   "metadata": {},
   "outputs": [],
   "source": [
    "import numpy as np\n",
    "from sklearn.metrics import mean_squared_error\n",
    "from math import sqrt"
   ]
  },
  {
   "cell_type": "code",
   "execution_count": 2,
   "id": "61f97a17",
   "metadata": {},
   "outputs": [],
   "source": [
    "# Load data\n",
    "data_path = 'ml-1m/'\n",
    "ratings = np.genfromtxt(data_path + 'ratings.dat', delimiter='::', dtype=int)"
   ]
  },
  {
   "cell_type": "code",
   "execution_count": 3,
   "id": "42715e9f",
   "metadata": {},
   "outputs": [
    {
     "data": {
      "text/plain": [
       "array([[        1,      1193,         5, 978300760],\n",
       "       [        1,       661,         3, 978302109],\n",
       "       [        1,       914,         3, 978301968],\n",
       "       ...,\n",
       "       [     6040,       562,         5, 956704746],\n",
       "       [     6040,      1096,         4, 956715648],\n",
       "       [     6040,      1097,         4, 956715569]])"
      ]
     },
     "execution_count": 3,
     "metadata": {},
     "output_type": "execute_result"
    }
   ],
   "source": [
    "ratings"
   ]
  },
  {
   "cell_type": "code",
   "execution_count": 4,
   "id": "d9be0d4d",
   "metadata": {},
   "outputs": [],
   "source": [
    "np.random.seed(42)\n",
    "np.random.shuffle(ratings)\n",
    "split_ratio = 0.8\n",
    "split_idx = int(split_ratio * len(ratings))\n",
    "train = ratings[:split_idx]\n",
    "test = ratings[split_idx:]"
   ]
  },
  {
   "cell_type": "code",
   "execution_count": 5,
   "id": "5451c4f4",
   "metadata": {},
   "outputs": [
    {
     "data": {
      "text/plain": [
       "array([[     5412,      2683,         2, 960243649],\n",
       "       [     5440,       904,         5, 959995181],\n",
       "       [      368,      3717,         4, 976311423],\n",
       "       ...,\n",
       "       [     3685,      2108,         4, 967121561],\n",
       "       [     3312,      3616,         4, 983252174],\n",
       "       [     4811,      1041,         4, 962933524]])"
      ]
     },
     "execution_count": 5,
     "metadata": {},
     "output_type": "execute_result"
    }
   ],
   "source": [
    "train"
   ]
  },
  {
   "cell_type": "code",
   "execution_count": 6,
   "id": "1ab06540",
   "metadata": {},
   "outputs": [
    {
     "data": {
      "text/plain": [
       "array([[     1841,      3717,         1, 974698076],\n",
       "       [     3715,       880,         3, 966266200],\n",
       "       [     2002,      3072,         4, 974678563],\n",
       "       ...,\n",
       "       [      854,      3102,         3, 975355597],\n",
       "       [     4033,      3479,         5, 965525805],\n",
       "       [      786,      1391,         4, 975429588]])"
      ]
     },
     "execution_count": 6,
     "metadata": {},
     "output_type": "execute_result"
    }
   ],
   "source": [
    "test"
   ]
  },
  {
   "cell_type": "code",
   "execution_count": 7,
   "id": "89b65bfc",
   "metadata": {},
   "outputs": [],
   "source": [
    "# Get number of users and items\n",
    "num_users = max(max(train[:,0]), max(test[:,0]))\n",
    "num_items = max(max(train[:,1]), max(test[:,1]))"
   ]
  },
  {
   "cell_type": "code",
   "execution_count": 8,
   "id": "a7efc15b",
   "metadata": {},
   "outputs": [],
   "source": [
    "# Create user-item matrix\n",
    "train_matrix = np.zeros((num_users, num_items))\n",
    "for i in range(train.shape[0]):\n",
    "    user_id = train[i,0] - 1\n",
    "    item_id = train[i,1] - 1\n",
    "    rating = train[i,2]\n",
    "    train_matrix[user_id][item_id] = rating"
   ]
  },
  {
   "cell_type": "code",
   "execution_count": 9,
   "id": "fd07483d",
   "metadata": {},
   "outputs": [],
   "source": [
    "test_matrix = np.zeros((num_users, num_items))\n",
    "for i in range(test.shape[0]):\n",
    "    user_id = test[i,0] - 1\n",
    "    item_id = test[i,1] - 1\n",
    "    rating = test[i,2]\n",
    "    test_matrix[user_id][item_id] = rating"
   ]
  },
  {
   "cell_type": "markdown",
   "id": "e2a0371c",
   "metadata": {},
   "source": [
    "### Dimensionality Setting"
   ]
  },
  {
   "cell_type": "code",
   "execution_count": 10,
   "id": "009830c2",
   "metadata": {},
   "outputs": [],
   "source": [
    "# Hyperparameters\n",
    "num_factors = 20\n",
    "learning_rate = 0.01\n",
    "num_epochs = 10\n",
    "lambda_reg = 0.1"
   ]
  },
  {
   "cell_type": "markdown",
   "id": "d037421c",
   "metadata": {},
   "source": [
    "### Random Initialization and Regularization"
   ]
  },
  {
   "cell_type": "code",
   "execution_count": 11,
   "id": "c1597c28",
   "metadata": {},
   "outputs": [],
   "source": [
    "# Initialize user and item matrices\n",
    "user_matrix = np.random.normal(size=(num_users, num_factors))\n",
    "item_matrix = np.random.normal(size=(num_items, num_factors))\n"
   ]
  },
  {
   "cell_type": "markdown",
   "id": "a019ae08",
   "metadata": {},
   "source": [
    "### Interpolation"
   ]
  },
  {
   "cell_type": "code",
   "execution_count": 12,
   "id": "ea1e269b",
   "metadata": {},
   "outputs": [
    {
     "name": "stdout",
     "output_type": "stream",
     "text": [
      "Epoch 1, RMSE: 1.939659\n",
      "Epoch 2, RMSE: 1.139167\n",
      "Epoch 3, RMSE: 1.042253\n",
      "Epoch 4, RMSE: 1.008161\n",
      "Epoch 5, RMSE: 0.989313\n",
      "Epoch 6, RMSE: 0.976660\n",
      "Epoch 7, RMSE: 0.967078\n",
      "Epoch 8, RMSE: 0.959215\n",
      "Epoch 9, RMSE: 0.952476\n",
      "Epoch 10, RMSE: 0.946604\n"
     ]
    }
   ],
   "source": [
    "# Train model\n",
    "for epoch in range(num_epochs):\n",
    "    for i in range(num_users):\n",
    "        for j in range(num_items):\n",
    "            if train_matrix[i][j] > 0:\n",
    "                prediction = np.dot(user_matrix[i], item_matrix[j])\n",
    "                error = train_matrix[i][j] - prediction\n",
    "                \n",
    "                # Update user and item matrices\n",
    "                user_matrix[i] += learning_rate * (error * item_matrix[j] - lambda_reg * user_matrix[i])\n",
    "                item_matrix[j] += learning_rate * (error * user_matrix[i] - lambda_reg * item_matrix[j])\n",
    "    \n",
    "    # Evaluate model\n",
    "    predictions = np.dot(user_matrix, item_matrix.T)\n",
    "    mse = mean_squared_error(test_matrix[test_matrix.nonzero()], predictions[test_matrix.nonzero()])\n",
    "    rmse = sqrt(mse)\n",
    "    print('Epoch %d, RMSE: %f' % (epoch+1, rmse))\n"
   ]
  },
  {
   "cell_type": "code",
   "execution_count": 13,
   "id": "2886badf",
   "metadata": {},
   "outputs": [
    {
     "name": "stdout",
     "output_type": "stream",
     "text": [
      "User ID: 1, Movie ID: 47, Predicted Rating: 3.270981\n",
      "User ID: 1, Movie ID: 593, Predicted Rating: 4.167346\n",
      "User ID: 1, Movie ID: 719, Predicted Rating: 4.206065\n",
      "User ID: 1, Movie ID: 1021, Predicted Rating: 4.229602\n",
      "User ID: 1, Movie ID: 1196, Predicted Rating: 4.435787\n",
      "User ID: 1, Movie ID: 1720, Predicted Rating: 3.685748\n",
      "User ID: 1, Movie ID: 1961, Predicted Rating: 3.986361\n",
      "User ID: 1, Movie ID: 2790, Predicted Rating: 3.897736\n",
      "User ID: 1, Movie ID: 2917, Predicted Rating: 4.009284\n",
      "User ID: 1, Movie ID: 3407, Predicted Rating: 4.095823\n",
      "User ID: 2, Movie ID: 94, Predicted Rating: 2.630974\n",
      "User ID: 2, Movie ID: 379, Predicted Rating: 3.313437\n",
      "User ID: 2, Movie ID: 433, Predicted Rating: 2.961054\n",
      "User ID: 2, Movie ID: 514, Predicted Rating: 3.444213\n",
      "User ID: 2, Movie ID: 589, Predicted Rating: 3.527575\n"
     ]
    }
   ],
   "source": [
    "# Print predictions\n",
    "count = 0\n",
    "for (i, j) in zip(*test_matrix.nonzero()):\n",
    "    prediction = np.dot(user_matrix[i], item_matrix[j])\n",
    "    print(\"User ID: %d, Movie ID: %d, Predicted Rating: %f\" % (i+1, j, prediction))\n",
    "    count += 1\n",
    "    if count == 15:\n",
    "        break"
   ]
  },
  {
   "cell_type": "markdown",
   "id": "aec7bb45",
   "metadata": {},
   "source": [
    "## GMF"
   ]
  },
  {
   "cell_type": "code",
   "execution_count": 14,
   "id": "58ac5fde",
   "metadata": {},
   "outputs": [],
   "source": [
    "import numpy as np\n",
    "from sklearn.metrics import mean_squared_error\n",
    "from math import sqrt\n",
    "import tensorflow as tf\n",
    "from tensorflow import keras\n",
    "from tensorflow.keras import layers, Model\n",
    "from keras.layers import Concatenate, Dense, Dropout, Input, Embedding, Flatten"
   ]
  },
  {
   "cell_type": "code",
   "execution_count": 15,
   "id": "7c0ea0cb",
   "metadata": {},
   "outputs": [],
   "source": [
    "# Load the data\n",
    "data = np.genfromtxt(data_path + \"ratings.csv\", delimiter=',', skip_header=1, dtype=int)"
   ]
  },
  {
   "cell_type": "code",
   "execution_count": 16,
   "id": "c5966177",
   "metadata": {},
   "outputs": [],
   "source": [
    "# Split the data into training and test sets\n",
    "np.random.seed(42)\n",
    "msk = np.random.rand(len(data)) < 0.8\n",
    "train_data = data[msk]\n",
    "test_data = data[~msk]"
   ]
  },
  {
   "cell_type": "markdown",
   "id": "c6be1a5a",
   "metadata": {},
   "source": [
    "### Latent Vector"
   ]
  },
  {
   "cell_type": "code",
   "execution_count": 17,
   "id": "9925a31a",
   "metadata": {},
   "outputs": [],
   "source": [
    "# Create user-item matrices for training and test sets\n",
    "train_data_matrix = np.zeros((max(data[:, 0]), max(data[:, 1])))\n",
    "for line in train_data:\n",
    "    train_data_matrix[int(line[0])-1, int(line[1])-1] = line[2]\n",
    "\n",
    "test_data_matrix = np.zeros((max(data[:, 0]), max(data[:, 1])))\n",
    "for line in test_data:\n",
    "    test_data_matrix[int(line[0])-1, int(line[1])-1] = line[2]"
   ]
  },
  {
   "cell_type": "code",
   "execution_count": 18,
   "id": "bcca1493",
   "metadata": {},
   "outputs": [
    {
     "name": "stdout",
     "output_type": "stream",
     "text": [
      "Metal device set to: Apple M1\n"
     ]
    },
    {
     "name": "stderr",
     "output_type": "stream",
     "text": [
      "2023-04-19 15:41:34.208860: I tensorflow/core/common_runtime/pluggable_device/pluggable_device_factory.cc:306] Could not identify NUMA node of platform GPU ID 0, defaulting to 0. Your kernel may not have been built with NUMA support.\n",
      "2023-04-19 15:41:34.209034: I tensorflow/core/common_runtime/pluggable_device/pluggable_device_factory.cc:272] Created TensorFlow device (/job:localhost/replica:0/task:0/device:GPU:0 with 0 MB memory) -> physical PluggableDevice (device: 0, name: METAL, pci bus id: <undefined>)\n"
     ]
    }
   ],
   "source": [
    "# Define the GMF model\n",
    "num_users, num_items = train_data_matrix.shape\n",
    "embedding_size = 8\n",
    "\n",
    "user_input = keras.Input(shape=(1,), dtype='int32', name='user_input')\n",
    "user_embedding = layers.Embedding(input_dim=num_users, output_dim=embedding_size, \n",
    "                                  input_length=1, name='user_embedding')(user_input)\n",
    "user_vec = layers.Flatten(name='flatten_users')(user_embedding)\n",
    "\n",
    "item_input = keras.Input(shape=(1,), dtype='int32', name='item_input')\n",
    "item_embedding = layers.Embedding(input_dim=num_items, output_dim=embedding_size, \n",
    "                                  input_length=1, name='item_embedding')(item_input)\n",
    "item_vec = layers.Flatten(name='flatten_items')(item_embedding)"
   ]
  },
  {
   "cell_type": "code",
   "execution_count": 19,
   "id": "f166096e",
   "metadata": {},
   "outputs": [
    {
     "data": {
      "text/plain": [
       "838594"
      ]
     },
     "execution_count": 19,
     "metadata": {},
     "output_type": "execute_result"
    }
   ],
   "source": [
    "len(train_data[:,2])"
   ]
  },
  {
   "cell_type": "code",
   "execution_count": 20,
   "id": "6b112318",
   "metadata": {},
   "outputs": [
    {
     "name": "stdout",
     "output_type": "stream",
     "text": [
      "Num GPUs Available:  1\n"
     ]
    }
   ],
   "source": [
    "print(\"Num GPUs Available: \", len(tf.config.experimental.list_physical_devices('GPU')))"
   ]
  },
  {
   "cell_type": "code",
   "execution_count": 20,
   "id": "1c6a37d5",
   "metadata": {},
   "outputs": [
    {
     "name": "stdout",
     "output_type": "stream",
     "text": [
      "Epoch 1/10\n"
     ]
    },
    {
     "name": "stderr",
     "output_type": "stream",
     "text": [
      "2023-03-23 18:16:10.019571: W tensorflow/core/platform/profile_utils/cpu_utils.cc:128] Failed to get CPU frequency: 0 Hz\n",
      "2023-03-23 18:16:10.256830: I tensorflow/core/grappler/optimizers/custom_graph_optimizer_registry.cc:114] Plugin optimizer for device_type GPU is enabled.\n"
     ]
    },
    {
     "name": "stdout",
     "output_type": "stream",
     "text": [
      "   87/10483 [..............................] - ETA: 4:35 - loss: 8.3489"
     ]
    },
    {
     "ename": "KeyboardInterrupt",
     "evalue": "",
     "output_type": "error",
     "traceback": [
      "\u001b[0;31m---------------------------------------------------------------------------\u001b[0m",
      "\u001b[0;31mKeyboardInterrupt\u001b[0m                         Traceback (most recent call last)",
      "Cell \u001b[0;32mIn[20], line 22\u001b[0m\n\u001b[1;32m     19\u001b[0m model\u001b[38;5;241m.\u001b[39mcompile(loss\u001b[38;5;241m=\u001b[39m\u001b[38;5;124m'\u001b[39m\u001b[38;5;124mmean_squared_error\u001b[39m\u001b[38;5;124m'\u001b[39m, optimizer\u001b[38;5;241m=\u001b[39m\u001b[38;5;124m'\u001b[39m\u001b[38;5;124madam\u001b[39m\u001b[38;5;124m'\u001b[39m)\n\u001b[1;32m     21\u001b[0m \u001b[38;5;66;03m# Train the model\u001b[39;00m\n\u001b[0;32m---> 22\u001b[0m history \u001b[38;5;241m=\u001b[39m \u001b[43mmodel\u001b[49m\u001b[38;5;241;43m.\u001b[39;49m\u001b[43mfit\u001b[49m\u001b[43m(\u001b[49m\u001b[43mx\u001b[49m\u001b[38;5;241;43m=\u001b[39;49m\u001b[43m[\u001b[49m\u001b[43mtrain_data\u001b[49m\u001b[43m[\u001b[49m\u001b[43m:\u001b[49m\u001b[43m,\u001b[49m\u001b[38;5;241;43m0\u001b[39;49m\u001b[43m]\u001b[49m\u001b[43m,\u001b[49m\u001b[43m \u001b[49m\u001b[43mtrain_data\u001b[49m\u001b[43m[\u001b[49m\u001b[43m:\u001b[49m\u001b[43m,\u001b[49m\u001b[38;5;241;43m1\u001b[39;49m\u001b[43m]\u001b[49m\u001b[43m]\u001b[49m\u001b[43m,\u001b[49m\u001b[43m \u001b[49m\u001b[43my\u001b[49m\u001b[38;5;241;43m=\u001b[39;49m\u001b[43mtrain_data\u001b[49m\u001b[43m[\u001b[49m\u001b[43m:\u001b[49m\u001b[43m,\u001b[49m\u001b[38;5;241;43m2\u001b[39;49m\u001b[43m]\u001b[49m\u001b[43m,\u001b[49m\u001b[43m \u001b[49m\u001b[43mbatch_size\u001b[49m\u001b[38;5;241;43m=\u001b[39;49m\u001b[38;5;241;43m64\u001b[39;49m\u001b[43m,\u001b[49m\u001b[43m \u001b[49m\u001b[43mepochs\u001b[49m\u001b[38;5;241;43m=\u001b[39;49m\u001b[38;5;241;43m10\u001b[39;49m\u001b[43m,\u001b[49m\u001b[43m \u001b[49m\n\u001b[1;32m     23\u001b[0m \u001b[43m                    \u001b[49m\u001b[43mvalidation_split\u001b[49m\u001b[38;5;241;43m=\u001b[39;49m\u001b[38;5;241;43m0.2\u001b[39;49m\u001b[43m,\u001b[49m\u001b[43m \u001b[49m\u001b[43mverbose\u001b[49m\u001b[38;5;241;43m=\u001b[39;49m\u001b[38;5;241;43m1\u001b[39;49m\u001b[43m)\u001b[49m\n",
      "File \u001b[0;32m~/miniconda/lib/python3.10/site-packages/keras/utils/traceback_utils.py:65\u001b[0m, in \u001b[0;36mfilter_traceback.<locals>.error_handler\u001b[0;34m(*args, **kwargs)\u001b[0m\n\u001b[1;32m     63\u001b[0m filtered_tb \u001b[38;5;241m=\u001b[39m \u001b[38;5;28;01mNone\u001b[39;00m\n\u001b[1;32m     64\u001b[0m \u001b[38;5;28;01mtry\u001b[39;00m:\n\u001b[0;32m---> 65\u001b[0m     \u001b[38;5;28;01mreturn\u001b[39;00m \u001b[43mfn\u001b[49m\u001b[43m(\u001b[49m\u001b[38;5;241;43m*\u001b[39;49m\u001b[43margs\u001b[49m\u001b[43m,\u001b[49m\u001b[43m \u001b[49m\u001b[38;5;241;43m*\u001b[39;49m\u001b[38;5;241;43m*\u001b[39;49m\u001b[43mkwargs\u001b[49m\u001b[43m)\u001b[49m\n\u001b[1;32m     66\u001b[0m \u001b[38;5;28;01mexcept\u001b[39;00m \u001b[38;5;167;01mException\u001b[39;00m \u001b[38;5;28;01mas\u001b[39;00m e:\n\u001b[1;32m     67\u001b[0m     filtered_tb \u001b[38;5;241m=\u001b[39m _process_traceback_frames(e\u001b[38;5;241m.\u001b[39m__traceback__)\n",
      "File \u001b[0;32m~/miniconda/lib/python3.10/site-packages/keras/engine/training.py:1564\u001b[0m, in \u001b[0;36mModel.fit\u001b[0;34m(self, x, y, batch_size, epochs, verbose, callbacks, validation_split, validation_data, shuffle, class_weight, sample_weight, initial_epoch, steps_per_epoch, validation_steps, validation_batch_size, validation_freq, max_queue_size, workers, use_multiprocessing)\u001b[0m\n\u001b[1;32m   1556\u001b[0m \u001b[38;5;28;01mwith\u001b[39;00m tf\u001b[38;5;241m.\u001b[39mprofiler\u001b[38;5;241m.\u001b[39mexperimental\u001b[38;5;241m.\u001b[39mTrace(\n\u001b[1;32m   1557\u001b[0m     \u001b[38;5;124m\"\u001b[39m\u001b[38;5;124mtrain\u001b[39m\u001b[38;5;124m\"\u001b[39m,\n\u001b[1;32m   1558\u001b[0m     epoch_num\u001b[38;5;241m=\u001b[39mepoch,\n\u001b[0;32m   (...)\u001b[0m\n\u001b[1;32m   1561\u001b[0m     _r\u001b[38;5;241m=\u001b[39m\u001b[38;5;241m1\u001b[39m,\n\u001b[1;32m   1562\u001b[0m ):\n\u001b[1;32m   1563\u001b[0m     callbacks\u001b[38;5;241m.\u001b[39mon_train_batch_begin(step)\n\u001b[0;32m-> 1564\u001b[0m     tmp_logs \u001b[38;5;241m=\u001b[39m \u001b[38;5;28;43mself\u001b[39;49m\u001b[38;5;241;43m.\u001b[39;49m\u001b[43mtrain_function\u001b[49m\u001b[43m(\u001b[49m\u001b[43miterator\u001b[49m\u001b[43m)\u001b[49m\n\u001b[1;32m   1565\u001b[0m     \u001b[38;5;28;01mif\u001b[39;00m data_handler\u001b[38;5;241m.\u001b[39mshould_sync:\n\u001b[1;32m   1566\u001b[0m         context\u001b[38;5;241m.\u001b[39masync_wait()\n",
      "File \u001b[0;32m~/miniconda/lib/python3.10/site-packages/tensorflow/python/util/traceback_utils.py:150\u001b[0m, in \u001b[0;36mfilter_traceback.<locals>.error_handler\u001b[0;34m(*args, **kwargs)\u001b[0m\n\u001b[1;32m    148\u001b[0m filtered_tb \u001b[38;5;241m=\u001b[39m \u001b[38;5;28;01mNone\u001b[39;00m\n\u001b[1;32m    149\u001b[0m \u001b[38;5;28;01mtry\u001b[39;00m:\n\u001b[0;32m--> 150\u001b[0m   \u001b[38;5;28;01mreturn\u001b[39;00m \u001b[43mfn\u001b[49m\u001b[43m(\u001b[49m\u001b[38;5;241;43m*\u001b[39;49m\u001b[43margs\u001b[49m\u001b[43m,\u001b[49m\u001b[43m \u001b[49m\u001b[38;5;241;43m*\u001b[39;49m\u001b[38;5;241;43m*\u001b[39;49m\u001b[43mkwargs\u001b[49m\u001b[43m)\u001b[49m\n\u001b[1;32m    151\u001b[0m \u001b[38;5;28;01mexcept\u001b[39;00m \u001b[38;5;167;01mException\u001b[39;00m \u001b[38;5;28;01mas\u001b[39;00m e:\n\u001b[1;32m    152\u001b[0m   filtered_tb \u001b[38;5;241m=\u001b[39m _process_traceback_frames(e\u001b[38;5;241m.\u001b[39m__traceback__)\n",
      "File \u001b[0;32m~/miniconda/lib/python3.10/site-packages/tensorflow/python/eager/def_function.py:915\u001b[0m, in \u001b[0;36mFunction.__call__\u001b[0;34m(self, *args, **kwds)\u001b[0m\n\u001b[1;32m    912\u001b[0m compiler \u001b[38;5;241m=\u001b[39m \u001b[38;5;124m\"\u001b[39m\u001b[38;5;124mxla\u001b[39m\u001b[38;5;124m\"\u001b[39m \u001b[38;5;28;01mif\u001b[39;00m \u001b[38;5;28mself\u001b[39m\u001b[38;5;241m.\u001b[39m_jit_compile \u001b[38;5;28;01melse\u001b[39;00m \u001b[38;5;124m\"\u001b[39m\u001b[38;5;124mnonXla\u001b[39m\u001b[38;5;124m\"\u001b[39m\n\u001b[1;32m    914\u001b[0m \u001b[38;5;28;01mwith\u001b[39;00m OptionalXlaContext(\u001b[38;5;28mself\u001b[39m\u001b[38;5;241m.\u001b[39m_jit_compile):\n\u001b[0;32m--> 915\u001b[0m   result \u001b[38;5;241m=\u001b[39m \u001b[38;5;28;43mself\u001b[39;49m\u001b[38;5;241;43m.\u001b[39;49m\u001b[43m_call\u001b[49m\u001b[43m(\u001b[49m\u001b[38;5;241;43m*\u001b[39;49m\u001b[43margs\u001b[49m\u001b[43m,\u001b[49m\u001b[43m \u001b[49m\u001b[38;5;241;43m*\u001b[39;49m\u001b[38;5;241;43m*\u001b[39;49m\u001b[43mkwds\u001b[49m\u001b[43m)\u001b[49m\n\u001b[1;32m    917\u001b[0m new_tracing_count \u001b[38;5;241m=\u001b[39m \u001b[38;5;28mself\u001b[39m\u001b[38;5;241m.\u001b[39mexperimental_get_tracing_count()\n\u001b[1;32m    918\u001b[0m without_tracing \u001b[38;5;241m=\u001b[39m (tracing_count \u001b[38;5;241m==\u001b[39m new_tracing_count)\n",
      "File \u001b[0;32m~/miniconda/lib/python3.10/site-packages/tensorflow/python/eager/def_function.py:947\u001b[0m, in \u001b[0;36mFunction._call\u001b[0;34m(self, *args, **kwds)\u001b[0m\n\u001b[1;32m    944\u001b[0m   \u001b[38;5;28mself\u001b[39m\u001b[38;5;241m.\u001b[39m_lock\u001b[38;5;241m.\u001b[39mrelease()\n\u001b[1;32m    945\u001b[0m   \u001b[38;5;66;03m# In this case we have created variables on the first call, so we run the\u001b[39;00m\n\u001b[1;32m    946\u001b[0m   \u001b[38;5;66;03m# defunned version which is guaranteed to never create variables.\u001b[39;00m\n\u001b[0;32m--> 947\u001b[0m   \u001b[38;5;28;01mreturn\u001b[39;00m \u001b[38;5;28;43mself\u001b[39;49m\u001b[38;5;241;43m.\u001b[39;49m\u001b[43m_stateless_fn\u001b[49m\u001b[43m(\u001b[49m\u001b[38;5;241;43m*\u001b[39;49m\u001b[43margs\u001b[49m\u001b[43m,\u001b[49m\u001b[43m \u001b[49m\u001b[38;5;241;43m*\u001b[39;49m\u001b[38;5;241;43m*\u001b[39;49m\u001b[43mkwds\u001b[49m\u001b[43m)\u001b[49m  \u001b[38;5;66;03m# pylint: disable=not-callable\u001b[39;00m\n\u001b[1;32m    948\u001b[0m \u001b[38;5;28;01melif\u001b[39;00m \u001b[38;5;28mself\u001b[39m\u001b[38;5;241m.\u001b[39m_stateful_fn \u001b[38;5;129;01mis\u001b[39;00m \u001b[38;5;129;01mnot\u001b[39;00m \u001b[38;5;28;01mNone\u001b[39;00m:\n\u001b[1;32m    949\u001b[0m   \u001b[38;5;66;03m# Release the lock early so that multiple threads can perform the call\u001b[39;00m\n\u001b[1;32m    950\u001b[0m   \u001b[38;5;66;03m# in parallel.\u001b[39;00m\n\u001b[1;32m    951\u001b[0m   \u001b[38;5;28mself\u001b[39m\u001b[38;5;241m.\u001b[39m_lock\u001b[38;5;241m.\u001b[39mrelease()\n",
      "File \u001b[0;32m~/miniconda/lib/python3.10/site-packages/tensorflow/python/eager/function.py:2496\u001b[0m, in \u001b[0;36mFunction.__call__\u001b[0;34m(self, *args, **kwargs)\u001b[0m\n\u001b[1;32m   2493\u001b[0m \u001b[38;5;28;01mwith\u001b[39;00m \u001b[38;5;28mself\u001b[39m\u001b[38;5;241m.\u001b[39m_lock:\n\u001b[1;32m   2494\u001b[0m   (graph_function,\n\u001b[1;32m   2495\u001b[0m    filtered_flat_args) \u001b[38;5;241m=\u001b[39m \u001b[38;5;28mself\u001b[39m\u001b[38;5;241m.\u001b[39m_maybe_define_function(args, kwargs)\n\u001b[0;32m-> 2496\u001b[0m \u001b[38;5;28;01mreturn\u001b[39;00m \u001b[43mgraph_function\u001b[49m\u001b[38;5;241;43m.\u001b[39;49m\u001b[43m_call_flat\u001b[49m\u001b[43m(\u001b[49m\n\u001b[1;32m   2497\u001b[0m \u001b[43m    \u001b[49m\u001b[43mfiltered_flat_args\u001b[49m\u001b[43m,\u001b[49m\u001b[43m \u001b[49m\u001b[43mcaptured_inputs\u001b[49m\u001b[38;5;241;43m=\u001b[39;49m\u001b[43mgraph_function\u001b[49m\u001b[38;5;241;43m.\u001b[39;49m\u001b[43mcaptured_inputs\u001b[49m\u001b[43m)\u001b[49m\n",
      "File \u001b[0;32m~/miniconda/lib/python3.10/site-packages/tensorflow/python/eager/function.py:1862\u001b[0m, in \u001b[0;36mConcreteFunction._call_flat\u001b[0;34m(self, args, captured_inputs, cancellation_manager)\u001b[0m\n\u001b[1;32m   1858\u001b[0m possible_gradient_type \u001b[38;5;241m=\u001b[39m gradients_util\u001b[38;5;241m.\u001b[39mPossibleTapeGradientTypes(args)\n\u001b[1;32m   1859\u001b[0m \u001b[38;5;28;01mif\u001b[39;00m (possible_gradient_type \u001b[38;5;241m==\u001b[39m gradients_util\u001b[38;5;241m.\u001b[39mPOSSIBLE_GRADIENT_TYPES_NONE\n\u001b[1;32m   1860\u001b[0m     \u001b[38;5;129;01mand\u001b[39;00m executing_eagerly):\n\u001b[1;32m   1861\u001b[0m   \u001b[38;5;66;03m# No tape is watching; skip to running the function.\u001b[39;00m\n\u001b[0;32m-> 1862\u001b[0m   \u001b[38;5;28;01mreturn\u001b[39;00m \u001b[38;5;28mself\u001b[39m\u001b[38;5;241m.\u001b[39m_build_call_outputs(\u001b[38;5;28;43mself\u001b[39;49m\u001b[38;5;241;43m.\u001b[39;49m\u001b[43m_inference_function\u001b[49m\u001b[38;5;241;43m.\u001b[39;49m\u001b[43mcall\u001b[49m\u001b[43m(\u001b[49m\n\u001b[1;32m   1863\u001b[0m \u001b[43m      \u001b[49m\u001b[43mctx\u001b[49m\u001b[43m,\u001b[49m\u001b[43m \u001b[49m\u001b[43margs\u001b[49m\u001b[43m,\u001b[49m\u001b[43m \u001b[49m\u001b[43mcancellation_manager\u001b[49m\u001b[38;5;241;43m=\u001b[39;49m\u001b[43mcancellation_manager\u001b[49m\u001b[43m)\u001b[49m)\n\u001b[1;32m   1864\u001b[0m forward_backward \u001b[38;5;241m=\u001b[39m \u001b[38;5;28mself\u001b[39m\u001b[38;5;241m.\u001b[39m_select_forward_and_backward_functions(\n\u001b[1;32m   1865\u001b[0m     args,\n\u001b[1;32m   1866\u001b[0m     possible_gradient_type,\n\u001b[1;32m   1867\u001b[0m     executing_eagerly)\n\u001b[1;32m   1868\u001b[0m forward_function, args_with_tangents \u001b[38;5;241m=\u001b[39m forward_backward\u001b[38;5;241m.\u001b[39mforward()\n",
      "File \u001b[0;32m~/miniconda/lib/python3.10/site-packages/tensorflow/python/eager/function.py:499\u001b[0m, in \u001b[0;36m_EagerDefinedFunction.call\u001b[0;34m(self, ctx, args, cancellation_manager)\u001b[0m\n\u001b[1;32m    497\u001b[0m \u001b[38;5;28;01mwith\u001b[39;00m _InterpolateFunctionError(\u001b[38;5;28mself\u001b[39m):\n\u001b[1;32m    498\u001b[0m   \u001b[38;5;28;01mif\u001b[39;00m cancellation_manager \u001b[38;5;129;01mis\u001b[39;00m \u001b[38;5;28;01mNone\u001b[39;00m:\n\u001b[0;32m--> 499\u001b[0m     outputs \u001b[38;5;241m=\u001b[39m \u001b[43mexecute\u001b[49m\u001b[38;5;241;43m.\u001b[39;49m\u001b[43mexecute\u001b[49m\u001b[43m(\u001b[49m\n\u001b[1;32m    500\u001b[0m \u001b[43m        \u001b[49m\u001b[38;5;28;43mstr\u001b[39;49m\u001b[43m(\u001b[49m\u001b[38;5;28;43mself\u001b[39;49m\u001b[38;5;241;43m.\u001b[39;49m\u001b[43msignature\u001b[49m\u001b[38;5;241;43m.\u001b[39;49m\u001b[43mname\u001b[49m\u001b[43m)\u001b[49m\u001b[43m,\u001b[49m\n\u001b[1;32m    501\u001b[0m \u001b[43m        \u001b[49m\u001b[43mnum_outputs\u001b[49m\u001b[38;5;241;43m=\u001b[39;49m\u001b[38;5;28;43mself\u001b[39;49m\u001b[38;5;241;43m.\u001b[39;49m\u001b[43m_num_outputs\u001b[49m\u001b[43m,\u001b[49m\n\u001b[1;32m    502\u001b[0m \u001b[43m        \u001b[49m\u001b[43minputs\u001b[49m\u001b[38;5;241;43m=\u001b[39;49m\u001b[43margs\u001b[49m\u001b[43m,\u001b[49m\n\u001b[1;32m    503\u001b[0m \u001b[43m        \u001b[49m\u001b[43mattrs\u001b[49m\u001b[38;5;241;43m=\u001b[39;49m\u001b[43mattrs\u001b[49m\u001b[43m,\u001b[49m\n\u001b[1;32m    504\u001b[0m \u001b[43m        \u001b[49m\u001b[43mctx\u001b[49m\u001b[38;5;241;43m=\u001b[39;49m\u001b[43mctx\u001b[49m\u001b[43m)\u001b[49m\n\u001b[1;32m    505\u001b[0m   \u001b[38;5;28;01melse\u001b[39;00m:\n\u001b[1;32m    506\u001b[0m     outputs \u001b[38;5;241m=\u001b[39m execute\u001b[38;5;241m.\u001b[39mexecute_with_cancellation(\n\u001b[1;32m    507\u001b[0m         \u001b[38;5;28mstr\u001b[39m(\u001b[38;5;28mself\u001b[39m\u001b[38;5;241m.\u001b[39msignature\u001b[38;5;241m.\u001b[39mname),\n\u001b[1;32m    508\u001b[0m         num_outputs\u001b[38;5;241m=\u001b[39m\u001b[38;5;28mself\u001b[39m\u001b[38;5;241m.\u001b[39m_num_outputs,\n\u001b[0;32m   (...)\u001b[0m\n\u001b[1;32m    511\u001b[0m         ctx\u001b[38;5;241m=\u001b[39mctx,\n\u001b[1;32m    512\u001b[0m         cancellation_manager\u001b[38;5;241m=\u001b[39mcancellation_manager)\n",
      "File \u001b[0;32m~/miniconda/lib/python3.10/site-packages/tensorflow/python/eager/execute.py:54\u001b[0m, in \u001b[0;36mquick_execute\u001b[0;34m(op_name, num_outputs, inputs, attrs, ctx, name)\u001b[0m\n\u001b[1;32m     52\u001b[0m \u001b[38;5;28;01mtry\u001b[39;00m:\n\u001b[1;32m     53\u001b[0m   ctx\u001b[38;5;241m.\u001b[39mensure_initialized()\n\u001b[0;32m---> 54\u001b[0m   tensors \u001b[38;5;241m=\u001b[39m \u001b[43mpywrap_tfe\u001b[49m\u001b[38;5;241;43m.\u001b[39;49m\u001b[43mTFE_Py_Execute\u001b[49m\u001b[43m(\u001b[49m\u001b[43mctx\u001b[49m\u001b[38;5;241;43m.\u001b[39;49m\u001b[43m_handle\u001b[49m\u001b[43m,\u001b[49m\u001b[43m \u001b[49m\u001b[43mdevice_name\u001b[49m\u001b[43m,\u001b[49m\u001b[43m \u001b[49m\u001b[43mop_name\u001b[49m\u001b[43m,\u001b[49m\n\u001b[1;32m     55\u001b[0m \u001b[43m                                      \u001b[49m\u001b[43minputs\u001b[49m\u001b[43m,\u001b[49m\u001b[43m \u001b[49m\u001b[43mattrs\u001b[49m\u001b[43m,\u001b[49m\u001b[43m \u001b[49m\u001b[43mnum_outputs\u001b[49m\u001b[43m)\u001b[49m\n\u001b[1;32m     56\u001b[0m \u001b[38;5;28;01mexcept\u001b[39;00m core\u001b[38;5;241m.\u001b[39m_NotOkStatusException \u001b[38;5;28;01mas\u001b[39;00m e:\n\u001b[1;32m     57\u001b[0m   \u001b[38;5;28;01mif\u001b[39;00m name \u001b[38;5;129;01mis\u001b[39;00m \u001b[38;5;129;01mnot\u001b[39;00m \u001b[38;5;28;01mNone\u001b[39;00m:\n",
      "\u001b[0;31mKeyboardInterrupt\u001b[0m: "
     ]
    }
   ],
   "source": [
    "num_users = max(np.max(train_data[:, 0]), np.max(test_data[:, 0])) + 1\n",
    "num_movies = max(np.max(train_data[:, 1]), np.max(test_data[:, 1])) + 1\n",
    "\n",
    "# Build the model\n",
    "user_input = Input(shape=(1,), name='user_input')\n",
    "user_embedding = Embedding(input_dim=num_users, output_dim=50, name='user_embedding')(user_input)\n",
    "user_vec = Flatten(name='flatten_users')(user_embedding)\n",
    "\n",
    "movie_input = Input(shape=(1,), name='movie_input')\n",
    "movie_embedding = Embedding(input_dim=num_movies, output_dim=50, name='movie_embedding')(movie_input)\n",
    "movie_vec = Flatten(name='flatten_movies')(movie_embedding)\n",
    "\n",
    "input_vecs = Concatenate(name='concatenation')([user_vec, movie_vec])\n",
    "x = Dense(128, activation='relu')(input_vecs)\n",
    "x = Dropout(0.3)(x)\n",
    "y = Dense(1)(x)\n",
    "\n",
    "model = Model(inputs=[user_input, movie_input], outputs=y)\n",
    "model.compile(loss='mean_squared_error', optimizer='adam')\n",
    "\n",
    "# Train the model\n",
    "history = model.fit(x=[train_data[:,0], train_data[:,1]], y=train_data[:,2], batch_size=64, epochs=10, \n",
    "                    validation_split=0.2, verbose=1)"
   ]
  },
  {
   "cell_type": "code",
   "execution_count": null,
   "id": "8eebb35e",
   "metadata": {},
   "outputs": [],
   "source": [
    "# Save the model\n",
    "model.save('trained_gmf.h5')"
   ]
  },
  {
   "cell_type": "code",
   "execution_count": 22,
   "id": "bcab0355",
   "metadata": {},
   "outputs": [
    {
     "name": "stderr",
     "output_type": "stream",
     "text": [
      "2023-04-19 15:41:43.388970: W tensorflow/core/platform/profile_utils/cpu_utils.cc:128] Failed to get CPU frequency: 0 Hz\n",
      "2023-04-19 15:41:43.560924: I tensorflow/core/grappler/optimizers/custom_graph_optimizer_registry.cc:114] Plugin optimizer for device_type GPU is enabled.\n"
     ]
    },
    {
     "name": "stdout",
     "output_type": "stream",
     "text": [
      "6562/6562 [==============================] - 11s 1ms/step\n"
     ]
    }
   ],
   "source": [
    "# Make predictions for the test set\n",
    "predictions = model.predict([test_data[:,0], test_data[:,1]])\n"
   ]
  },
  {
   "cell_type": "code",
   "execution_count": 23,
   "id": "15ee8af7",
   "metadata": {},
   "outputs": [
    {
     "name": "stdout",
     "output_type": "stream",
     "text": [
      "RMSE: 2.0108634061940194\n"
     ]
    }
   ],
   "source": [
    "# Calculate RMSE\n",
    "rmse = sqrt(mean_squared_error(test_data[:,2], predictions))\n",
    "print('RMSE:', rmse)"
   ]
  },
  {
   "cell_type": "code",
   "execution_count": 26,
   "id": "20bdcf0e",
   "metadata": {},
   "outputs": [],
   "source": [
    "# Display predictions as userid, movies, and predicted rating\n",
    "results = pd.DataFrame({'userId': test_data[:,0], 'movieId': test_data[:,1], 'predicted_rating': predictions.flatten()})"
   ]
  },
  {
   "cell_type": "code",
   "execution_count": 27,
   "id": "6368424c",
   "metadata": {},
   "outputs": [
    {
     "data": {
      "text/html": [
       "<div>\n",
       "<style scoped>\n",
       "    .dataframe tbody tr th:only-of-type {\n",
       "        vertical-align: middle;\n",
       "    }\n",
       "\n",
       "    .dataframe tbody tr th {\n",
       "        vertical-align: top;\n",
       "    }\n",
       "\n",
       "    .dataframe thead th {\n",
       "        text-align: right;\n",
       "    }\n",
       "</style>\n",
       "<table border=\"1\" class=\"dataframe\">\n",
       "  <thead>\n",
       "    <tr style=\"text-align: right;\">\n",
       "      <th></th>\n",
       "      <th>userId</th>\n",
       "      <th>movieId</th>\n",
       "      <th>predicted_rating</th>\n",
       "    </tr>\n",
       "  </thead>\n",
       "  <tbody>\n",
       "    <tr>\n",
       "      <th>0</th>\n",
       "      <td>1</td>\n",
       "      <td>29</td>\n",
       "      <td>1.377288</td>\n",
       "    </tr>\n",
       "    <tr>\n",
       "      <th>1</th>\n",
       "      <td>1</td>\n",
       "      <td>223</td>\n",
       "      <td>1.272934</td>\n",
       "    </tr>\n",
       "    <tr>\n",
       "      <th>2</th>\n",
       "      <td>1</td>\n",
       "      <td>296</td>\n",
       "      <td>1.972474</td>\n",
       "    </tr>\n",
       "    <tr>\n",
       "      <th>3</th>\n",
       "      <td>1</td>\n",
       "      <td>318</td>\n",
       "      <td>2.568789</td>\n",
       "    </tr>\n",
       "    <tr>\n",
       "      <th>4</th>\n",
       "      <td>1</td>\n",
       "      <td>1201</td>\n",
       "      <td>1.299395</td>\n",
       "    </tr>\n",
       "    <tr>\n",
       "      <th>...</th>\n",
       "      <td>...</td>\n",
       "      <td>...</td>\n",
       "      <td>...</td>\n",
       "    </tr>\n",
       "    <tr>\n",
       "      <th>209976</th>\n",
       "      <td>7119</td>\n",
       "      <td>150</td>\n",
       "      <td>1.842330</td>\n",
       "    </tr>\n",
       "    <tr>\n",
       "      <th>209977</th>\n",
       "      <td>7119</td>\n",
       "      <td>344</td>\n",
       "      <td>1.533092</td>\n",
       "    </tr>\n",
       "    <tr>\n",
       "      <th>209978</th>\n",
       "      <td>7119</td>\n",
       "      <td>349</td>\n",
       "      <td>1.704445</td>\n",
       "    </tr>\n",
       "    <tr>\n",
       "      <th>209979</th>\n",
       "      <td>7119</td>\n",
       "      <td>356</td>\n",
       "      <td>2.051096</td>\n",
       "    </tr>\n",
       "    <tr>\n",
       "      <th>209980</th>\n",
       "      <td>7120</td>\n",
       "      <td>260</td>\n",
       "      <td>2.469312</td>\n",
       "    </tr>\n",
       "  </tbody>\n",
       "</table>\n",
       "<p>209981 rows × 3 columns</p>\n",
       "</div>"
      ],
      "text/plain": [
       "        userId  movieId  predicted_rating\n",
       "0            1       29          1.377288\n",
       "1            1      223          1.272934\n",
       "2            1      296          1.972474\n",
       "3            1      318          2.568789\n",
       "4            1     1201          1.299395\n",
       "...        ...      ...               ...\n",
       "209976    7119      150          1.842330\n",
       "209977    7119      344          1.533092\n",
       "209978    7119      349          1.704445\n",
       "209979    7119      356          2.051096\n",
       "209980    7120      260          2.469312\n",
       "\n",
       "[209981 rows x 3 columns]"
      ]
     },
     "execution_count": 27,
     "metadata": {},
     "output_type": "execute_result"
    }
   ],
   "source": [
    "results"
   ]
  },
  {
   "cell_type": "code",
   "execution_count": 42,
   "id": "51f62fac",
   "metadata": {},
   "outputs": [],
   "source": [
    "# # Print example predictions\n",
    "# test_users = np.unique(test_data[:,0])\n",
    "# for user in test_users[:10]:\n",
    "#     user_ratings = test_data[test_data[:,0] == user]\n",
    "#     user_predictions = model.predict([user_ratings[:,0], user_ratings[:,1]])\n",
    "#     top_ratings_indices = user_predictions.flatten().argsort()[-3:][::-1]\n",
    "#     recommended_item_ids = [test_data[i] for i in top_ratings_indices]\n",
    "#     print('Prediction {}: {}'.format(user, recommended_item_ids))"
   ]
  },
  {
   "cell_type": "code",
   "execution_count": 21,
   "id": "f8ddc50c",
   "metadata": {},
   "outputs": [],
   "source": [
    "# Load the model\n",
    "from tensorflow.keras.models import load_model\n",
    "\n",
    "model = load_model('trained_gmf.h5', compile=False)"
   ]
  },
  {
   "cell_type": "markdown",
   "id": "c1c49a45",
   "metadata": {},
   "source": [
    "## MLP"
   ]
  },
  {
   "cell_type": "code",
   "execution_count": 25,
   "id": "bafd0a9d",
   "metadata": {},
   "outputs": [],
   "source": [
    "import numpy as np\n",
    "import pandas as pd\n",
    "import tensorflow as tf\n",
    "from sklearn.model_selection import train_test_split\n",
    "from tensorflow.keras.layers import Input, Dense, Embedding, Flatten, Concatenate, Dropout\n",
    "from tensorflow.keras.models import Model"
   ]
  },
  {
   "cell_type": "code",
   "execution_count": 28,
   "id": "84aa9970",
   "metadata": {},
   "outputs": [
    {
     "data": {
      "text/html": [
       "<div>\n",
       "<style scoped>\n",
       "    .dataframe tbody tr th:only-of-type {\n",
       "        vertical-align: middle;\n",
       "    }\n",
       "\n",
       "    .dataframe tbody tr th {\n",
       "        vertical-align: top;\n",
       "    }\n",
       "\n",
       "    .dataframe thead th {\n",
       "        text-align: right;\n",
       "    }\n",
       "</style>\n",
       "<table border=\"1\" class=\"dataframe\">\n",
       "  <thead>\n",
       "    <tr style=\"text-align: right;\">\n",
       "      <th></th>\n",
       "      <th>userId</th>\n",
       "      <th>movieId</th>\n",
       "      <th>rating</th>\n",
       "      <th>timestamp</th>\n",
       "    </tr>\n",
       "  </thead>\n",
       "  <tbody>\n",
       "    <tr>\n",
       "      <th>0</th>\n",
       "      <td>1</td>\n",
       "      <td>2</td>\n",
       "      <td>3.5</td>\n",
       "      <td>1112486027</td>\n",
       "    </tr>\n",
       "    <tr>\n",
       "      <th>1</th>\n",
       "      <td>1</td>\n",
       "      <td>29</td>\n",
       "      <td>3.5</td>\n",
       "      <td>1112484676</td>\n",
       "    </tr>\n",
       "    <tr>\n",
       "      <th>2</th>\n",
       "      <td>1</td>\n",
       "      <td>32</td>\n",
       "      <td>3.5</td>\n",
       "      <td>1112484819</td>\n",
       "    </tr>\n",
       "    <tr>\n",
       "      <th>3</th>\n",
       "      <td>1</td>\n",
       "      <td>47</td>\n",
       "      <td>3.5</td>\n",
       "      <td>1112484727</td>\n",
       "    </tr>\n",
       "    <tr>\n",
       "      <th>4</th>\n",
       "      <td>1</td>\n",
       "      <td>50</td>\n",
       "      <td>3.5</td>\n",
       "      <td>1112484580</td>\n",
       "    </tr>\n",
       "    <tr>\n",
       "      <th>...</th>\n",
       "      <td>...</td>\n",
       "      <td>...</td>\n",
       "      <td>...</td>\n",
       "      <td>...</td>\n",
       "    </tr>\n",
       "    <tr>\n",
       "      <th>1048570</th>\n",
       "      <td>7120</td>\n",
       "      <td>168</td>\n",
       "      <td>5.0</td>\n",
       "      <td>1175543061</td>\n",
       "    </tr>\n",
       "    <tr>\n",
       "      <th>1048571</th>\n",
       "      <td>7120</td>\n",
       "      <td>253</td>\n",
       "      <td>4.0</td>\n",
       "      <td>1175542225</td>\n",
       "    </tr>\n",
       "    <tr>\n",
       "      <th>1048572</th>\n",
       "      <td>7120</td>\n",
       "      <td>260</td>\n",
       "      <td>5.0</td>\n",
       "      <td>1175542035</td>\n",
       "    </tr>\n",
       "    <tr>\n",
       "      <th>1048573</th>\n",
       "      <td>7120</td>\n",
       "      <td>261</td>\n",
       "      <td>4.0</td>\n",
       "      <td>1175543376</td>\n",
       "    </tr>\n",
       "    <tr>\n",
       "      <th>1048574</th>\n",
       "      <td>7120</td>\n",
       "      <td>266</td>\n",
       "      <td>3.5</td>\n",
       "      <td>1175542454</td>\n",
       "    </tr>\n",
       "  </tbody>\n",
       "</table>\n",
       "<p>1048575 rows × 4 columns</p>\n",
       "</div>"
      ],
      "text/plain": [
       "         userId  movieId  rating   timestamp\n",
       "0             1        2     3.5  1112486027\n",
       "1             1       29     3.5  1112484676\n",
       "2             1       32     3.5  1112484819\n",
       "3             1       47     3.5  1112484727\n",
       "4             1       50     3.5  1112484580\n",
       "...         ...      ...     ...         ...\n",
       "1048570    7120      168     5.0  1175543061\n",
       "1048571    7120      253     4.0  1175542225\n",
       "1048572    7120      260     5.0  1175542035\n",
       "1048573    7120      261     4.0  1175543376\n",
       "1048574    7120      266     3.5  1175542454\n",
       "\n",
       "[1048575 rows x 4 columns]"
      ]
     },
     "execution_count": 28,
     "metadata": {},
     "output_type": "execute_result"
    }
   ],
   "source": [
    "# Load data\n",
    "ratings_df = pd.read_csv('ratings.csv')\n",
    "ratings_df"
   ]
  },
  {
   "cell_type": "code",
   "execution_count": 29,
   "id": "ce039b40",
   "metadata": {},
   "outputs": [],
   "source": [
    "# Split data into training and test sets\n",
    "train_df, test_df = train_test_split(ratings_df, test_size=0.2)"
   ]
  },
  {
   "cell_type": "code",
   "execution_count": 30,
   "id": "dd51c1b7",
   "metadata": {},
   "outputs": [],
   "source": [
    "# Create embedding layer for user IDs\n",
    "user_id_input = Input(shape=(1,))\n",
    "user_embedding = Embedding(input_dim=train_df['userId'].max()+1, output_dim=32)(user_id_input)\n",
    "user_flatten = Flatten()(user_embedding)\n",
    "\n",
    "# Create embedding layer for movie IDs\n",
    "movie_id_input = Input(shape=(1,))\n",
    "movie_embedding = Embedding(input_dim=train_df['movieId'].max()+1, output_dim=32)(movie_id_input)\n",
    "movie_flatten = Flatten()(movie_embedding)\n",
    "\n",
    "# Concatenate user and movie embeddings\n",
    "concatenate = Concatenate()([user_flatten, movie_flatten])\n",
    "\n",
    "# Add dense layers to create MLP architecture\n",
    "dense_1 = Dense(units=64, activation='relu')(concatenate)\n",
    "dropout_1 = Dropout(0.2)(dense_1)\n",
    "dense_2 = Dense(units=32, activation='relu')(dropout_1)\n",
    "dropout_2 = Dropout(0.2)(dense_2)\n",
    "dense_3 = Dense(units=16, activation='relu')(dropout_2)\n",
    "output = Dense(units=1, activation='linear')(dense_3)\n",
    "\n",
    "# Create model and compile\n",
    "model = Model(inputs=[user_id_input, movie_id_input], outputs=output)\n",
    "model.compile(optimizer='adam', loss='mean_squared_error')"
   ]
  },
  {
   "cell_type": "code",
   "execution_count": 29,
   "id": "16f6f346",
   "metadata": {},
   "outputs": [
    {
     "name": "stdout",
     "output_type": "stream",
     "text": [
      "Epoch 1/10\n"
     ]
    },
    {
     "name": "stderr",
     "output_type": "stream",
     "text": [
      "2023-03-23 18:17:49.522145: I tensorflow/core/grappler/optimizers/custom_graph_optimizer_registry.cc:114] Plugin optimizer for device_type GPU is enabled.\n"
     ]
    },
    {
     "name": "stdout",
     "output_type": "stream",
     "text": [
      "10486/10486 [==============================] - ETA: 0s - loss: 0.8520"
     ]
    },
    {
     "name": "stderr",
     "output_type": "stream",
     "text": [
      "2023-03-23 18:21:08.469320: I tensorflow/core/grappler/optimizers/custom_graph_optimizer_registry.cc:114] Plugin optimizer for device_type GPU is enabled.\n"
     ]
    },
    {
     "name": "stdout",
     "output_type": "stream",
     "text": [
      "10486/10486 [==============================] - 206s 20ms/step - loss: 0.8520 - val_loss: 0.8105\n",
      "Epoch 2/10\n",
      "10486/10486 [==============================] - 209s 20ms/step - loss: 0.7240 - val_loss: 0.7381\n",
      "Epoch 3/10\n",
      "10486/10486 [==============================] - 206s 20ms/step - loss: 0.6922 - val_loss: 0.7279\n",
      "Epoch 4/10\n",
      "10486/10486 [==============================] - 205s 20ms/step - loss: 0.6682 - val_loss: 0.7078\n",
      "Epoch 5/10\n",
      "10486/10486 [==============================] - 209s 20ms/step - loss: 0.6490 - val_loss: 0.7039\n",
      "Epoch 6/10\n",
      "10486/10486 [==============================] - 215s 20ms/step - loss: 0.6305 - val_loss: 0.6994\n",
      "Epoch 7/10\n",
      "10486/10486 [==============================] - 217s 21ms/step - loss: 0.6132 - val_loss: 0.7163\n",
      "Epoch 8/10\n",
      "10486/10486 [==============================] - 210s 20ms/step - loss: 0.5970 - val_loss: 0.7083\n",
      "Epoch 9/10\n",
      "10486/10486 [==============================] - 206s 20ms/step - loss: 0.5811 - val_loss: 0.7037\n",
      "Epoch 10/10\n",
      "10486/10486 [==============================] - 206s 20ms/step - loss: 0.5658 - val_loss: 0.7035\n"
     ]
    }
   ],
   "source": [
    "# Fit model to training data\n",
    "history = model.fit(x=[train_df['userId'], train_df['movieId']], y=train_df['rating'], batch_size=64, epochs=10, validation_split=0.2)"
   ]
  },
  {
   "cell_type": "code",
   "execution_count": 32,
   "id": "fa448218",
   "metadata": {},
   "outputs": [],
   "source": [
    "# Save the model\n",
    "model.save('trained_mlp.h5')"
   ]
  },
  {
   "cell_type": "code",
   "execution_count": 32,
   "id": "b11bf873",
   "metadata": {},
   "outputs": [
    {
     "name": "stderr",
     "output_type": "stream",
     "text": [
      "2023-04-19 15:44:12.741159: I tensorflow/core/grappler/optimizers/custom_graph_optimizer_registry.cc:114] Plugin optimizer for device_type GPU is enabled.\n"
     ]
    },
    {
     "name": "stdout",
     "output_type": "stream",
     "text": [
      "6554/6554 [==============================] - 10s 1ms/step\n"
     ]
    }
   ],
   "source": [
    "# Make predictions on test data\n",
    "predictions = model.predict(x=[test_df['userId'], test_df['movieId']])"
   ]
  },
  {
   "cell_type": "code",
   "execution_count": 33,
   "id": "b3d807d6",
   "metadata": {},
   "outputs": [],
   "source": [
    "# Display predictions as userid, movies, and predicted rating\n",
    "results = pd.DataFrame({'userId': test_df['userId'], 'movieId': test_df['movieId'], 'predicted_rating': predictions.flatten()})"
   ]
  },
  {
   "cell_type": "code",
   "execution_count": 34,
   "id": "379efa36",
   "metadata": {},
   "outputs": [
    {
     "data": {
      "text/html": [
       "<div>\n",
       "<style scoped>\n",
       "    .dataframe tbody tr th:only-of-type {\n",
       "        vertical-align: middle;\n",
       "    }\n",
       "\n",
       "    .dataframe tbody tr th {\n",
       "        vertical-align: top;\n",
       "    }\n",
       "\n",
       "    .dataframe thead th {\n",
       "        text-align: right;\n",
       "    }\n",
       "</style>\n",
       "<table border=\"1\" class=\"dataframe\">\n",
       "  <thead>\n",
       "    <tr style=\"text-align: right;\">\n",
       "      <th></th>\n",
       "      <th>userId</th>\n",
       "      <th>movieId</th>\n",
       "      <th>predicted_rating</th>\n",
       "    </tr>\n",
       "  </thead>\n",
       "  <tbody>\n",
       "    <tr>\n",
       "      <th>917937</th>\n",
       "      <td>6129</td>\n",
       "      <td>442</td>\n",
       "      <td>2.385502</td>\n",
       "    </tr>\n",
       "    <tr>\n",
       "      <th>148613</th>\n",
       "      <td>984</td>\n",
       "      <td>1569</td>\n",
       "      <td>3.519360</td>\n",
       "    </tr>\n",
       "    <tr>\n",
       "      <th>111216</th>\n",
       "      <td>768</td>\n",
       "      <td>457</td>\n",
       "      <td>3.700163</td>\n",
       "    </tr>\n",
       "    <tr>\n",
       "      <th>40324</th>\n",
       "      <td>309</td>\n",
       "      <td>2028</td>\n",
       "      <td>4.098413</td>\n",
       "    </tr>\n",
       "    <tr>\n",
       "      <th>779334</th>\n",
       "      <td>5187</td>\n",
       "      <td>1097</td>\n",
       "      <td>3.953411</td>\n",
       "    </tr>\n",
       "    <tr>\n",
       "      <th>...</th>\n",
       "      <td>...</td>\n",
       "      <td>...</td>\n",
       "      <td>...</td>\n",
       "    </tr>\n",
       "    <tr>\n",
       "      <th>299621</th>\n",
       "      <td>2051</td>\n",
       "      <td>6119</td>\n",
       "      <td>3.575153</td>\n",
       "    </tr>\n",
       "    <tr>\n",
       "      <th>704009</th>\n",
       "      <td>4673</td>\n",
       "      <td>1270</td>\n",
       "      <td>4.084152</td>\n",
       "    </tr>\n",
       "    <tr>\n",
       "      <th>585273</th>\n",
       "      <td>3921</td>\n",
       "      <td>2013</td>\n",
       "      <td>1.837890</td>\n",
       "    </tr>\n",
       "    <tr>\n",
       "      <th>284384</th>\n",
       "      <td>1959</td>\n",
       "      <td>4701</td>\n",
       "      <td>3.034858</td>\n",
       "    </tr>\n",
       "    <tr>\n",
       "      <th>6075</th>\n",
       "      <td>54</td>\n",
       "      <td>3710</td>\n",
       "      <td>2.550981</td>\n",
       "    </tr>\n",
       "  </tbody>\n",
       "</table>\n",
       "<p>209715 rows × 3 columns</p>\n",
       "</div>"
      ],
      "text/plain": [
       "        userId  movieId  predicted_rating\n",
       "917937    6129      442          2.385502\n",
       "148613     984     1569          3.519360\n",
       "111216     768      457          3.700163\n",
       "40324      309     2028          4.098413\n",
       "779334    5187     1097          3.953411\n",
       "...        ...      ...               ...\n",
       "299621    2051     6119          3.575153\n",
       "704009    4673     1270          4.084152\n",
       "585273    3921     2013          1.837890\n",
       "284384    1959     4701          3.034858\n",
       "6075        54     3710          2.550981\n",
       "\n",
       "[209715 rows x 3 columns]"
      ]
     },
     "execution_count": 34,
     "metadata": {},
     "output_type": "execute_result"
    }
   ],
   "source": [
    "results"
   ]
  },
  {
   "cell_type": "code",
   "execution_count": 31,
   "id": "ca5f746d",
   "metadata": {},
   "outputs": [],
   "source": [
    "# Load the model\n",
    "from tensorflow.keras.models import load_model\n",
    "\n",
    "model = load_model('trained_mlp.h5', compile=False)"
   ]
  },
  {
   "cell_type": "code",
   "execution_count": null,
   "id": "276a7623",
   "metadata": {},
   "outputs": [],
   "source": []
  },
  {
   "cell_type": "markdown",
   "id": "c2ae7850",
   "metadata": {},
   "source": [
    "## NeuMF"
   ]
  },
  {
   "cell_type": "code",
   "execution_count": 1,
   "id": "96c3e8fb",
   "metadata": {},
   "outputs": [],
   "source": [
    "import pandas as pd\n",
    "import numpy as np\n",
    "from keras import Model\n",
    "from keras.layers import Input, Dense, Concatenate, Dropout, Embedding, Flatten\n",
    "from keras.optimizers import Adam\n",
    "from sklearn.model_selection import train_test_split\n",
    "from keras.layers import Input, Embedding, Flatten, Dense, Concatenate, Multiply\n"
   ]
  },
  {
   "cell_type": "code",
   "execution_count": 2,
   "id": "e4e78245",
   "metadata": {},
   "outputs": [],
   "source": [
    "from keras.regularizers import l2\n"
   ]
  },
  {
   "cell_type": "code",
   "execution_count": 3,
   "id": "e679d954",
   "metadata": {},
   "outputs": [],
   "source": [
    "movies = pd.read_csv('movies.csv')\n",
    "ratings = pd.read_csv('ratings.csv')"
   ]
  },
  {
   "cell_type": "code",
   "execution_count": 4,
   "id": "7efc3dd2",
   "metadata": {},
   "outputs": [
    {
     "data": {
      "text/html": [
       "<div>\n",
       "<style scoped>\n",
       "    .dataframe tbody tr th:only-of-type {\n",
       "        vertical-align: middle;\n",
       "    }\n",
       "\n",
       "    .dataframe tbody tr th {\n",
       "        vertical-align: top;\n",
       "    }\n",
       "\n",
       "    .dataframe thead th {\n",
       "        text-align: right;\n",
       "    }\n",
       "</style>\n",
       "<table border=\"1\" class=\"dataframe\">\n",
       "  <thead>\n",
       "    <tr style=\"text-align: right;\">\n",
       "      <th></th>\n",
       "      <th>movieId</th>\n",
       "      <th>title</th>\n",
       "      <th>genres</th>\n",
       "    </tr>\n",
       "  </thead>\n",
       "  <tbody>\n",
       "    <tr>\n",
       "      <th>0</th>\n",
       "      <td>1</td>\n",
       "      <td>Toy Story (1995)</td>\n",
       "      <td>Adventure|Animation|Children|Comedy|Fantasy</td>\n",
       "    </tr>\n",
       "    <tr>\n",
       "      <th>1</th>\n",
       "      <td>2</td>\n",
       "      <td>Jumanji (1995)</td>\n",
       "      <td>Adventure|Children|Fantasy</td>\n",
       "    </tr>\n",
       "    <tr>\n",
       "      <th>2</th>\n",
       "      <td>3</td>\n",
       "      <td>Grumpier Old Men (1995)</td>\n",
       "      <td>Comedy|Romance</td>\n",
       "    </tr>\n",
       "    <tr>\n",
       "      <th>3</th>\n",
       "      <td>4</td>\n",
       "      <td>Waiting to Exhale (1995)</td>\n",
       "      <td>Comedy|Drama|Romance</td>\n",
       "    </tr>\n",
       "    <tr>\n",
       "      <th>4</th>\n",
       "      <td>5</td>\n",
       "      <td>Father of the Bride Part II (1995)</td>\n",
       "      <td>Comedy</td>\n",
       "    </tr>\n",
       "    <tr>\n",
       "      <th>...</th>\n",
       "      <td>...</td>\n",
       "      <td>...</td>\n",
       "      <td>...</td>\n",
       "    </tr>\n",
       "    <tr>\n",
       "      <th>27273</th>\n",
       "      <td>131254</td>\n",
       "      <td>Kein Bund für's Leben (2007)</td>\n",
       "      <td>Comedy</td>\n",
       "    </tr>\n",
       "    <tr>\n",
       "      <th>27274</th>\n",
       "      <td>131256</td>\n",
       "      <td>Feuer, Eis &amp; Dosenbier (2002)</td>\n",
       "      <td>Comedy</td>\n",
       "    </tr>\n",
       "    <tr>\n",
       "      <th>27275</th>\n",
       "      <td>131258</td>\n",
       "      <td>The Pirates (2014)</td>\n",
       "      <td>Adventure</td>\n",
       "    </tr>\n",
       "    <tr>\n",
       "      <th>27276</th>\n",
       "      <td>131260</td>\n",
       "      <td>Rentun Ruusu (2001)</td>\n",
       "      <td>(no genres listed)</td>\n",
       "    </tr>\n",
       "    <tr>\n",
       "      <th>27277</th>\n",
       "      <td>131262</td>\n",
       "      <td>Innocence (2014)</td>\n",
       "      <td>Adventure|Fantasy|Horror</td>\n",
       "    </tr>\n",
       "  </tbody>\n",
       "</table>\n",
       "<p>27278 rows × 3 columns</p>\n",
       "</div>"
      ],
      "text/plain": [
       "       movieId                               title  \\\n",
       "0            1                    Toy Story (1995)   \n",
       "1            2                      Jumanji (1995)   \n",
       "2            3             Grumpier Old Men (1995)   \n",
       "3            4            Waiting to Exhale (1995)   \n",
       "4            5  Father of the Bride Part II (1995)   \n",
       "...        ...                                 ...   \n",
       "27273   131254        Kein Bund für's Leben (2007)   \n",
       "27274   131256       Feuer, Eis & Dosenbier (2002)   \n",
       "27275   131258                  The Pirates (2014)   \n",
       "27276   131260                 Rentun Ruusu (2001)   \n",
       "27277   131262                    Innocence (2014)   \n",
       "\n",
       "                                            genres  \n",
       "0      Adventure|Animation|Children|Comedy|Fantasy  \n",
       "1                       Adventure|Children|Fantasy  \n",
       "2                                   Comedy|Romance  \n",
       "3                             Comedy|Drama|Romance  \n",
       "4                                           Comedy  \n",
       "...                                            ...  \n",
       "27273                                       Comedy  \n",
       "27274                                       Comedy  \n",
       "27275                                    Adventure  \n",
       "27276                           (no genres listed)  \n",
       "27277                     Adventure|Fantasy|Horror  \n",
       "\n",
       "[27278 rows x 3 columns]"
      ]
     },
     "execution_count": 4,
     "metadata": {},
     "output_type": "execute_result"
    }
   ],
   "source": [
    "movies"
   ]
  },
  {
   "cell_type": "code",
   "execution_count": 5,
   "id": "614b0ebb",
   "metadata": {},
   "outputs": [
    {
     "data": {
      "text/html": [
       "<div>\n",
       "<style scoped>\n",
       "    .dataframe tbody tr th:only-of-type {\n",
       "        vertical-align: middle;\n",
       "    }\n",
       "\n",
       "    .dataframe tbody tr th {\n",
       "        vertical-align: top;\n",
       "    }\n",
       "\n",
       "    .dataframe thead th {\n",
       "        text-align: right;\n",
       "    }\n",
       "</style>\n",
       "<table border=\"1\" class=\"dataframe\">\n",
       "  <thead>\n",
       "    <tr style=\"text-align: right;\">\n",
       "      <th></th>\n",
       "      <th>userId</th>\n",
       "      <th>movieId</th>\n",
       "      <th>rating</th>\n",
       "      <th>timestamp</th>\n",
       "    </tr>\n",
       "  </thead>\n",
       "  <tbody>\n",
       "    <tr>\n",
       "      <th>0</th>\n",
       "      <td>1</td>\n",
       "      <td>2</td>\n",
       "      <td>3.5</td>\n",
       "      <td>1112486027</td>\n",
       "    </tr>\n",
       "    <tr>\n",
       "      <th>1</th>\n",
       "      <td>1</td>\n",
       "      <td>29</td>\n",
       "      <td>3.5</td>\n",
       "      <td>1112484676</td>\n",
       "    </tr>\n",
       "    <tr>\n",
       "      <th>2</th>\n",
       "      <td>1</td>\n",
       "      <td>32</td>\n",
       "      <td>3.5</td>\n",
       "      <td>1112484819</td>\n",
       "    </tr>\n",
       "    <tr>\n",
       "      <th>3</th>\n",
       "      <td>1</td>\n",
       "      <td>47</td>\n",
       "      <td>3.5</td>\n",
       "      <td>1112484727</td>\n",
       "    </tr>\n",
       "    <tr>\n",
       "      <th>4</th>\n",
       "      <td>1</td>\n",
       "      <td>50</td>\n",
       "      <td>3.5</td>\n",
       "      <td>1112484580</td>\n",
       "    </tr>\n",
       "    <tr>\n",
       "      <th>...</th>\n",
       "      <td>...</td>\n",
       "      <td>...</td>\n",
       "      <td>...</td>\n",
       "      <td>...</td>\n",
       "    </tr>\n",
       "    <tr>\n",
       "      <th>1048570</th>\n",
       "      <td>7120</td>\n",
       "      <td>168</td>\n",
       "      <td>5.0</td>\n",
       "      <td>1175543061</td>\n",
       "    </tr>\n",
       "    <tr>\n",
       "      <th>1048571</th>\n",
       "      <td>7120</td>\n",
       "      <td>253</td>\n",
       "      <td>4.0</td>\n",
       "      <td>1175542225</td>\n",
       "    </tr>\n",
       "    <tr>\n",
       "      <th>1048572</th>\n",
       "      <td>7120</td>\n",
       "      <td>260</td>\n",
       "      <td>5.0</td>\n",
       "      <td>1175542035</td>\n",
       "    </tr>\n",
       "    <tr>\n",
       "      <th>1048573</th>\n",
       "      <td>7120</td>\n",
       "      <td>261</td>\n",
       "      <td>4.0</td>\n",
       "      <td>1175543376</td>\n",
       "    </tr>\n",
       "    <tr>\n",
       "      <th>1048574</th>\n",
       "      <td>7120</td>\n",
       "      <td>266</td>\n",
       "      <td>3.5</td>\n",
       "      <td>1175542454</td>\n",
       "    </tr>\n",
       "  </tbody>\n",
       "</table>\n",
       "<p>1048575 rows × 4 columns</p>\n",
       "</div>"
      ],
      "text/plain": [
       "         userId  movieId  rating   timestamp\n",
       "0             1        2     3.5  1112486027\n",
       "1             1       29     3.5  1112484676\n",
       "2             1       32     3.5  1112484819\n",
       "3             1       47     3.5  1112484727\n",
       "4             1       50     3.5  1112484580\n",
       "...         ...      ...     ...         ...\n",
       "1048570    7120      168     5.0  1175543061\n",
       "1048571    7120      253     4.0  1175542225\n",
       "1048572    7120      260     5.0  1175542035\n",
       "1048573    7120      261     4.0  1175543376\n",
       "1048574    7120      266     3.5  1175542454\n",
       "\n",
       "[1048575 rows x 4 columns]"
      ]
     },
     "execution_count": 5,
     "metadata": {},
     "output_type": "execute_result"
    }
   ],
   "source": [
    "ratings"
   ]
  },
  {
   "cell_type": "code",
   "execution_count": 25,
   "id": "1bc0713e",
   "metadata": {},
   "outputs": [],
   "source": [
    "# Split data into train and test sets\n",
    "train, test = train_test_split(ratings, test_size=0.2, random_state=42)"
   ]
  },
  {
   "cell_type": "code",
   "execution_count": 26,
   "id": "24514c46",
   "metadata": {},
   "outputs": [],
   "source": [
    "# Create user-item matrix for train and test sets\n",
    "train_matrix = train.pivot(index='userId', columns='movieId', values='rating').fillna(0)\n",
    "test_matrix = test.pivot(index='userId', columns='movieId', values='rating').fillna(0)"
   ]
  },
  {
   "cell_type": "code",
   "execution_count": 27,
   "id": "a5351cae",
   "metadata": {},
   "outputs": [
    {
     "data": {
      "text/html": [
       "<div>\n",
       "<style scoped>\n",
       "    .dataframe tbody tr th:only-of-type {\n",
       "        vertical-align: middle;\n",
       "    }\n",
       "\n",
       "    .dataframe tbody tr th {\n",
       "        vertical-align: top;\n",
       "    }\n",
       "\n",
       "    .dataframe thead th {\n",
       "        text-align: right;\n",
       "    }\n",
       "</style>\n",
       "<table border=\"1\" class=\"dataframe\">\n",
       "  <thead>\n",
       "    <tr style=\"text-align: right;\">\n",
       "      <th>movieId</th>\n",
       "      <th>1</th>\n",
       "      <th>2</th>\n",
       "      <th>3</th>\n",
       "      <th>4</th>\n",
       "      <th>5</th>\n",
       "      <th>6</th>\n",
       "      <th>7</th>\n",
       "      <th>8</th>\n",
       "      <th>9</th>\n",
       "      <th>10</th>\n",
       "      <th>...</th>\n",
       "      <th>129235</th>\n",
       "      <th>129303</th>\n",
       "      <th>129350</th>\n",
       "      <th>129354</th>\n",
       "      <th>129428</th>\n",
       "      <th>129707</th>\n",
       "      <th>130073</th>\n",
       "      <th>130462</th>\n",
       "      <th>130490</th>\n",
       "      <th>130642</th>\n",
       "    </tr>\n",
       "    <tr>\n",
       "      <th>userId</th>\n",
       "      <th></th>\n",
       "      <th></th>\n",
       "      <th></th>\n",
       "      <th></th>\n",
       "      <th></th>\n",
       "      <th></th>\n",
       "      <th></th>\n",
       "      <th></th>\n",
       "      <th></th>\n",
       "      <th></th>\n",
       "      <th></th>\n",
       "      <th></th>\n",
       "      <th></th>\n",
       "      <th></th>\n",
       "      <th></th>\n",
       "      <th></th>\n",
       "      <th></th>\n",
       "      <th></th>\n",
       "      <th></th>\n",
       "      <th></th>\n",
       "      <th></th>\n",
       "    </tr>\n",
       "  </thead>\n",
       "  <tbody>\n",
       "    <tr>\n",
       "      <th>1</th>\n",
       "      <td>0.0</td>\n",
       "      <td>0.0</td>\n",
       "      <td>0.0</td>\n",
       "      <td>0.0</td>\n",
       "      <td>0.0</td>\n",
       "      <td>0.0</td>\n",
       "      <td>0.0</td>\n",
       "      <td>0.0</td>\n",
       "      <td>0.0</td>\n",
       "      <td>0.0</td>\n",
       "      <td>...</td>\n",
       "      <td>0.0</td>\n",
       "      <td>0.0</td>\n",
       "      <td>0.0</td>\n",
       "      <td>0.0</td>\n",
       "      <td>0.0</td>\n",
       "      <td>0.0</td>\n",
       "      <td>0.0</td>\n",
       "      <td>0.0</td>\n",
       "      <td>0.0</td>\n",
       "      <td>0.0</td>\n",
       "    </tr>\n",
       "    <tr>\n",
       "      <th>2</th>\n",
       "      <td>0.0</td>\n",
       "      <td>0.0</td>\n",
       "      <td>0.0</td>\n",
       "      <td>0.0</td>\n",
       "      <td>0.0</td>\n",
       "      <td>0.0</td>\n",
       "      <td>0.0</td>\n",
       "      <td>0.0</td>\n",
       "      <td>0.0</td>\n",
       "      <td>0.0</td>\n",
       "      <td>...</td>\n",
       "      <td>0.0</td>\n",
       "      <td>0.0</td>\n",
       "      <td>0.0</td>\n",
       "      <td>0.0</td>\n",
       "      <td>0.0</td>\n",
       "      <td>0.0</td>\n",
       "      <td>0.0</td>\n",
       "      <td>0.0</td>\n",
       "      <td>0.0</td>\n",
       "      <td>0.0</td>\n",
       "    </tr>\n",
       "    <tr>\n",
       "      <th>3</th>\n",
       "      <td>4.0</td>\n",
       "      <td>0.0</td>\n",
       "      <td>0.0</td>\n",
       "      <td>0.0</td>\n",
       "      <td>0.0</td>\n",
       "      <td>0.0</td>\n",
       "      <td>0.0</td>\n",
       "      <td>0.0</td>\n",
       "      <td>0.0</td>\n",
       "      <td>0.0</td>\n",
       "      <td>...</td>\n",
       "      <td>0.0</td>\n",
       "      <td>0.0</td>\n",
       "      <td>0.0</td>\n",
       "      <td>0.0</td>\n",
       "      <td>0.0</td>\n",
       "      <td>0.0</td>\n",
       "      <td>0.0</td>\n",
       "      <td>0.0</td>\n",
       "      <td>0.0</td>\n",
       "      <td>0.0</td>\n",
       "    </tr>\n",
       "    <tr>\n",
       "      <th>4</th>\n",
       "      <td>0.0</td>\n",
       "      <td>0.0</td>\n",
       "      <td>0.0</td>\n",
       "      <td>0.0</td>\n",
       "      <td>0.0</td>\n",
       "      <td>0.0</td>\n",
       "      <td>0.0</td>\n",
       "      <td>0.0</td>\n",
       "      <td>0.0</td>\n",
       "      <td>4.0</td>\n",
       "      <td>...</td>\n",
       "      <td>0.0</td>\n",
       "      <td>0.0</td>\n",
       "      <td>0.0</td>\n",
       "      <td>0.0</td>\n",
       "      <td>0.0</td>\n",
       "      <td>0.0</td>\n",
       "      <td>0.0</td>\n",
       "      <td>0.0</td>\n",
       "      <td>0.0</td>\n",
       "      <td>0.0</td>\n",
       "    </tr>\n",
       "    <tr>\n",
       "      <th>5</th>\n",
       "      <td>0.0</td>\n",
       "      <td>3.0</td>\n",
       "      <td>0.0</td>\n",
       "      <td>0.0</td>\n",
       "      <td>0.0</td>\n",
       "      <td>0.0</td>\n",
       "      <td>0.0</td>\n",
       "      <td>0.0</td>\n",
       "      <td>0.0</td>\n",
       "      <td>0.0</td>\n",
       "      <td>...</td>\n",
       "      <td>0.0</td>\n",
       "      <td>0.0</td>\n",
       "      <td>0.0</td>\n",
       "      <td>0.0</td>\n",
       "      <td>0.0</td>\n",
       "      <td>0.0</td>\n",
       "      <td>0.0</td>\n",
       "      <td>0.0</td>\n",
       "      <td>0.0</td>\n",
       "      <td>0.0</td>\n",
       "    </tr>\n",
       "    <tr>\n",
       "      <th>...</th>\n",
       "      <td>...</td>\n",
       "      <td>...</td>\n",
       "      <td>...</td>\n",
       "      <td>...</td>\n",
       "      <td>...</td>\n",
       "      <td>...</td>\n",
       "      <td>...</td>\n",
       "      <td>...</td>\n",
       "      <td>...</td>\n",
       "      <td>...</td>\n",
       "      <td>...</td>\n",
       "      <td>...</td>\n",
       "      <td>...</td>\n",
       "      <td>...</td>\n",
       "      <td>...</td>\n",
       "      <td>...</td>\n",
       "      <td>...</td>\n",
       "      <td>...</td>\n",
       "      <td>...</td>\n",
       "      <td>...</td>\n",
       "      <td>...</td>\n",
       "    </tr>\n",
       "    <tr>\n",
       "      <th>7116</th>\n",
       "      <td>4.0</td>\n",
       "      <td>0.0</td>\n",
       "      <td>0.0</td>\n",
       "      <td>0.0</td>\n",
       "      <td>3.5</td>\n",
       "      <td>0.0</td>\n",
       "      <td>0.0</td>\n",
       "      <td>0.0</td>\n",
       "      <td>0.0</td>\n",
       "      <td>0.0</td>\n",
       "      <td>...</td>\n",
       "      <td>0.0</td>\n",
       "      <td>0.0</td>\n",
       "      <td>0.0</td>\n",
       "      <td>0.0</td>\n",
       "      <td>0.0</td>\n",
       "      <td>0.0</td>\n",
       "      <td>0.0</td>\n",
       "      <td>0.0</td>\n",
       "      <td>0.0</td>\n",
       "      <td>0.0</td>\n",
       "    </tr>\n",
       "    <tr>\n",
       "      <th>7117</th>\n",
       "      <td>4.0</td>\n",
       "      <td>0.0</td>\n",
       "      <td>4.0</td>\n",
       "      <td>0.0</td>\n",
       "      <td>0.0</td>\n",
       "      <td>5.0</td>\n",
       "      <td>3.0</td>\n",
       "      <td>0.0</td>\n",
       "      <td>1.0</td>\n",
       "      <td>3.0</td>\n",
       "      <td>...</td>\n",
       "      <td>0.0</td>\n",
       "      <td>0.0</td>\n",
       "      <td>0.0</td>\n",
       "      <td>0.0</td>\n",
       "      <td>0.0</td>\n",
       "      <td>0.0</td>\n",
       "      <td>0.0</td>\n",
       "      <td>0.0</td>\n",
       "      <td>0.0</td>\n",
       "      <td>0.0</td>\n",
       "    </tr>\n",
       "    <tr>\n",
       "      <th>7118</th>\n",
       "      <td>0.0</td>\n",
       "      <td>0.0</td>\n",
       "      <td>0.0</td>\n",
       "      <td>0.0</td>\n",
       "      <td>0.0</td>\n",
       "      <td>0.0</td>\n",
       "      <td>0.0</td>\n",
       "      <td>0.0</td>\n",
       "      <td>0.0</td>\n",
       "      <td>0.0</td>\n",
       "      <td>...</td>\n",
       "      <td>0.0</td>\n",
       "      <td>0.0</td>\n",
       "      <td>0.0</td>\n",
       "      <td>0.0</td>\n",
       "      <td>0.0</td>\n",
       "      <td>0.0</td>\n",
       "      <td>0.0</td>\n",
       "      <td>0.0</td>\n",
       "      <td>0.0</td>\n",
       "      <td>0.0</td>\n",
       "    </tr>\n",
       "    <tr>\n",
       "      <th>7119</th>\n",
       "      <td>5.0</td>\n",
       "      <td>0.0</td>\n",
       "      <td>0.0</td>\n",
       "      <td>0.0</td>\n",
       "      <td>0.0</td>\n",
       "      <td>0.0</td>\n",
       "      <td>0.0</td>\n",
       "      <td>0.0</td>\n",
       "      <td>0.0</td>\n",
       "      <td>0.0</td>\n",
       "      <td>...</td>\n",
       "      <td>0.0</td>\n",
       "      <td>0.0</td>\n",
       "      <td>0.0</td>\n",
       "      <td>0.0</td>\n",
       "      <td>0.0</td>\n",
       "      <td>0.0</td>\n",
       "      <td>0.0</td>\n",
       "      <td>0.0</td>\n",
       "      <td>0.0</td>\n",
       "      <td>0.0</td>\n",
       "    </tr>\n",
       "    <tr>\n",
       "      <th>7120</th>\n",
       "      <td>0.0</td>\n",
       "      <td>0.0</td>\n",
       "      <td>0.0</td>\n",
       "      <td>0.0</td>\n",
       "      <td>0.0</td>\n",
       "      <td>0.0</td>\n",
       "      <td>0.0</td>\n",
       "      <td>0.0</td>\n",
       "      <td>0.0</td>\n",
       "      <td>0.0</td>\n",
       "      <td>...</td>\n",
       "      <td>0.0</td>\n",
       "      <td>0.0</td>\n",
       "      <td>0.0</td>\n",
       "      <td>0.0</td>\n",
       "      <td>0.0</td>\n",
       "      <td>0.0</td>\n",
       "      <td>0.0</td>\n",
       "      <td>0.0</td>\n",
       "      <td>0.0</td>\n",
       "      <td>0.0</td>\n",
       "    </tr>\n",
       "  </tbody>\n",
       "</table>\n",
       "<p>7120 rows × 13478 columns</p>\n",
       "</div>"
      ],
      "text/plain": [
       "movieId  1       2       3       4       5       6       7       8       \\\n",
       "userId                                                                    \n",
       "1           0.0     0.0     0.0     0.0     0.0     0.0     0.0     0.0   \n",
       "2           0.0     0.0     0.0     0.0     0.0     0.0     0.0     0.0   \n",
       "3           4.0     0.0     0.0     0.0     0.0     0.0     0.0     0.0   \n",
       "4           0.0     0.0     0.0     0.0     0.0     0.0     0.0     0.0   \n",
       "5           0.0     3.0     0.0     0.0     0.0     0.0     0.0     0.0   \n",
       "...         ...     ...     ...     ...     ...     ...     ...     ...   \n",
       "7116        4.0     0.0     0.0     0.0     3.5     0.0     0.0     0.0   \n",
       "7117        4.0     0.0     4.0     0.0     0.0     5.0     3.0     0.0   \n",
       "7118        0.0     0.0     0.0     0.0     0.0     0.0     0.0     0.0   \n",
       "7119        5.0     0.0     0.0     0.0     0.0     0.0     0.0     0.0   \n",
       "7120        0.0     0.0     0.0     0.0     0.0     0.0     0.0     0.0   \n",
       "\n",
       "movieId  9       10      ...  129235  129303  129350  129354  129428  129707  \\\n",
       "userId                   ...                                                   \n",
       "1           0.0     0.0  ...     0.0     0.0     0.0     0.0     0.0     0.0   \n",
       "2           0.0     0.0  ...     0.0     0.0     0.0     0.0     0.0     0.0   \n",
       "3           0.0     0.0  ...     0.0     0.0     0.0     0.0     0.0     0.0   \n",
       "4           0.0     4.0  ...     0.0     0.0     0.0     0.0     0.0     0.0   \n",
       "5           0.0     0.0  ...     0.0     0.0     0.0     0.0     0.0     0.0   \n",
       "...         ...     ...  ...     ...     ...     ...     ...     ...     ...   \n",
       "7116        0.0     0.0  ...     0.0     0.0     0.0     0.0     0.0     0.0   \n",
       "7117        1.0     3.0  ...     0.0     0.0     0.0     0.0     0.0     0.0   \n",
       "7118        0.0     0.0  ...     0.0     0.0     0.0     0.0     0.0     0.0   \n",
       "7119        0.0     0.0  ...     0.0     0.0     0.0     0.0     0.0     0.0   \n",
       "7120        0.0     0.0  ...     0.0     0.0     0.0     0.0     0.0     0.0   \n",
       "\n",
       "movieId  130073  130462  130490  130642  \n",
       "userId                                   \n",
       "1           0.0     0.0     0.0     0.0  \n",
       "2           0.0     0.0     0.0     0.0  \n",
       "3           0.0     0.0     0.0     0.0  \n",
       "4           0.0     0.0     0.0     0.0  \n",
       "5           0.0     0.0     0.0     0.0  \n",
       "...         ...     ...     ...     ...  \n",
       "7116        0.0     0.0     0.0     0.0  \n",
       "7117        0.0     0.0     0.0     0.0  \n",
       "7118        0.0     0.0     0.0     0.0  \n",
       "7119        0.0     0.0     0.0     0.0  \n",
       "7120        0.0     0.0     0.0     0.0  \n",
       "\n",
       "[7120 rows x 13478 columns]"
      ]
     },
     "execution_count": 27,
     "metadata": {},
     "output_type": "execute_result"
    }
   ],
   "source": [
    "train_matrix"
   ]
  },
  {
   "cell_type": "code",
   "execution_count": 28,
   "id": "639f38fc",
   "metadata": {},
   "outputs": [
    {
     "data": {
      "text/html": [
       "<div>\n",
       "<style scoped>\n",
       "    .dataframe tbody tr th:only-of-type {\n",
       "        vertical-align: middle;\n",
       "    }\n",
       "\n",
       "    .dataframe tbody tr th {\n",
       "        vertical-align: top;\n",
       "    }\n",
       "\n",
       "    .dataframe thead th {\n",
       "        text-align: right;\n",
       "    }\n",
       "</style>\n",
       "<table border=\"1\" class=\"dataframe\">\n",
       "  <thead>\n",
       "    <tr style=\"text-align: right;\">\n",
       "      <th>movieId</th>\n",
       "      <th>1</th>\n",
       "      <th>2</th>\n",
       "      <th>3</th>\n",
       "      <th>4</th>\n",
       "      <th>5</th>\n",
       "      <th>6</th>\n",
       "      <th>7</th>\n",
       "      <th>8</th>\n",
       "      <th>9</th>\n",
       "      <th>10</th>\n",
       "      <th>...</th>\n",
       "      <th>127110</th>\n",
       "      <th>127196</th>\n",
       "      <th>128356</th>\n",
       "      <th>128510</th>\n",
       "      <th>128622</th>\n",
       "      <th>128648</th>\n",
       "      <th>128832</th>\n",
       "      <th>128842</th>\n",
       "      <th>130052</th>\n",
       "      <th>130219</th>\n",
       "    </tr>\n",
       "    <tr>\n",
       "      <th>userId</th>\n",
       "      <th></th>\n",
       "      <th></th>\n",
       "      <th></th>\n",
       "      <th></th>\n",
       "      <th></th>\n",
       "      <th></th>\n",
       "      <th></th>\n",
       "      <th></th>\n",
       "      <th></th>\n",
       "      <th></th>\n",
       "      <th></th>\n",
       "      <th></th>\n",
       "      <th></th>\n",
       "      <th></th>\n",
       "      <th></th>\n",
       "      <th></th>\n",
       "      <th></th>\n",
       "      <th></th>\n",
       "      <th></th>\n",
       "      <th></th>\n",
       "      <th></th>\n",
       "    </tr>\n",
       "  </thead>\n",
       "  <tbody>\n",
       "    <tr>\n",
       "      <th>1</th>\n",
       "      <td>0.0</td>\n",
       "      <td>3.5</td>\n",
       "      <td>0.0</td>\n",
       "      <td>0.0</td>\n",
       "      <td>0.0</td>\n",
       "      <td>0.0</td>\n",
       "      <td>0.0</td>\n",
       "      <td>0.0</td>\n",
       "      <td>0.0</td>\n",
       "      <td>0.0</td>\n",
       "      <td>...</td>\n",
       "      <td>0.0</td>\n",
       "      <td>0.0</td>\n",
       "      <td>0.0</td>\n",
       "      <td>0.0</td>\n",
       "      <td>0.0</td>\n",
       "      <td>0.0</td>\n",
       "      <td>0.0</td>\n",
       "      <td>0.0</td>\n",
       "      <td>0.0</td>\n",
       "      <td>0.0</td>\n",
       "    </tr>\n",
       "    <tr>\n",
       "      <th>2</th>\n",
       "      <td>0.0</td>\n",
       "      <td>0.0</td>\n",
       "      <td>4.0</td>\n",
       "      <td>0.0</td>\n",
       "      <td>0.0</td>\n",
       "      <td>0.0</td>\n",
       "      <td>0.0</td>\n",
       "      <td>0.0</td>\n",
       "      <td>0.0</td>\n",
       "      <td>0.0</td>\n",
       "      <td>...</td>\n",
       "      <td>0.0</td>\n",
       "      <td>0.0</td>\n",
       "      <td>0.0</td>\n",
       "      <td>0.0</td>\n",
       "      <td>0.0</td>\n",
       "      <td>0.0</td>\n",
       "      <td>0.0</td>\n",
       "      <td>0.0</td>\n",
       "      <td>0.0</td>\n",
       "      <td>0.0</td>\n",
       "    </tr>\n",
       "    <tr>\n",
       "      <th>3</th>\n",
       "      <td>0.0</td>\n",
       "      <td>0.0</td>\n",
       "      <td>0.0</td>\n",
       "      <td>0.0</td>\n",
       "      <td>0.0</td>\n",
       "      <td>0.0</td>\n",
       "      <td>0.0</td>\n",
       "      <td>0.0</td>\n",
       "      <td>0.0</td>\n",
       "      <td>0.0</td>\n",
       "      <td>...</td>\n",
       "      <td>0.0</td>\n",
       "      <td>0.0</td>\n",
       "      <td>0.0</td>\n",
       "      <td>0.0</td>\n",
       "      <td>0.0</td>\n",
       "      <td>0.0</td>\n",
       "      <td>0.0</td>\n",
       "      <td>0.0</td>\n",
       "      <td>0.0</td>\n",
       "      <td>0.0</td>\n",
       "    </tr>\n",
       "    <tr>\n",
       "      <th>4</th>\n",
       "      <td>0.0</td>\n",
       "      <td>0.0</td>\n",
       "      <td>0.0</td>\n",
       "      <td>0.0</td>\n",
       "      <td>0.0</td>\n",
       "      <td>3.0</td>\n",
       "      <td>0.0</td>\n",
       "      <td>0.0</td>\n",
       "      <td>0.0</td>\n",
       "      <td>0.0</td>\n",
       "      <td>...</td>\n",
       "      <td>0.0</td>\n",
       "      <td>0.0</td>\n",
       "      <td>0.0</td>\n",
       "      <td>0.0</td>\n",
       "      <td>0.0</td>\n",
       "      <td>0.0</td>\n",
       "      <td>0.0</td>\n",
       "      <td>0.0</td>\n",
       "      <td>0.0</td>\n",
       "      <td>0.0</td>\n",
       "    </tr>\n",
       "    <tr>\n",
       "      <th>5</th>\n",
       "      <td>0.0</td>\n",
       "      <td>0.0</td>\n",
       "      <td>0.0</td>\n",
       "      <td>0.0</td>\n",
       "      <td>0.0</td>\n",
       "      <td>0.0</td>\n",
       "      <td>0.0</td>\n",
       "      <td>0.0</td>\n",
       "      <td>0.0</td>\n",
       "      <td>0.0</td>\n",
       "      <td>...</td>\n",
       "      <td>0.0</td>\n",
       "      <td>0.0</td>\n",
       "      <td>0.0</td>\n",
       "      <td>0.0</td>\n",
       "      <td>0.0</td>\n",
       "      <td>0.0</td>\n",
       "      <td>0.0</td>\n",
       "      <td>0.0</td>\n",
       "      <td>0.0</td>\n",
       "      <td>0.0</td>\n",
       "    </tr>\n",
       "    <tr>\n",
       "      <th>...</th>\n",
       "      <td>...</td>\n",
       "      <td>...</td>\n",
       "      <td>...</td>\n",
       "      <td>...</td>\n",
       "      <td>...</td>\n",
       "      <td>...</td>\n",
       "      <td>...</td>\n",
       "      <td>...</td>\n",
       "      <td>...</td>\n",
       "      <td>...</td>\n",
       "      <td>...</td>\n",
       "      <td>...</td>\n",
       "      <td>...</td>\n",
       "      <td>...</td>\n",
       "      <td>...</td>\n",
       "      <td>...</td>\n",
       "      <td>...</td>\n",
       "      <td>...</td>\n",
       "      <td>...</td>\n",
       "      <td>...</td>\n",
       "      <td>...</td>\n",
       "    </tr>\n",
       "    <tr>\n",
       "      <th>7116</th>\n",
       "      <td>0.0</td>\n",
       "      <td>0.0</td>\n",
       "      <td>0.0</td>\n",
       "      <td>0.0</td>\n",
       "      <td>0.0</td>\n",
       "      <td>0.0</td>\n",
       "      <td>0.0</td>\n",
       "      <td>0.0</td>\n",
       "      <td>0.0</td>\n",
       "      <td>0.0</td>\n",
       "      <td>...</td>\n",
       "      <td>0.0</td>\n",
       "      <td>0.0</td>\n",
       "      <td>0.0</td>\n",
       "      <td>0.0</td>\n",
       "      <td>0.0</td>\n",
       "      <td>0.0</td>\n",
       "      <td>0.0</td>\n",
       "      <td>0.0</td>\n",
       "      <td>0.0</td>\n",
       "      <td>0.0</td>\n",
       "    </tr>\n",
       "    <tr>\n",
       "      <th>7117</th>\n",
       "      <td>0.0</td>\n",
       "      <td>0.0</td>\n",
       "      <td>0.0</td>\n",
       "      <td>0.0</td>\n",
       "      <td>0.0</td>\n",
       "      <td>0.0</td>\n",
       "      <td>0.0</td>\n",
       "      <td>0.0</td>\n",
       "      <td>0.0</td>\n",
       "      <td>0.0</td>\n",
       "      <td>...</td>\n",
       "      <td>0.0</td>\n",
       "      <td>0.0</td>\n",
       "      <td>0.0</td>\n",
       "      <td>0.0</td>\n",
       "      <td>0.0</td>\n",
       "      <td>0.0</td>\n",
       "      <td>0.0</td>\n",
       "      <td>0.0</td>\n",
       "      <td>0.0</td>\n",
       "      <td>0.0</td>\n",
       "    </tr>\n",
       "    <tr>\n",
       "      <th>7118</th>\n",
       "      <td>0.0</td>\n",
       "      <td>0.0</td>\n",
       "      <td>0.0</td>\n",
       "      <td>0.0</td>\n",
       "      <td>0.0</td>\n",
       "      <td>0.0</td>\n",
       "      <td>0.0</td>\n",
       "      <td>0.0</td>\n",
       "      <td>0.0</td>\n",
       "      <td>0.0</td>\n",
       "      <td>...</td>\n",
       "      <td>0.0</td>\n",
       "      <td>0.0</td>\n",
       "      <td>0.0</td>\n",
       "      <td>0.0</td>\n",
       "      <td>0.0</td>\n",
       "      <td>0.0</td>\n",
       "      <td>0.0</td>\n",
       "      <td>0.0</td>\n",
       "      <td>0.0</td>\n",
       "      <td>0.0</td>\n",
       "    </tr>\n",
       "    <tr>\n",
       "      <th>7119</th>\n",
       "      <td>0.0</td>\n",
       "      <td>0.0</td>\n",
       "      <td>0.0</td>\n",
       "      <td>0.0</td>\n",
       "      <td>0.0</td>\n",
       "      <td>0.0</td>\n",
       "      <td>0.0</td>\n",
       "      <td>0.0</td>\n",
       "      <td>0.0</td>\n",
       "      <td>0.0</td>\n",
       "      <td>...</td>\n",
       "      <td>0.0</td>\n",
       "      <td>0.0</td>\n",
       "      <td>0.0</td>\n",
       "      <td>0.0</td>\n",
       "      <td>0.0</td>\n",
       "      <td>0.0</td>\n",
       "      <td>0.0</td>\n",
       "      <td>0.0</td>\n",
       "      <td>0.0</td>\n",
       "      <td>0.0</td>\n",
       "    </tr>\n",
       "    <tr>\n",
       "      <th>7120</th>\n",
       "      <td>4.5</td>\n",
       "      <td>4.0</td>\n",
       "      <td>0.0</td>\n",
       "      <td>0.0</td>\n",
       "      <td>0.0</td>\n",
       "      <td>0.0</td>\n",
       "      <td>4.0</td>\n",
       "      <td>0.0</td>\n",
       "      <td>0.0</td>\n",
       "      <td>0.0</td>\n",
       "      <td>...</td>\n",
       "      <td>0.0</td>\n",
       "      <td>0.0</td>\n",
       "      <td>0.0</td>\n",
       "      <td>0.0</td>\n",
       "      <td>0.0</td>\n",
       "      <td>0.0</td>\n",
       "      <td>0.0</td>\n",
       "      <td>0.0</td>\n",
       "      <td>0.0</td>\n",
       "      <td>0.0</td>\n",
       "    </tr>\n",
       "  </tbody>\n",
       "</table>\n",
       "<p>7112 rows × 9978 columns</p>\n",
       "</div>"
      ],
      "text/plain": [
       "movieId  1       2       3       4       5       6       7       8       \\\n",
       "userId                                                                    \n",
       "1           0.0     3.5     0.0     0.0     0.0     0.0     0.0     0.0   \n",
       "2           0.0     0.0     4.0     0.0     0.0     0.0     0.0     0.0   \n",
       "3           0.0     0.0     0.0     0.0     0.0     0.0     0.0     0.0   \n",
       "4           0.0     0.0     0.0     0.0     0.0     3.0     0.0     0.0   \n",
       "5           0.0     0.0     0.0     0.0     0.0     0.0     0.0     0.0   \n",
       "...         ...     ...     ...     ...     ...     ...     ...     ...   \n",
       "7116        0.0     0.0     0.0     0.0     0.0     0.0     0.0     0.0   \n",
       "7117        0.0     0.0     0.0     0.0     0.0     0.0     0.0     0.0   \n",
       "7118        0.0     0.0     0.0     0.0     0.0     0.0     0.0     0.0   \n",
       "7119        0.0     0.0     0.0     0.0     0.0     0.0     0.0     0.0   \n",
       "7120        4.5     4.0     0.0     0.0     0.0     0.0     4.0     0.0   \n",
       "\n",
       "movieId  9       10      ...  127110  127196  128356  128510  128622  128648  \\\n",
       "userId                   ...                                                   \n",
       "1           0.0     0.0  ...     0.0     0.0     0.0     0.0     0.0     0.0   \n",
       "2           0.0     0.0  ...     0.0     0.0     0.0     0.0     0.0     0.0   \n",
       "3           0.0     0.0  ...     0.0     0.0     0.0     0.0     0.0     0.0   \n",
       "4           0.0     0.0  ...     0.0     0.0     0.0     0.0     0.0     0.0   \n",
       "5           0.0     0.0  ...     0.0     0.0     0.0     0.0     0.0     0.0   \n",
       "...         ...     ...  ...     ...     ...     ...     ...     ...     ...   \n",
       "7116        0.0     0.0  ...     0.0     0.0     0.0     0.0     0.0     0.0   \n",
       "7117        0.0     0.0  ...     0.0     0.0     0.0     0.0     0.0     0.0   \n",
       "7118        0.0     0.0  ...     0.0     0.0     0.0     0.0     0.0     0.0   \n",
       "7119        0.0     0.0  ...     0.0     0.0     0.0     0.0     0.0     0.0   \n",
       "7120        0.0     0.0  ...     0.0     0.0     0.0     0.0     0.0     0.0   \n",
       "\n",
       "movieId  128832  128842  130052  130219  \n",
       "userId                                   \n",
       "1           0.0     0.0     0.0     0.0  \n",
       "2           0.0     0.0     0.0     0.0  \n",
       "3           0.0     0.0     0.0     0.0  \n",
       "4           0.0     0.0     0.0     0.0  \n",
       "5           0.0     0.0     0.0     0.0  \n",
       "...         ...     ...     ...     ...  \n",
       "7116        0.0     0.0     0.0     0.0  \n",
       "7117        0.0     0.0     0.0     0.0  \n",
       "7118        0.0     0.0     0.0     0.0  \n",
       "7119        0.0     0.0     0.0     0.0  \n",
       "7120        0.0     0.0     0.0     0.0  \n",
       "\n",
       "[7112 rows x 9978 columns]"
      ]
     },
     "execution_count": 28,
     "metadata": {},
     "output_type": "execute_result"
    }
   ],
   "source": [
    "test_matrix"
   ]
  },
  {
   "cell_type": "code",
   "execution_count": 29,
   "id": "660997c5",
   "metadata": {},
   "outputs": [],
   "source": [
    "def NeuMF(num_users, num_items, mf_dim, layers, reg_mf, reg_layers):\n",
    "    # Input variables\n",
    "    user_input = Input(shape=(1,), dtype='int32', name='user_input')\n",
    "    item_input = Input(shape=(1,), dtype='int32', name='item_input')\n",
    "\n",
    "    # Embedding layers\n",
    "    mf_user_embedding = Embedding(input_dim=num_users, output_dim=mf_dim, name='mf_user_embedding',\n",
    "                                  embeddings_initializer='random_normal', input_length=1)\n",
    "    mf_item_embedding = Embedding(input_dim=num_items, output_dim=mf_dim, name='mf_item_embedding',\n",
    "                                  embeddings_initializer='random_normal', input_length=1)\n",
    "    mlp_user_embedding = Embedding(input_dim=num_users, output_dim=layers[0]//2, name='mlp_user_embedding',\n",
    "                                   embeddings_initializer='random_normal', input_length=1)\n",
    "    mlp_item_embedding = Embedding(input_dim=num_items, output_dim=layers[0]//2, name='mlp_item_embedding',\n",
    "                                   embeddings_initializer='random_normal', input_length=1)\n",
    "\n",
    "    # GMF branch\n",
    "    mf_user_latent = Flatten()(mf_user_embedding(user_input))\n",
    "    mf_item_latent = Flatten()(mf_item_embedding(item_input))\n",
    "    mf_vector = Multiply()([mf_user_latent, mf_item_latent])\n",
    "\n",
    "    # MLP branch\n",
    "    mlp_user_latent = Flatten()(mlp_user_embedding(user_input))\n",
    "    mlp_item_latent = Flatten()(mlp_item_embedding(item_input))\n",
    "    mlp_vector = Concatenate()([mlp_user_latent, mlp_item_latent])\n",
    "    for i in range(len(layers)):\n",
    "        layer = Dense(layers[i], activation='relu', name=f'layer{i}', kernel_regularizer=l2(reg_layers[i]))\n",
    "        mlp_vector = layer(mlp_vector)\n",
    "        dropout_layer = Dropout(rate=0.2, name=f'dropout_layer{i}')\n",
    "        mlp_vector = dropout_layer(mlp_vector)\n",
    "\n",
    "    # Concatenate GMF and MLP branches\n",
    "    concat_vector = Concatenate()([mf_vector, mlp_vector])\n",
    "\n",
    "    # Output layer\n",
    "    output_layer = Dense(1, activation='linear', name='output_layer', kernel_regularizer=l2(reg_mf))\n",
    "    prediction = output_layer(concat_vector)\n",
    "\n",
    "    # Define the model\n",
    "    model = Model(inputs=[user_input, item_input], outputs=prediction)\n",
    "\n",
    "    return model\n"
   ]
  },
  {
   "cell_type": "code",
   "execution_count": 30,
   "id": "31ac0410",
   "metadata": {},
   "outputs": [],
   "source": [
    "# Set hyperparameters\n",
    "num_users = len(ratings.userId.unique())\n",
    "num_items = len(ratings.movieId.unique())\n"
   ]
  },
  {
   "cell_type": "code",
   "execution_count": 31,
   "id": "1a8bdf11",
   "metadata": {},
   "outputs": [
    {
     "data": {
      "text/plain": [
       "7120"
      ]
     },
     "execution_count": 31,
     "metadata": {},
     "output_type": "execute_result"
    }
   ],
   "source": [
    "num_users"
   ]
  },
  {
   "cell_type": "code",
   "execution_count": 32,
   "id": "70248959",
   "metadata": {},
   "outputs": [
    {
     "data": {
      "text/plain": [
       "14026"
      ]
     },
     "execution_count": 32,
     "metadata": {},
     "output_type": "execute_result"
    }
   ],
   "source": [
    "num_items"
   ]
  },
  {
   "cell_type": "code",
   "execution_count": 33,
   "id": "f81ba487",
   "metadata": {},
   "outputs": [],
   "source": [
    "mf_dim = 8\n",
    "layers = [64, 32, 16]\n",
    "reg_mf = 0\n",
    "reg_layers = [0, 0, 0, 0]\n",
    "learning_rate = 0.001\n",
    "batch_size = 256\n",
    "epochs = 10"
   ]
  },
  {
   "cell_type": "code",
   "execution_count": 15,
   "id": "668e6af4",
   "metadata": {},
   "outputs": [
    {
     "name": "stdout",
     "output_type": "stream",
     "text": [
      "Metal device set to: Apple M1\n"
     ]
    },
    {
     "name": "stderr",
     "output_type": "stream",
     "text": [
      "2023-05-11 18:23:34.960881: I tensorflow/core/common_runtime/pluggable_device/pluggable_device_factory.cc:306] Could not identify NUMA node of platform GPU ID 0, defaulting to 0. Your kernel may not have been built with NUMA support.\n",
      "2023-05-11 18:23:34.961452: I tensorflow/core/common_runtime/pluggable_device/pluggable_device_factory.cc:272] Created TensorFlow device (/job:localhost/replica:0/task:0/device:GPU:0 with 0 MB memory) -> physical PluggableDevice (device: 0, name: METAL, pci bus id: <undefined>)\n"
     ]
    }
   ],
   "source": [
    "# Build and compile NeuMF model\n",
    "model = NeuMF(num_users, num_items, mf_dim, layers, reg_mf, reg_layers)\n",
    "#model.compile(optimizer=Adam(lr=learning_rate), loss='mean_squared_error', metrics=['accuracy'])\n",
    "model.compile(loss='mean_squared_error', optimizer='adam')\n",
    "\n",
    "# Train NeuMF model"
   ]
  },
  {
   "cell_type": "code",
   "execution_count": 51,
   "id": "0a6e3cd1",
   "metadata": {
    "scrolled": false
   },
   "outputs": [
    {
     "name": "stdout",
     "output_type": "stream",
     "text": [
      "Epoch 1/10\n"
     ]
    },
    {
     "name": "stderr",
     "output_type": "stream",
     "text": [
      "2023-04-19 15:45:20.554882: I tensorflow/core/grappler/optimizers/custom_graph_optimizer_registry.cc:114] Plugin optimizer for device_type GPU is enabled.\n"
     ]
    },
    {
     "name": "stdout",
     "output_type": "stream",
     "text": [
      "3277/3277 [==============================] - ETA: 0s - loss: 1.1194"
     ]
    },
    {
     "name": "stderr",
     "output_type": "stream",
     "text": [
      "2023-04-19 15:46:16.467130: I tensorflow/core/grappler/optimizers/custom_graph_optimizer_registry.cc:114] Plugin optimizer for device_type GPU is enabled.\n"
     ]
    },
    {
     "name": "stdout",
     "output_type": "stream",
     "text": [
      "3277/3277 [==============================] - 60s 17ms/step - loss: 1.1194 - val_loss: 0.8194\n",
      "Epoch 2/10\n",
      "3277/3277 [==============================] - 48s 15ms/step - loss: 0.7279 - val_loss: 0.8188\n",
      "Epoch 3/10\n",
      "3277/3277 [==============================] - 48s 15ms/step - loss: 0.6602 - val_loss: 0.8101\n",
      "Epoch 4/10\n",
      "3277/3277 [==============================] - 48s 15ms/step - loss: 0.6260 - val_loss: 0.8362\n",
      "Epoch 5/10\n",
      "3277/3277 [==============================] - 48s 15ms/step - loss: 0.6042 - val_loss: 0.8404\n",
      "Epoch 6/10\n",
      "3277/3277 [==============================] - 44s 14ms/step - loss: 0.5880 - val_loss: 0.7737\n",
      "Epoch 7/10\n",
      "3277/3277 [==============================] - 47s 14ms/step - loss: 0.5748 - val_loss: 0.8133\n",
      "Epoch 8/10\n",
      "3277/3277 [==============================] - 51s 15ms/step - loss: 0.5636 - val_loss: 0.7860\n",
      "Epoch 9/10\n",
      "3277/3277 [==============================] - 51s 16ms/step - loss: 0.5540 - val_loss: 0.8088\n",
      "Epoch 10/10\n",
      "3277/3277 [==============================] - 48s 15ms/step - loss: 0.5455 - val_loss: 0.8070\n"
     ]
    }
   ],
   "source": [
    "history = model.fit([train.userId, train.movieId], train.rating, batch_size=batch_size, epochs=epochs, validation_data=([test.userId, test.movieId], test.rating))\n"
   ]
  },
  {
   "cell_type": "code",
   "execution_count": 52,
   "id": "e822a14b",
   "metadata": {},
   "outputs": [],
   "source": [
    "model.save('trained_neumf.h5')"
   ]
  },
  {
   "cell_type": "code",
   "execution_count": 16,
   "id": "c6078fff",
   "metadata": {},
   "outputs": [],
   "source": [
    "from keras.models import load_model\n",
    "model = load_model('trained_neumf.h5')\n"
   ]
  },
  {
   "cell_type": "code",
   "execution_count": 17,
   "id": "4e487b1d",
   "metadata": {},
   "outputs": [],
   "source": [
    "def recommend_movies(model, user_id, movie_df, top_n=10):\n",
    "    # Get list of all movie IDs\n",
    "    all_movies = list(movie_df.movieId.unique())\n",
    "\n",
    "    # Create list of tuples for user ID and each movie ID\n",
    "    user = np.full(len(all_movies), user_id, dtype='int32')\n",
    "    movies = np.array(all_movies, dtype='int32')\n",
    "    user_movie_matrix = [user, movies]\n",
    "\n",
    "    # Predict ratings for all movies\n",
    "    ratings = model.predict(user_movie_matrix)\n",
    "    ratings[ratings>5.0] = 5.0\n",
    "   \n",
    "    # Create DataFrame of predicted ratings for each movie\n",
    "    ratings_df = pd.DataFrame({'movieId': movies, 'rating': ratings.flatten()})\n",
    "\n",
    "    # Merge with movie DataFrame to get movie titles\n",
    "    merged_df = pd.merge(ratings_df, movie_df, on='movieId')\n",
    "\n",
    "    # Sort by predicted rating and return top n movies\n",
    "    top_movies = merged_df.sort_values(by='rating', ascending=False).head(top_n)\n",
    "\n",
    "    return top_movies[['movieId', 'title','rating']]"
   ]
  },
  {
   "cell_type": "code",
   "execution_count": 18,
   "id": "b080cbc7",
   "metadata": {
    "scrolled": false
   },
   "outputs": [
    {
     "name": "stdout",
     "output_type": "stream",
     "text": [
      " 16/853 [..............................] - ETA: 2s  "
     ]
    },
    {
     "name": "stderr",
     "output_type": "stream",
     "text": [
      "2023-04-23 07:50:01.105369: W tensorflow/core/platform/profile_utils/cpu_utils.cc:128] Failed to get CPU frequency: 0 Hz\n",
      "2023-04-23 07:50:01.174755: I tensorflow/core/grappler/optimizers/custom_graph_optimizer_registry.cc:114] Plugin optimizer for device_type GPU is enabled.\n"
     ]
    },
    {
     "name": "stdout",
     "output_type": "stream",
     "text": [
      "853/853 [==============================] - 2s 2ms/step\n",
      "user  1 :\n",
      "      movieId                                              title    rating\n",
      "7276     7388  Brother Sun, Sister Moon (Fratello sole, sorel...  3.989934\n",
      "1505     1555         To Have, or Not (En avoir (ou pas)) (1995)  3.967968\n",
      "4359     4454                                        More (1998)  3.915917\n",
      "463       467                             Live Nude Girls (1995)  3.873938\n",
      "7765     8364  Baadasssss! (How to Get the Man's Foot Outta Y...  3.868731\n",
      "7237     7349             Broken Wings (Knafayim Shvurot) (2002)  3.865423\n",
      "6858     6970                                    Desk Set (1957)  3.859289\n",
      "5741     5840  My Mother's Castle (Château de ma mère, Le) (1...  3.856652\n",
      "7987     8670  Testament of Dr. Mabuse, The (Das Testament de...  3.842881\n",
      "4987     5083                                  Rare Birds (2001)  3.835602\n",
      "\n",
      "*******************************************************************************************************\n",
      "\n",
      "853/853 [==============================] - 2s 2ms/step\n",
      "user  2 :\n",
      "      movieId                                              title    rating\n",
      "1435     1473                                    Best Men (1997)  4.541041\n",
      "1474     1520                                Commandments (1997)  4.378930\n",
      "2655     2741                                    No Mercy (1986)  4.341027\n",
      "445       449                         Fear of a Black Hat (1994)  4.332543\n",
      "5576     5675                                  Swept Away (2002)  4.310540\n",
      "7041     7153  Lord of the Rings: The Return of the King, The...  4.274420\n",
      "118       120                                Race the Sun (1996)  4.236778\n",
      "4897     4993  Lord of the Rings: The Fellowship of the Ring,...  4.228594\n",
      "2241     2326                             Shattered Image (1998)  4.203381\n",
      "1505     1555         To Have, or Not (En avoir (ou pas)) (1995)  4.201056\n",
      "\n",
      "*******************************************************************************************************\n",
      "\n",
      "853/853 [==============================] - 2s 2ms/step\n",
      "user  3 :\n",
      "      movieId                                    title  rating\n",
      "7382     7581                 Fountainhead, The (1949)     5.0\n",
      "4585     4680                    Vampire's Kiss (1989)     5.0\n",
      "5810     5909              Visitor Q (Bizita Q) (2001)     5.0\n",
      "1806     1890                   Little Boy Blue (1997)     5.0\n",
      "4092     4186               Fortune Cookie, The (1966)     5.0\n",
      "6696     6806   Time and Tide (Seunlau Ngaklau) (2000)     5.0\n",
      "7726     8260  Crazy Stranger, The (Gadjo Dilo) (1997)     5.0\n",
      "7956     8639                     Clearing, The (2004)     5.0\n",
      "5076     5172                      Full Frontal (2002)     5.0\n",
      "6327     6436                   This Boy's Life (1993)     5.0\n",
      "\n",
      "*******************************************************************************************************\n",
      "\n",
      "853/853 [==============================] - 2s 2ms/step\n",
      "user  4 :\n",
      "      movieId                                              title    rating\n",
      "583       589                  Terminator 2: Judgment Day (1991)  5.000000\n",
      "6756     6866                          Nine Dead Gay Guys (2003)  5.000000\n",
      "6662     6772           To Be and to Have (Être et avoir) (2002)  5.000000\n",
      "6321     6430    Ziggy Stardust and the Spiders from Mars (1973)  5.000000\n",
      "2614     2700        South Park: Bigger, Longer and Uncut (1999)  5.000000\n",
      "5810     5909                        Visitor Q (Bizita Q) (2001)  5.000000\n",
      "62         63  Don't Be a Menace to South Central While Drink...  4.999930\n",
      "1213     1241                      Dead Alive (Braindead) (1992)  4.994658\n",
      "7894     8576                                       Kopps (2003)  4.989087\n",
      "343       347                                 Bitter Moon (1992)  4.979313\n",
      "\n",
      "*******************************************************************************************************\n",
      "\n",
      "853/853 [==============================] - 2s 2ms/step\n",
      "user  5 :\n",
      "      movieId                                              title    rating\n",
      "4687     4783  Endurance: Shackleton's Legendary Antarctic Ex...  4.397190\n",
      "8331     9014                         Since You Went Away (1944)  4.357240\n",
      "6682     6792  Barber of Siberia, The (Sibirskij tsiryulnik) ...  4.306170\n",
      "3484     3575                             Defying Gravity (1997)  4.289287\n",
      "6968     7080                                 42nd Street (1933)  4.271277\n",
      "1330     1360  Identification of a Woman (Identificazione di ...  4.247101\n",
      "114       116                       Anne Frank Remembered (1995)  4.244319\n",
      "2574     2660               Thing from Another World, The (1951)  4.242696\n",
      "4235     4330                        Scarlet Empress, The (1934)  4.232400\n",
      "5026     5122                               Summer of '42 (1971)  4.229238\n",
      "\n",
      "*******************************************************************************************************\n",
      "\n"
     ]
    }
   ],
   "source": [
    "movies = pd.read_csv('movies.csv')\n",
    "\n",
    "for i in range(0,5):\n",
    "    # Generate recommendations for user i\n",
    "    recommendations = recommend_movies(model, i, movies)\n",
    "    # Print top 10 recommended movies for user i\n",
    "    print(\"user \",i+1,\":\")\n",
    "    print(recommendations)\n",
    "    print()\n",
    "    print(\"*******************************************************************************************************\")\n",
    "    print()"
   ]
  },
  {
   "cell_type": "markdown",
   "id": "04609ebd",
   "metadata": {},
   "source": [
    "## Recurrent Neural Network"
   ]
  },
  {
   "cell_type": "code",
   "execution_count": 13,
   "id": "68d38fe2",
   "metadata": {},
   "outputs": [],
   "source": [
    "import numpy as np\n",
    "import tensorflow as tf\n",
    "from sklearn.model_selection import train_test_split\n",
    "from tensorflow.keras.models import Sequential\n",
    "from tensorflow.keras.layers import Dense, Dropout, LSTM\n",
    "import pandas as pd"
   ]
  },
  {
   "cell_type": "code",
   "execution_count": 7,
   "id": "e6f0aa1c",
   "metadata": {},
   "outputs": [],
   "source": [
    "ratings_data = np.genfromtxt(data_path + 'ratings.csv', delimiter=',', skip_header=1)"
   ]
  },
  {
   "cell_type": "code",
   "execution_count": 8,
   "id": "397d43cb",
   "metadata": {},
   "outputs": [],
   "source": [
    "# Extract the user IDs, movie IDs, and ratings from the data\n",
    "user_ids = ratings_data[:, 0].astype(int)\n",
    "movie_ids = ratings_data[:, 1].astype(int)\n",
    "ratings = ratings_data[:, 2]"
   ]
  },
  {
   "cell_type": "code",
   "execution_count": 9,
   "id": "9e371987",
   "metadata": {},
   "outputs": [],
   "source": [
    "# Normalize the ratings between 0 and 1\n",
    "max_rating = max(ratings)\n",
    "min_rating = min(ratings)\n",
    "ratings = (ratings - min_rating) / (max_rating - min_rating)"
   ]
  },
  {
   "cell_type": "code",
   "execution_count": 10,
   "id": "294f8478",
   "metadata": {},
   "outputs": [],
   "source": [
    "# Split the data into training and testing sets\n",
    "X_train, X_test, y_train, y_test = train_test_split(\n",
    "    np.stack([user_ids, movie_ids], axis=1),\n",
    "    ratings,\n",
    "    test_size=0.2,\n",
    "    random_state=42\n",
    ")"
   ]
  },
  {
   "cell_type": "code",
   "execution_count": 21,
   "id": "078426ed",
   "metadata": {},
   "outputs": [],
   "source": [
    "# Define the RNN-based recommender system model\n",
    "model = Sequential()\n",
    "model.add(LSTM(64, input_shape=(1, 2)))\n",
    "model.add(Dropout(0.2))\n",
    "model.add(Dense(1, activation='sigmoid'))\n",
    "model.compile(loss='mean_squared_error', optimizer='adam')"
   ]
  },
  {
   "cell_type": "code",
   "execution_count": 22,
   "id": "a5c18bcc",
   "metadata": {},
   "outputs": [
    {
     "name": "stdout",
     "output_type": "stream",
     "text": [
      "Epoch 1/10\n"
     ]
    },
    {
     "name": "stderr",
     "output_type": "stream",
     "text": [
      "2023-03-30 18:32:56.835011: I tensorflow/core/grappler/optimizers/custom_graph_optimizer_registry.cc:114] Plugin optimizer for device_type GPU is enabled.\n",
      "2023-03-30 18:32:56.919284: I tensorflow/core/grappler/optimizers/custom_graph_optimizer_registry.cc:114] Plugin optimizer for device_type GPU is enabled.\n",
      "2023-03-30 18:32:56.993507: I tensorflow/core/grappler/optimizers/custom_graph_optimizer_registry.cc:114] Plugin optimizer for device_type GPU is enabled.\n"
     ]
    },
    {
     "name": "stdout",
     "output_type": "stream",
     "text": [
      "13108/13108 [==============================] - ETA: 0s - loss: 0.0549"
     ]
    },
    {
     "name": "stderr",
     "output_type": "stream",
     "text": [
      "2023-03-30 18:34:25.798413: I tensorflow/core/grappler/optimizers/custom_graph_optimizer_registry.cc:114] Plugin optimizer for device_type GPU is enabled.\n",
      "2023-03-30 18:34:25.833136: I tensorflow/core/grappler/optimizers/custom_graph_optimizer_registry.cc:114] Plugin optimizer for device_type GPU is enabled.\n"
     ]
    },
    {
     "name": "stdout",
     "output_type": "stream",
     "text": [
      "13108/13108 [==============================] - 100s 8ms/step - loss: 0.0549 - val_loss: 0.0546\n",
      "Epoch 2/10\n",
      "13108/13108 [==============================] - 96s 7ms/step - loss: 0.0547 - val_loss: 0.0546\n",
      "Epoch 3/10\n",
      "13108/13108 [==============================] - 96s 7ms/step - loss: 0.0547 - val_loss: 0.0546\n",
      "Epoch 4/10\n",
      "13108/13108 [==============================] - 95s 7ms/step - loss: 0.0546 - val_loss: 0.0547\n",
      "Epoch 5/10\n",
      "13108/13108 [==============================] - 95s 7ms/step - loss: 0.0546 - val_loss: 0.0546\n",
      "Epoch 6/10\n",
      "13108/13108 [==============================] - 95s 7ms/step - loss: 0.0546 - val_loss: 0.0547\n",
      "Epoch 7/10\n",
      "13108/13108 [==============================] - 94s 7ms/step - loss: 0.0546 - val_loss: 0.0547\n",
      "Epoch 8/10\n",
      "13108/13108 [==============================] - 94s 7ms/step - loss: 0.0546 - val_loss: 0.0546\n",
      "Epoch 9/10\n",
      "13108/13108 [==============================] - 95s 7ms/step - loss: 0.0546 - val_loss: 0.0547\n",
      "Epoch 10/10\n",
      "13108/13108 [==============================] - 95s 7ms/step - loss: 0.0546 - val_loss: 0.0547\n"
     ]
    },
    {
     "data": {
      "text/plain": [
       "<keras.callbacks.History at 0x2ac78c4c0>"
      ]
     },
     "execution_count": 22,
     "metadata": {},
     "output_type": "execute_result"
    }
   ],
   "source": [
    "# Train the model\n",
    "X_train = np.expand_dims(X_train, axis=1)\n",
    "X_test = np.expand_dims(X_test, axis=1)\n",
    "y_train = y_train.reshape(-1, 1)\n",
    "y_test = y_test.reshape(-1, 1)\n",
    "model.fit(X_train, y_train, epochs=10, batch_size=64, validation_data=(X_test, y_test))"
   ]
  },
  {
   "cell_type": "code",
   "execution_count": 25,
   "id": "ecfe4063",
   "metadata": {},
   "outputs": [],
   "source": [
    "model.save('trained_rnn.h5')"
   ]
  },
  {
   "cell_type": "code",
   "execution_count": 26,
   "id": "94ae7256",
   "metadata": {},
   "outputs": [
    {
     "name": "stdout",
     "output_type": "stream",
     "text": [
      "439/439 [==============================] - 1s 2ms/step\n",
      "Recommended movies for user 1 :\n",
      " movieId                              title   rating\n",
      "       1                   Toy Story (1995) 3.828001\n",
      "       2                     Jumanji (1995) 3.743200\n",
      "       3            Grumpier Old Men (1995) 3.670595\n",
      "       4           Waiting to Exhale (1995) 3.617508\n",
      "       5 Father of the Bride Part II (1995) 3.582061\n",
      "      53                    Lamerica (1994) 3.570140\n",
      "      52            Mighty Aphrodite (1995) 3.570138\n",
      "      54              Big Green, The (1995) 3.570136\n",
      "      51              Guardian Angel (1994) 3.570129\n",
      "      55                     Georgia (1995) 3.570127\n"
     ]
    }
   ],
   "source": [
    "# Generate recommendations for a user\n",
    "user_id = 1\n",
    "movie_ids = np.arange(1, 14026) # generate recommendations for the first 10 movies\n",
    "np.random.shuffle(movie_ids) # shuffle the movie IDs\n",
    "user_input = np.array([(user_id, movie_id) for movie_id in movie_ids])\n",
    "user_input = np.expand_dims(user_input, axis=1)\n",
    "predicted_normalized_ratings = model.predict(user_input).flatten()\n",
    "predicted_ratings = predicted_normalized_ratings * (max_rating - min_rating) + min_rating\n",
    "recommended_movies = pd.read_csv('movies.csv').iloc[movie_ids-1][['movieId', 'title']]\n",
    "recommended_movies['rating'] = predicted_ratings\n",
    "\n",
    "# Sort the recommended movies by rating in descending order\n",
    "recommended_movies = recommended_movies.sort_values('rating', ascending=False)\n",
    "recommended_movies = recommended_movies[:10]\n",
    "\n",
    "# Print the recommended movies\n",
    "print('Recommended movies for user', user_id, ':')\n",
    "print(recommended_movies.to_string(index=False))"
   ]
  },
  {
   "cell_type": "code",
   "execution_count": 2,
   "id": "87cb887d",
   "metadata": {},
   "outputs": [
    {
     "name": "stderr",
     "output_type": "stream",
     "text": [
      "2023-03-31 13:32:13.309203: I tensorflow/core/common_runtime/pluggable_device/pluggable_device_factory.cc:306] Could not identify NUMA node of platform GPU ID 0, defaulting to 0. Your kernel may not have been built with NUMA support.\n",
      "2023-03-31 13:32:13.309958: I tensorflow/core/common_runtime/pluggable_device/pluggable_device_factory.cc:272] Created TensorFlow device (/job:localhost/replica:0/task:0/device:GPU:0 with 0 MB memory) -> physical PluggableDevice (device: 0, name: METAL, pci bus id: <undefined>)\n"
     ]
    },
    {
     "name": "stdout",
     "output_type": "stream",
     "text": [
      "Metal device set to: Apple M1\n"
     ]
    }
   ],
   "source": [
    "from keras.models import load_model\n",
    "model = load_model('trained_rnn.h5')\n"
   ]
  },
  {
   "cell_type": "markdown",
   "id": "209d5981",
   "metadata": {},
   "source": [
    "## Evaluation"
   ]
  },
  {
   "cell_type": "markdown",
   "id": "d49c2b62",
   "metadata": {},
   "source": [
    "### K-Fold Cross Validation"
   ]
  },
  {
   "cell_type": "code",
   "execution_count": 56,
   "id": "d908b872",
   "metadata": {},
   "outputs": [],
   "source": [
    "import pandas as pd\n",
    "import numpy as np\n",
    "from keras import Model\n",
    "from keras.layers import Input, Dense, Concatenate, Dropout, Embedding, Flatten\n",
    "from keras.optimizers import Adam\n",
    "from sklearn.model_selection import KFold\n",
    "from keras.layers import Input, Embedding, Flatten, Dense, Concatenate, Multiply"
   ]
  },
  {
   "cell_type": "code",
   "execution_count": 57,
   "id": "971c2c3d",
   "metadata": {},
   "outputs": [],
   "source": [
    "from keras.regularizers import l2"
   ]
  },
  {
   "cell_type": "code",
   "execution_count": 58,
   "id": "9fb8da80",
   "metadata": {},
   "outputs": [],
   "source": [
    "movies = pd.read_csv('movies.csv')\n",
    "ratings = pd.read_csv('ratings.csv')\n",
    "\n",
    "# Set hyperparameters\n",
    "num_users = len(ratings.userId.unique())\n",
    "num_items = len(ratings.movieId.unique())\n",
    "\n",
    "mf_dim = 8\n",
    "layers = [64, 32, 16]\n",
    "reg_mf = 0\n",
    "reg_layers = [0, 0, 0, 0]\n",
    "learning_rate = 0.001\n",
    "batch_size = 256\n",
    "epochs = 10"
   ]
  },
  {
   "cell_type": "code",
   "execution_count": 59,
   "id": "7d7f4d0f",
   "metadata": {},
   "outputs": [],
   "source": [
    "# Initialize k-fold cross-validation\n",
    "kfold = KFold(n_splits=5, shuffle=True, random_state=42)\n"
   ]
  },
  {
   "cell_type": "code",
   "execution_count": 60,
   "id": "25c6f7b5",
   "metadata": {},
   "outputs": [
    {
     "name": "stdout",
     "output_type": "stream",
     "text": [
      "Fold 1\n"
     ]
    },
    {
     "name": "stderr",
     "output_type": "stream",
     "text": [
      "2023-04-19 16:01:24.677887: I tensorflow/core/grappler/optimizers/custom_graph_optimizer_registry.cc:114] Plugin optimizer for device_type GPU is enabled.\n",
      "2023-04-19 16:02:11.174902: I tensorflow/core/grappler/optimizers/custom_graph_optimizer_registry.cc:114] Plugin optimizer for device_type GPU is enabled.\n"
     ]
    },
    {
     "name": "stdout",
     "output_type": "stream",
     "text": [
      "Validation loss: 0.7788\n",
      "*******************************************************************************************************\n",
      "\n",
      "Fold 2\n"
     ]
    },
    {
     "name": "stderr",
     "output_type": "stream",
     "text": [
      "2023-04-19 16:09:16.472695: I tensorflow/core/grappler/optimizers/custom_graph_optimizer_registry.cc:114] Plugin optimizer for device_type GPU is enabled.\n",
      "2023-04-19 16:10:02.799401: I tensorflow/core/grappler/optimizers/custom_graph_optimizer_registry.cc:114] Plugin optimizer for device_type GPU is enabled.\n"
     ]
    },
    {
     "name": "stdout",
     "output_type": "stream",
     "text": [
      "Validation loss: 0.7783\n",
      "*******************************************************************************************************\n",
      "\n",
      "Fold 3\n"
     ]
    },
    {
     "name": "stderr",
     "output_type": "stream",
     "text": [
      "2023-04-19 16:17:50.450565: I tensorflow/core/grappler/optimizers/custom_graph_optimizer_registry.cc:114] Plugin optimizer for device_type GPU is enabled.\n",
      "2023-04-19 16:18:38.308516: I tensorflow/core/grappler/optimizers/custom_graph_optimizer_registry.cc:114] Plugin optimizer for device_type GPU is enabled.\n"
     ]
    },
    {
     "name": "stdout",
     "output_type": "stream",
     "text": [
      "Validation loss: 0.7895\n",
      "*******************************************************************************************************\n",
      "\n",
      "Fold 4\n"
     ]
    },
    {
     "name": "stderr",
     "output_type": "stream",
     "text": [
      "2023-04-19 16:26:40.044557: I tensorflow/core/grappler/optimizers/custom_graph_optimizer_registry.cc:114] Plugin optimizer for device_type GPU is enabled.\n",
      "2023-04-19 16:27:32.867256: I tensorflow/core/grappler/optimizers/custom_graph_optimizer_registry.cc:114] Plugin optimizer for device_type GPU is enabled.\n"
     ]
    },
    {
     "name": "stdout",
     "output_type": "stream",
     "text": [
      "Validation loss: 0.7951\n",
      "*******************************************************************************************************\n",
      "\n",
      "Fold 5\n"
     ]
    },
    {
     "name": "stderr",
     "output_type": "stream",
     "text": [
      "2023-04-19 16:35:43.978611: I tensorflow/core/grappler/optimizers/custom_graph_optimizer_registry.cc:114] Plugin optimizer for device_type GPU is enabled.\n",
      "2023-04-19 16:36:39.259761: I tensorflow/core/grappler/optimizers/custom_graph_optimizer_registry.cc:114] Plugin optimizer for device_type GPU is enabled.\n"
     ]
    },
    {
     "name": "stdout",
     "output_type": "stream",
     "text": [
      "Validation loss: 0.8644\n",
      "*******************************************************************************************************\n",
      "\n"
     ]
    }
   ],
   "source": [
    "# Create empty list to store evaluation scores\n",
    "scores = []\n",
    "\n",
    "# Loop through each fold\n",
    "for fold, (train_idx, val_idx) in enumerate(kfold.split(ratings)):\n",
    "    print(f'Fold {fold+1}')\n",
    "\n",
    "    # Split data into train and validation sets\n",
    "    train = ratings.iloc[train_idx]\n",
    "    val = ratings.iloc[val_idx]\n",
    "\n",
    "    # Create user-item matrix for train and validation sets\n",
    "    train_matrix = train.pivot(index='userId', columns='movieId', values='rating').fillna(0)\n",
    "    val_matrix = val.pivot(index='userId', columns='movieId', values='rating').fillna(0)\n",
    "\n",
    "    # Build and compile NeuMF model\n",
    "    model = NeuMF(num_users, num_items, mf_dim, layers, reg_mf, reg_layers)\n",
    "    model.compile(loss='mean_squared_error', optimizer='adam')\n",
    "\n",
    "    # Train NeuMF model on current fold\n",
    "    history = model.fit([train.userId, train.movieId], train.rating, batch_size=batch_size, epochs=epochs, validation_data=([val.userId, val.movieId], val.rating), verbose=0)\n",
    "\n",
    "    # Evaluate NeuMF model on validation set\n",
    "    val_loss = model.evaluate([val.userId, val.movieId], val.rating, verbose=0)\n",
    "    print(f'Validation loss: {val_loss:.4f}')\n",
    "    scores.append(val_loss)\n",
    "\n",
    "    print(\"*******************************************************************************************************\")\n",
    "    print()"
   ]
  },
  {
   "cell_type": "code",
   "execution_count": 61,
   "id": "36ceb4b5",
   "metadata": {},
   "outputs": [
    {
     "name": "stdout",
     "output_type": "stream",
     "text": [
      "Cross-validation loss: 0.8012 +/- 0.0322\n",
      "  4/853 [..............................] - ETA: 15s "
     ]
    },
    {
     "name": "stderr",
     "output_type": "stream",
     "text": [
      "2023-04-19 16:44:43.902698: I tensorflow/core/grappler/optimizers/custom_graph_optimizer_registry.cc:114] Plugin optimizer for device_type GPU is enabled.\n"
     ]
    },
    {
     "name": "stdout",
     "output_type": "stream",
     "text": [
      "853/853 [==============================] - 3s 3ms/step\n",
      "user  1 :\n",
      "      movieId                                              title    rating\n",
      "5154     5251  Charter Trip, The (a.k.a. Package Tour, The) (...  3.912589\n",
      "4085     4179                                      Pixote (1981)  3.872313\n",
      "4136     4230                              Too Much Sleep (1997)  3.870593\n",
      "3901     3995                                 Boys Life 3 (2000)  3.865779\n",
      "5751     5850               Road Games (a.k.a. Roadgames) (1981)  3.840136\n",
      "315       318                   Shawshank Redemption, The (1994)  3.835572\n",
      "7044     7156  Fog of War: Eleven Lessons from the Life of Ro...  3.832339\n",
      "1505     1555         To Have, or Not (En avoir (ou pas)) (1995)  3.831957\n",
      "7356     7502                            Band of Brothers (2001)  3.825464\n",
      "6759     6869                        Bus 174 (Ônibus 174) (2002)  3.823964\n",
      "\n",
      "*******************************************************************************************************\n",
      "\n",
      "853/853 [==============================] - 2s 3ms/step\n",
      "user  2 :\n",
      "      movieId                                              title    rating\n",
      "5789     5888                              Brother (Brat) (1997)  4.303030\n",
      "463       467                             Live Nude Girls (1995)  4.257437\n",
      "1841     1925                                       Wings (1927)  4.093262\n",
      "8235     8918                                      Eulogy (2004)  4.077429\n",
      "4897     4993  Lord of the Rings: The Fellowship of the Ring,...  4.040469\n",
      "6949     7061                                Dark Victory (1939)  4.025703\n",
      "5251     5348                            Hollywood Ending (2002)  4.002850\n",
      "7041     7153  Lord of the Rings: The Return of the King, The...  3.999072\n",
      "2838     2924                   Drunken Master (Jui kuen) (1978)  3.980306\n",
      "2860     2946                                       Help! (1965)  3.966459\n",
      "\n",
      "*******************************************************************************************************\n",
      "\n",
      "853/853 [==============================] - 3s 3ms/step\n",
      "user  3 :\n",
      "      movieId                                              title    rating\n",
      "108       110                                  Braveheart (1995)  4.794387\n",
      "2225     2310                                 Mighty, The (1998)  4.777537\n",
      "7356     7502                            Band of Brothers (2001)  4.763645\n",
      "352       356                                Forrest Gump (1994)  4.754240\n",
      "6667     6777                       Judgment at Nuremberg (1961)  4.749126\n",
      "2338     2423  Christmas Vacation (National Lampoon's Christm...  4.736209\n",
      "1944     2028                         Saving Private Ryan (1998)  4.712403\n",
      "5700     5799                                      Exodus (1960)  4.702237\n",
      "7675     8147                                      Charly (1968)  4.701740\n",
      "7906     8588                           Killing Me Softly (2002)  4.647009\n",
      "\n",
      "*******************************************************************************************************\n",
      "\n",
      "853/853 [==============================] - 2s 3ms/step\n",
      "user  4 :\n",
      "      movieId                                       title    rating\n",
      "1841     1925                                Wings (1927)  4.985841\n",
      "6269     6375       Gigantic (A Tale of Two Johns) (2002)  4.923798\n",
      "293       296                         Pulp Fiction (1994)  4.902143\n",
      "7680     8157   Jin Roh: The Wolf Brigade (Jin-Rô) (1998)  4.763205\n",
      "1333     1364  Zero Kelvin (Kjærlighetens kjøtere) (1995)  4.755616\n",
      "257       260   Star Wars: Episode IV - A New Hope (1977)  4.746949\n",
      "5800     5899                                 Zulu (1964)  4.734793\n",
      "3579     3670                    Story of G.I. Joe (1945)  4.712605\n",
      "1175     1200                               Aliens (1986)  4.702568\n",
      "4242     4337                    Sand Pebbles, The (1966)  4.699737\n",
      "\n",
      "*******************************************************************************************************\n",
      "\n",
      "853/853 [==============================] - 2s 3ms/step\n",
      "user  5 :\n",
      "      movieId                                      title    rating\n",
      "5906     6005  Blue Collar Comedy Tour: The Movie (2003)  4.939604\n",
      "5026     5122                       Summer of '42 (1971)  4.826070\n",
      "4875     4971                Moscow on the Hudson (1984)  4.782228\n",
      "2775     2861                For Love of the Game (1999)  4.779891\n",
      "7143     7255       Win a Date with Tad Hamilton! (2004)  4.753098\n",
      "1531     1583                      Simple Wish, A (1997)  4.721041\n",
      "6449     6559                       Little Giants (1994)  4.699988\n",
      "3706     3797                       In Crowd, The (2000)  4.675044\n",
      "4753     4849                     My First Mister (2001)  4.673554\n",
      "944       961              Little Lord Fauntleroy (1936)  4.667161\n",
      "\n",
      "*******************************************************************************************************\n",
      "\n",
      "853/853 [==============================] - 3s 3ms/step\n",
      "user  6 :\n",
      "      movieId                                              title  rating\n",
      "7664     8132                                   Gladiator (1992)     5.0\n",
      "7131     7243  Intolerance: Love's Struggle Throughout the Ag...     5.0\n",
      "7576     7941  Smiles of a Summer Night (Sommarnattens leende...     5.0\n",
      "7100     7212                      I Was a Male War Bride (1949)     5.0\n",
      "7702     8208                           Razor's Edge, The (1946)     5.0\n",
      "927       944                                Lost Horizon (1937)     5.0\n",
      "7847     8492                Christmas Carol, A (Scrooge) (1951)     5.0\n",
      "7041     7153  Lord of the Rings: The Return of the King, The...     5.0\n",
      "1965     2049                   Happiest Millionaire, The (1967)     5.0\n",
      "4897     4993  Lord of the Rings: The Fellowship of the Ring,...     5.0\n",
      "\n",
      "*******************************************************************************************************\n",
      "\n",
      "853/853 [==============================] - 2s 3ms/step\n",
      "user  7 :\n",
      "      movieId                                             title  rating\n",
      "4405     4500                        Drowning by Numbers (1988)     5.0\n",
      "6385     6495                       Experiment in Terror (1962)     5.0\n",
      "5287     5384                            I Want to Live! (1958)     5.0\n",
      "5375     5472                                       1776 (1972)     5.0\n",
      "5542     5641                               Moderns, The (1988)     5.0\n",
      "5570     5669                      Bowling for Columbine (2002)     5.0\n",
      "5642     5741  Woman Next Door, The (Femme d'à côté, La) (1981)     5.0\n",
      "5692     5791                                      Frida (2002)     5.0\n",
      "5721     5820          Standing in the Shadows of Motown (2002)     5.0\n",
      "5994     6093                          Last Unicorn, The (1982)     5.0\n",
      "\n",
      "*******************************************************************************************************\n",
      "\n",
      "853/853 [==============================] - 3s 3ms/step\n",
      "user  8 :\n",
      "      movieId                                              title    rating\n",
      "257       260          Star Wars: Episode IV - A New Hope (1977)  4.367496\n",
      "8315     8998                        That's Entertainment (1974)  4.365298\n",
      "1173     1198  Raiders of the Lost Ark (Indiana Jones and the...  4.347145\n",
      "6406     6516                                   Anastasia (1956)  4.318374\n",
      "1171     1196  Star Wars: Episode V - The Empire Strikes Back...  4.290330\n",
      "4744     4840         Last Metro, The (Dernier métro, Le) (1980)  4.255191\n",
      "4897     4993  Lord of the Rings: The Fellowship of the Ring,...  4.185774\n",
      "5853     5952      Lord of the Rings: The Two Towers, The (2002)  4.182123\n",
      "5146     5243           Young Master, The (Shi di chu ma) (1980)  4.180718\n",
      "7274     7386                       Ten Commandments, The (1956)  4.177233\n",
      "\n",
      "*******************************************************************************************************\n",
      "\n",
      "853/853 [==============================] - 2s 3ms/step\n",
      "user  9 :\n",
      "      movieId                                              title    rating\n",
      "6676     6786                    Kiss of the Spider Woman (1985)  5.000000\n",
      "3495     3586                              Idolmaker, The (1980)  5.000000\n",
      "6759     6869                        Bus 174 (Ônibus 174) (2002)  5.000000\n",
      "8041     8724               Leopard, The (Gattopardo, Il) (1963)  4.931647\n",
      "4521     4616                                  Lean on Me (1989)  4.925087\n",
      "4142     4236  Keep the River on Your Right: A Modern Canniba...  4.913753\n",
      "1944     2028                         Saving Private Ryan (1998)  4.905371\n",
      "7356     7502                            Band of Brothers (2001)  4.898203\n",
      "3698     3789                             Pawnbroker, The (1964)  4.897255\n",
      "843       858                              Godfather, The (1972)  4.895542\n",
      "\n",
      "*******************************************************************************************************\n",
      "\n"
     ]
    },
    {
     "name": "stdout",
     "output_type": "stream",
     "text": [
      "853/853 [==============================] - 2s 3ms/step\n",
      "user  10 :\n",
      "      movieId                                       title  rating\n",
      "5789     5888                       Brother (Brat) (1997)     5.0\n",
      "7382     7581                    Fountainhead, The (1949)     5.0\n",
      "6561     6671                Angel at My Table, An (1990)     5.0\n",
      "5776     5875                    Personal Velocity (2002)     5.0\n",
      "1505     1555  To Have, or Not (En avoir (ou pas)) (1995)     5.0\n",
      "596       602               Great Day in Harlem, A (1994)     5.0\n",
      "5721     5820    Standing in the Shadows of Motown (2002)     5.0\n",
      "626       633                      Denise Calls Up (1995)     5.0\n",
      "946       963               Inspector General, The (1949)     5.0\n",
      "5684     5783                              Derrida (2002)     5.0\n",
      "\n",
      "*******************************************************************************************************\n",
      "\n",
      "853/853 [==============================] - 3s 3ms/step\n",
      "user  11 :\n",
      "      movieId                                              title    rating\n",
      "79         80        White Balloon, The (Badkonake sefid) (1995)  4.537231\n",
      "5741     5840  My Mother's Castle (Château de ma mère, Le) (1...  4.526159\n",
      "7131     7243  Intolerance: Love's Struggle Throughout the Ag...  4.510516\n",
      "1439     1477                                  Love Jones (1997)  4.495407\n",
      "4136     4230                              Too Much Sleep (1997)  4.468104\n",
      "5111     5208  Ninth Configuration, The (a.k.a. Twinkle, Twin...  4.462155\n",
      "2849     2935                               Lady Eve, The (1941)  4.445179\n",
      "3137     3224           Woman in the Dunes (Suna no onna) (1964)  4.383754\n",
      "4616     4711             Theremin: An Electronic Odyssey (1993)  4.377728\n",
      "1505     1555         To Have, or Not (En avoir (ou pas)) (1995)  4.333256\n",
      "\n",
      "*******************************************************************************************************\n",
      "\n",
      "853/853 [==============================] - 2s 3ms/step\n",
      "user  12 :\n",
      "      movieId                                              title    rating\n",
      "6084     6183                                 Pillow Talk (1959)  5.000000\n",
      "4349     4444  Way of the Dragon, The (a.k.a. Return of the D...  5.000000\n",
      "7115     7227                    Trouble with Angels, The (1966)  5.000000\n",
      "4907     5003            Nine Lives of Fritz the Cat, The (1974)  5.000000\n",
      "6963     7075                           Court Jester, The (1956)  4.972227\n",
      "2414     2499                              God Said 'Ha!' (1998)  4.910264\n",
      "6342     6452                       Long, Hot Summer, The (1958)  4.890172\n",
      "4897     4993  Lord of the Rings: The Fellowship of the Ring,...  4.883872\n",
      "6532     6642                    Showdown in Little Tokyo (1991)  4.877835\n",
      "2798     2884                                    Dog Park (1998)  4.849488\n",
      "\n",
      "*******************************************************************************************************\n",
      "\n",
      "853/853 [==============================] - 2s 3ms/step\n",
      "user  13 :\n",
      "      movieId                                              title    rating\n",
      "7726     8260            Crazy Stranger, The (Gadjo Dilo) (1997)  4.248426\n",
      "6406     6516                                   Anastasia (1956)  4.243953\n",
      "5217     5314          Behind the Sun (Abril Despedaçado) (2001)  4.228870\n",
      "5741     5840  My Mother's Castle (Château de ma mère, Le) (1...  4.179501\n",
      "7519     7844  Legend, The (Legend of Fong Sai-Yuk, The) (Fon...  4.126890\n",
      "4136     4230                              Too Much Sleep (1997)  4.113493\n",
      "7885     8542                         Day at the Races, A (1937)  4.110505\n",
      "3901     3995                                 Boys Life 3 (2000)  4.066232\n",
      "7723     8257                                Battleground (1949)  4.049064\n",
      "7555     7918                          Indian Runner, The (1991)  4.044986\n",
      "\n",
      "*******************************************************************************************************\n",
      "\n",
      "853/853 [==============================] - 2s 3ms/step\n",
      "user  14 :\n",
      "      movieId                                              title  rating\n",
      "3495     3586                              Idolmaker, The (1980)     5.0\n",
      "4294     4389                          Lost and Delirious (2001)     5.0\n",
      "5964     6063                                         May (2002)     5.0\n",
      "3244     3331                                    My Tutor (1983)     5.0\n",
      "5473     5570                              Thesis (Tesis) (1996)     5.0\n",
      "2154     2239  Swept Away (Travolti da un insolito destino ne...     5.0\n",
      "7382     7581                           Fountainhead, The (1949)     5.0\n",
      "463       467                             Live Nude Girls (1995)     5.0\n",
      "2891     2977                            Crazy in Alabama (1999)     5.0\n",
      "7592     7976                                    Ken Park (2002)     5.0\n",
      "\n",
      "*******************************************************************************************************\n",
      "\n",
      "853/853 [==============================] - 2s 3ms/step\n",
      "user  15 :\n",
      "      movieId                                       title    rating\n",
      "5776     5875                    Personal Velocity (2002)  4.647439\n",
      "1505     1555  To Have, or Not (En avoir (ou pas)) (1995)  4.630406\n",
      "114       116                Anne Frank Remembered (1995)  4.553314\n",
      "6665     6775                        Life and Debt (2001)  4.484474\n",
      "4179     4274                            Cleopatra (1963)  4.482176\n",
      "4773     4869          Burnt Money (Plata Quemada) (2000)  4.482123\n",
      "6190     6289                  Ghosts of the Abyss (2003)  4.473128\n",
      "4708     4804                Pocketful of Miracles (1961)  4.470989\n",
      "5789     5888                       Brother (Brat) (1997)  4.462635\n",
      "6754     6864              Concert for George, The (2003)  4.432933\n",
      "\n",
      "*******************************************************************************************************\n",
      "\n",
      "853/853 [==============================] - 2s 3ms/step\n",
      "user  16 :\n",
      "      movieId                                              title    rating\n",
      "6869     6981                           Ordet (Word, The) (1955)  4.010139\n",
      "5741     5840  My Mother's Castle (Château de ma mère, Le) (1...  4.000229\n",
      "5508     5607     Son of the Bride (Hijo de la novia, El) (2001)  3.998399\n",
      "6900     7012                                 Mr. Destiny (1990)  3.989500\n",
      "6873     6985  Passion of Joan of Arc, The (Passion de Jeanne...  3.963125\n",
      "7576     7941  Smiles of a Summer Night (Sommarnattens leende...  3.943516\n",
      "6023     6122      Richard Pryor Live on the Sunset Strip (1982)  3.940482\n",
      "6236     6335                        Dancer Upstairs, The (2002)  3.928963\n",
      "7131     7243  Intolerance: Love's Struggle Throughout the Ag...  3.926332\n",
      "4169     4263                      Days of Wine and Roses (1962)  3.865601\n",
      "\n",
      "*******************************************************************************************************\n",
      "\n",
      "853/853 [==============================] - 3s 3ms/step\n",
      "user  17 :\n",
      "      movieId                                              title  rating\n",
      "7576     7941  Smiles of a Summer Night (Sommarnattens leende...     5.0\n",
      "4260     4355                                  Youngblood (1986)     5.0\n",
      "1953     2037                                  Candleshoe (1977)     5.0\n",
      "7552     7915           Samurai Fiction (SF: Episode One) (1998)     5.0\n",
      "3505     3596                                     Screwed (2000)     5.0\n",
      "3349     3438                Teenage Mutant Ninja Turtles (1990)     5.0\n",
      "7555     7918                          Indian Runner, The (1991)     5.0\n",
      "8235     8918                                      Eulogy (2004)     5.0\n",
      "6956     7068  Last Year at Marienbad (L'Année dernière à Mar...     5.0\n",
      "6600     6710                                       Dummy (2002)     5.0\n",
      "\n",
      "*******************************************************************************************************\n",
      "\n",
      "853/853 [==============================] - 2s 3ms/step\n",
      "user  18 :\n",
      "      movieId                                          title    rating\n",
      "572       577                                   Andre (1994)  5.000000\n",
      "7497     7820      Virgin Spring, The (Jungfrukällan) (1960)  5.000000\n",
      "704       716                     Switchblade Sisters (1975)  5.000000\n",
      "3971     4065                              Foxy Brown (1974)  5.000000\n",
      "2838     2924               Drunken Master (Jui kuen) (1978)  5.000000\n",
      "5789     5888                          Brother (Brat) (1997)  4.994092\n",
      "6401     6511                                   Jesus (1979)  4.987891\n",
      "4773     4869             Burnt Money (Plata Quemada) (2000)  4.952542\n",
      "7730     8264                            Grey Gardens (1975)  4.941276\n",
      "6023     6122  Richard Pryor Live on the Sunset Strip (1982)  4.939329\n",
      "\n",
      "*******************************************************************************************************\n",
      "\n"
     ]
    },
    {
     "name": "stdout",
     "output_type": "stream",
     "text": [
      "853/853 [==============================] - 3s 3ms/step\n",
      "user  19 :\n",
      "      movieId                                              title    rating\n",
      "1533     1585                               Love Serenade (1996)  5.000000\n",
      "3554     3645            Cleo from 5 to 7 (Cléo de 5 à 7) (1962)  4.926860\n",
      "826       841  Eyes Without a Face (Yeux sans visage, Les) (1...  4.872491\n",
      "1764     1846                                Nil By Mouth (1997)  4.836774\n",
      "4050     4144      In the Mood For Love (Fa yeung nin wa) (2000)  4.806373\n",
      "7593     7979                                Monterey Pop (1968)  4.769898\n",
      "940       957                         Scarlet Letter, The (1926)  4.764027\n",
      "7572     7937                    Silence, The (Tystnaden) (1963)  4.762913\n",
      "6842     6954  Barbarian Invasions, The (Les invasions barbar...  4.756328\n",
      "6242     6341                        Shape of Things, The (2003)  4.745326\n",
      "\n",
      "*******************************************************************************************************\n",
      "\n",
      "704/853 [=======================>......] - ETA: 0s"
     ]
    },
    {
     "ename": "KeyboardInterrupt",
     "evalue": "",
     "output_type": "error",
     "traceback": [
      "\u001b[0;31m---------------------------------------------------------------------------\u001b[0m",
      "\u001b[0;31mKeyboardInterrupt\u001b[0m                         Traceback (most recent call last)",
      "Cell \u001b[0;32mIn[61], line 7\u001b[0m\n\u001b[1;32m      4\u001b[0m \u001b[38;5;66;03m# Generate recommendations for each user using the entire dataset\u001b[39;00m\n\u001b[1;32m      5\u001b[0m \u001b[38;5;28;01mfor\u001b[39;00m i \u001b[38;5;129;01min\u001b[39;00m \u001b[38;5;28mrange\u001b[39m(num_users):\n\u001b[1;32m      6\u001b[0m     \u001b[38;5;66;03m# Generate recommendations for user i\u001b[39;00m\n\u001b[0;32m----> 7\u001b[0m     recommendations \u001b[38;5;241m=\u001b[39m \u001b[43mrecommend_movies\u001b[49m\u001b[43m(\u001b[49m\u001b[43mmodel\u001b[49m\u001b[43m,\u001b[49m\u001b[43m \u001b[49m\u001b[43mi\u001b[49m\u001b[43m,\u001b[49m\u001b[43m \u001b[49m\u001b[43mmovies\u001b[49m\u001b[43m)\u001b[49m\n\u001b[1;32m      8\u001b[0m     \u001b[38;5;66;03m# Print top 10 recommended movies for user i\u001b[39;00m\n\u001b[1;32m      9\u001b[0m     \u001b[38;5;28mprint\u001b[39m(\u001b[38;5;124m\"\u001b[39m\u001b[38;5;124muser \u001b[39m\u001b[38;5;124m\"\u001b[39m,i\u001b[38;5;241m+\u001b[39m\u001b[38;5;241m1\u001b[39m,\u001b[38;5;124m\"\u001b[39m\u001b[38;5;124m:\u001b[39m\u001b[38;5;124m\"\u001b[39m)\n",
      "Cell \u001b[0;32mIn[54], line 11\u001b[0m, in \u001b[0;36mrecommend_movies\u001b[0;34m(model, user_id, movie_df, top_n)\u001b[0m\n\u001b[1;32m      8\u001b[0m user_movie_matrix \u001b[38;5;241m=\u001b[39m [user, movies]\n\u001b[1;32m     10\u001b[0m \u001b[38;5;66;03m# Predict ratings for all movies\u001b[39;00m\n\u001b[0;32m---> 11\u001b[0m ratings \u001b[38;5;241m=\u001b[39m \u001b[43mmodel\u001b[49m\u001b[38;5;241;43m.\u001b[39;49m\u001b[43mpredict\u001b[49m\u001b[43m(\u001b[49m\u001b[43muser_movie_matrix\u001b[49m\u001b[43m)\u001b[49m\n\u001b[1;32m     12\u001b[0m ratings[ratings\u001b[38;5;241m>\u001b[39m\u001b[38;5;241m5.0\u001b[39m] \u001b[38;5;241m=\u001b[39m \u001b[38;5;241m5.0\u001b[39m\n\u001b[1;32m     14\u001b[0m \u001b[38;5;66;03m# Create DataFrame of predicted ratings for each movie\u001b[39;00m\n",
      "File \u001b[0;32m~/miniconda/lib/python3.10/site-packages/keras/utils/traceback_utils.py:65\u001b[0m, in \u001b[0;36mfilter_traceback.<locals>.error_handler\u001b[0;34m(*args, **kwargs)\u001b[0m\n\u001b[1;32m     63\u001b[0m filtered_tb \u001b[38;5;241m=\u001b[39m \u001b[38;5;28;01mNone\u001b[39;00m\n\u001b[1;32m     64\u001b[0m \u001b[38;5;28;01mtry\u001b[39;00m:\n\u001b[0;32m---> 65\u001b[0m     \u001b[38;5;28;01mreturn\u001b[39;00m \u001b[43mfn\u001b[49m\u001b[43m(\u001b[49m\u001b[38;5;241;43m*\u001b[39;49m\u001b[43margs\u001b[49m\u001b[43m,\u001b[49m\u001b[43m \u001b[49m\u001b[38;5;241;43m*\u001b[39;49m\u001b[38;5;241;43m*\u001b[39;49m\u001b[43mkwargs\u001b[49m\u001b[43m)\u001b[49m\n\u001b[1;32m     66\u001b[0m \u001b[38;5;28;01mexcept\u001b[39;00m \u001b[38;5;167;01mException\u001b[39;00m \u001b[38;5;28;01mas\u001b[39;00m e:\n\u001b[1;32m     67\u001b[0m     filtered_tb \u001b[38;5;241m=\u001b[39m _process_traceback_frames(e\u001b[38;5;241m.\u001b[39m__traceback__)\n",
      "File \u001b[0;32m~/miniconda/lib/python3.10/site-packages/keras/engine/training.py:2253\u001b[0m, in \u001b[0;36mModel.predict\u001b[0;34m(self, x, batch_size, verbose, steps, callbacks, max_queue_size, workers, use_multiprocessing)\u001b[0m\n\u001b[1;32m   2251\u001b[0m \u001b[38;5;28;01mfor\u001b[39;00m step \u001b[38;5;129;01min\u001b[39;00m data_handler\u001b[38;5;241m.\u001b[39msteps():\n\u001b[1;32m   2252\u001b[0m     callbacks\u001b[38;5;241m.\u001b[39mon_predict_batch_begin(step)\n\u001b[0;32m-> 2253\u001b[0m     tmp_batch_outputs \u001b[38;5;241m=\u001b[39m \u001b[38;5;28;43mself\u001b[39;49m\u001b[38;5;241;43m.\u001b[39;49m\u001b[43mpredict_function\u001b[49m\u001b[43m(\u001b[49m\u001b[43miterator\u001b[49m\u001b[43m)\u001b[49m\n\u001b[1;32m   2254\u001b[0m     \u001b[38;5;28;01mif\u001b[39;00m data_handler\u001b[38;5;241m.\u001b[39mshould_sync:\n\u001b[1;32m   2255\u001b[0m         context\u001b[38;5;241m.\u001b[39masync_wait()\n",
      "File \u001b[0;32m~/miniconda/lib/python3.10/site-packages/tensorflow/python/util/traceback_utils.py:150\u001b[0m, in \u001b[0;36mfilter_traceback.<locals>.error_handler\u001b[0;34m(*args, **kwargs)\u001b[0m\n\u001b[1;32m    148\u001b[0m filtered_tb \u001b[38;5;241m=\u001b[39m \u001b[38;5;28;01mNone\u001b[39;00m\n\u001b[1;32m    149\u001b[0m \u001b[38;5;28;01mtry\u001b[39;00m:\n\u001b[0;32m--> 150\u001b[0m   \u001b[38;5;28;01mreturn\u001b[39;00m \u001b[43mfn\u001b[49m\u001b[43m(\u001b[49m\u001b[38;5;241;43m*\u001b[39;49m\u001b[43margs\u001b[49m\u001b[43m,\u001b[49m\u001b[43m \u001b[49m\u001b[38;5;241;43m*\u001b[39;49m\u001b[38;5;241;43m*\u001b[39;49m\u001b[43mkwargs\u001b[49m\u001b[43m)\u001b[49m\n\u001b[1;32m    151\u001b[0m \u001b[38;5;28;01mexcept\u001b[39;00m \u001b[38;5;167;01mException\u001b[39;00m \u001b[38;5;28;01mas\u001b[39;00m e:\n\u001b[1;32m    152\u001b[0m   filtered_tb \u001b[38;5;241m=\u001b[39m _process_traceback_frames(e\u001b[38;5;241m.\u001b[39m__traceback__)\n",
      "File \u001b[0;32m~/miniconda/lib/python3.10/site-packages/tensorflow/python/eager/def_function.py:915\u001b[0m, in \u001b[0;36mFunction.__call__\u001b[0;34m(self, *args, **kwds)\u001b[0m\n\u001b[1;32m    912\u001b[0m compiler \u001b[38;5;241m=\u001b[39m \u001b[38;5;124m\"\u001b[39m\u001b[38;5;124mxla\u001b[39m\u001b[38;5;124m\"\u001b[39m \u001b[38;5;28;01mif\u001b[39;00m \u001b[38;5;28mself\u001b[39m\u001b[38;5;241m.\u001b[39m_jit_compile \u001b[38;5;28;01melse\u001b[39;00m \u001b[38;5;124m\"\u001b[39m\u001b[38;5;124mnonXla\u001b[39m\u001b[38;5;124m\"\u001b[39m\n\u001b[1;32m    914\u001b[0m \u001b[38;5;28;01mwith\u001b[39;00m OptionalXlaContext(\u001b[38;5;28mself\u001b[39m\u001b[38;5;241m.\u001b[39m_jit_compile):\n\u001b[0;32m--> 915\u001b[0m   result \u001b[38;5;241m=\u001b[39m \u001b[38;5;28;43mself\u001b[39;49m\u001b[38;5;241;43m.\u001b[39;49m\u001b[43m_call\u001b[49m\u001b[43m(\u001b[49m\u001b[38;5;241;43m*\u001b[39;49m\u001b[43margs\u001b[49m\u001b[43m,\u001b[49m\u001b[43m \u001b[49m\u001b[38;5;241;43m*\u001b[39;49m\u001b[38;5;241;43m*\u001b[39;49m\u001b[43mkwds\u001b[49m\u001b[43m)\u001b[49m\n\u001b[1;32m    917\u001b[0m new_tracing_count \u001b[38;5;241m=\u001b[39m \u001b[38;5;28mself\u001b[39m\u001b[38;5;241m.\u001b[39mexperimental_get_tracing_count()\n\u001b[1;32m    918\u001b[0m without_tracing \u001b[38;5;241m=\u001b[39m (tracing_count \u001b[38;5;241m==\u001b[39m new_tracing_count)\n",
      "File \u001b[0;32m~/miniconda/lib/python3.10/site-packages/tensorflow/python/eager/def_function.py:954\u001b[0m, in \u001b[0;36mFunction._call\u001b[0;34m(self, *args, **kwds)\u001b[0m\n\u001b[1;32m    951\u001b[0m \u001b[38;5;28mself\u001b[39m\u001b[38;5;241m.\u001b[39m_lock\u001b[38;5;241m.\u001b[39mrelease()\n\u001b[1;32m    952\u001b[0m \u001b[38;5;66;03m# In this case we have not created variables on the first call. So we can\u001b[39;00m\n\u001b[1;32m    953\u001b[0m \u001b[38;5;66;03m# run the first trace but we should fail if variables are created.\u001b[39;00m\n\u001b[0;32m--> 954\u001b[0m results \u001b[38;5;241m=\u001b[39m \u001b[38;5;28;43mself\u001b[39;49m\u001b[38;5;241;43m.\u001b[39;49m\u001b[43m_stateful_fn\u001b[49m\u001b[43m(\u001b[49m\u001b[38;5;241;43m*\u001b[39;49m\u001b[43margs\u001b[49m\u001b[43m,\u001b[49m\u001b[43m \u001b[49m\u001b[38;5;241;43m*\u001b[39;49m\u001b[38;5;241;43m*\u001b[39;49m\u001b[43mkwds\u001b[49m\u001b[43m)\u001b[49m\n\u001b[1;32m    955\u001b[0m \u001b[38;5;28;01mif\u001b[39;00m \u001b[38;5;28mself\u001b[39m\u001b[38;5;241m.\u001b[39m_created_variables \u001b[38;5;129;01mand\u001b[39;00m \u001b[38;5;129;01mnot\u001b[39;00m ALLOW_DYNAMIC_VARIABLE_CREATION:\n\u001b[1;32m    956\u001b[0m   \u001b[38;5;28;01mraise\u001b[39;00m \u001b[38;5;167;01mValueError\u001b[39;00m(\u001b[38;5;124m\"\u001b[39m\u001b[38;5;124mCreating variables on a non-first call to a function\u001b[39m\u001b[38;5;124m\"\u001b[39m\n\u001b[1;32m    957\u001b[0m                    \u001b[38;5;124m\"\u001b[39m\u001b[38;5;124m decorated with tf.function.\u001b[39m\u001b[38;5;124m\"\u001b[39m)\n",
      "File \u001b[0;32m~/miniconda/lib/python3.10/site-packages/tensorflow/python/eager/function.py:2496\u001b[0m, in \u001b[0;36mFunction.__call__\u001b[0;34m(self, *args, **kwargs)\u001b[0m\n\u001b[1;32m   2493\u001b[0m \u001b[38;5;28;01mwith\u001b[39;00m \u001b[38;5;28mself\u001b[39m\u001b[38;5;241m.\u001b[39m_lock:\n\u001b[1;32m   2494\u001b[0m   (graph_function,\n\u001b[1;32m   2495\u001b[0m    filtered_flat_args) \u001b[38;5;241m=\u001b[39m \u001b[38;5;28mself\u001b[39m\u001b[38;5;241m.\u001b[39m_maybe_define_function(args, kwargs)\n\u001b[0;32m-> 2496\u001b[0m \u001b[38;5;28;01mreturn\u001b[39;00m \u001b[43mgraph_function\u001b[49m\u001b[38;5;241;43m.\u001b[39;49m\u001b[43m_call_flat\u001b[49m\u001b[43m(\u001b[49m\n\u001b[1;32m   2497\u001b[0m \u001b[43m    \u001b[49m\u001b[43mfiltered_flat_args\u001b[49m\u001b[43m,\u001b[49m\u001b[43m \u001b[49m\u001b[43mcaptured_inputs\u001b[49m\u001b[38;5;241;43m=\u001b[39;49m\u001b[43mgraph_function\u001b[49m\u001b[38;5;241;43m.\u001b[39;49m\u001b[43mcaptured_inputs\u001b[49m\u001b[43m)\u001b[49m\n",
      "File \u001b[0;32m~/miniconda/lib/python3.10/site-packages/tensorflow/python/eager/function.py:1862\u001b[0m, in \u001b[0;36mConcreteFunction._call_flat\u001b[0;34m(self, args, captured_inputs, cancellation_manager)\u001b[0m\n\u001b[1;32m   1858\u001b[0m possible_gradient_type \u001b[38;5;241m=\u001b[39m gradients_util\u001b[38;5;241m.\u001b[39mPossibleTapeGradientTypes(args)\n\u001b[1;32m   1859\u001b[0m \u001b[38;5;28;01mif\u001b[39;00m (possible_gradient_type \u001b[38;5;241m==\u001b[39m gradients_util\u001b[38;5;241m.\u001b[39mPOSSIBLE_GRADIENT_TYPES_NONE\n\u001b[1;32m   1860\u001b[0m     \u001b[38;5;129;01mand\u001b[39;00m executing_eagerly):\n\u001b[1;32m   1861\u001b[0m   \u001b[38;5;66;03m# No tape is watching; skip to running the function.\u001b[39;00m\n\u001b[0;32m-> 1862\u001b[0m   \u001b[38;5;28;01mreturn\u001b[39;00m \u001b[38;5;28mself\u001b[39m\u001b[38;5;241m.\u001b[39m_build_call_outputs(\u001b[38;5;28;43mself\u001b[39;49m\u001b[38;5;241;43m.\u001b[39;49m\u001b[43m_inference_function\u001b[49m\u001b[38;5;241;43m.\u001b[39;49m\u001b[43mcall\u001b[49m\u001b[43m(\u001b[49m\n\u001b[1;32m   1863\u001b[0m \u001b[43m      \u001b[49m\u001b[43mctx\u001b[49m\u001b[43m,\u001b[49m\u001b[43m \u001b[49m\u001b[43margs\u001b[49m\u001b[43m,\u001b[49m\u001b[43m \u001b[49m\u001b[43mcancellation_manager\u001b[49m\u001b[38;5;241;43m=\u001b[39;49m\u001b[43mcancellation_manager\u001b[49m\u001b[43m)\u001b[49m)\n\u001b[1;32m   1864\u001b[0m forward_backward \u001b[38;5;241m=\u001b[39m \u001b[38;5;28mself\u001b[39m\u001b[38;5;241m.\u001b[39m_select_forward_and_backward_functions(\n\u001b[1;32m   1865\u001b[0m     args,\n\u001b[1;32m   1866\u001b[0m     possible_gradient_type,\n\u001b[1;32m   1867\u001b[0m     executing_eagerly)\n\u001b[1;32m   1868\u001b[0m forward_function, args_with_tangents \u001b[38;5;241m=\u001b[39m forward_backward\u001b[38;5;241m.\u001b[39mforward()\n",
      "File \u001b[0;32m~/miniconda/lib/python3.10/site-packages/tensorflow/python/eager/function.py:499\u001b[0m, in \u001b[0;36m_EagerDefinedFunction.call\u001b[0;34m(self, ctx, args, cancellation_manager)\u001b[0m\n\u001b[1;32m    497\u001b[0m \u001b[38;5;28;01mwith\u001b[39;00m _InterpolateFunctionError(\u001b[38;5;28mself\u001b[39m):\n\u001b[1;32m    498\u001b[0m   \u001b[38;5;28;01mif\u001b[39;00m cancellation_manager \u001b[38;5;129;01mis\u001b[39;00m \u001b[38;5;28;01mNone\u001b[39;00m:\n\u001b[0;32m--> 499\u001b[0m     outputs \u001b[38;5;241m=\u001b[39m \u001b[43mexecute\u001b[49m\u001b[38;5;241;43m.\u001b[39;49m\u001b[43mexecute\u001b[49m\u001b[43m(\u001b[49m\n\u001b[1;32m    500\u001b[0m \u001b[43m        \u001b[49m\u001b[38;5;28;43mstr\u001b[39;49m\u001b[43m(\u001b[49m\u001b[38;5;28;43mself\u001b[39;49m\u001b[38;5;241;43m.\u001b[39;49m\u001b[43msignature\u001b[49m\u001b[38;5;241;43m.\u001b[39;49m\u001b[43mname\u001b[49m\u001b[43m)\u001b[49m\u001b[43m,\u001b[49m\n\u001b[1;32m    501\u001b[0m \u001b[43m        \u001b[49m\u001b[43mnum_outputs\u001b[49m\u001b[38;5;241;43m=\u001b[39;49m\u001b[38;5;28;43mself\u001b[39;49m\u001b[38;5;241;43m.\u001b[39;49m\u001b[43m_num_outputs\u001b[49m\u001b[43m,\u001b[49m\n\u001b[1;32m    502\u001b[0m \u001b[43m        \u001b[49m\u001b[43minputs\u001b[49m\u001b[38;5;241;43m=\u001b[39;49m\u001b[43margs\u001b[49m\u001b[43m,\u001b[49m\n\u001b[1;32m    503\u001b[0m \u001b[43m        \u001b[49m\u001b[43mattrs\u001b[49m\u001b[38;5;241;43m=\u001b[39;49m\u001b[43mattrs\u001b[49m\u001b[43m,\u001b[49m\n\u001b[1;32m    504\u001b[0m \u001b[43m        \u001b[49m\u001b[43mctx\u001b[49m\u001b[38;5;241;43m=\u001b[39;49m\u001b[43mctx\u001b[49m\u001b[43m)\u001b[49m\n\u001b[1;32m    505\u001b[0m   \u001b[38;5;28;01melse\u001b[39;00m:\n\u001b[1;32m    506\u001b[0m     outputs \u001b[38;5;241m=\u001b[39m execute\u001b[38;5;241m.\u001b[39mexecute_with_cancellation(\n\u001b[1;32m    507\u001b[0m         \u001b[38;5;28mstr\u001b[39m(\u001b[38;5;28mself\u001b[39m\u001b[38;5;241m.\u001b[39msignature\u001b[38;5;241m.\u001b[39mname),\n\u001b[1;32m    508\u001b[0m         num_outputs\u001b[38;5;241m=\u001b[39m\u001b[38;5;28mself\u001b[39m\u001b[38;5;241m.\u001b[39m_num_outputs,\n\u001b[0;32m   (...)\u001b[0m\n\u001b[1;32m    511\u001b[0m         ctx\u001b[38;5;241m=\u001b[39mctx,\n\u001b[1;32m    512\u001b[0m         cancellation_manager\u001b[38;5;241m=\u001b[39mcancellation_manager)\n",
      "File \u001b[0;32m~/miniconda/lib/python3.10/site-packages/tensorflow/python/eager/execute.py:54\u001b[0m, in \u001b[0;36mquick_execute\u001b[0;34m(op_name, num_outputs, inputs, attrs, ctx, name)\u001b[0m\n\u001b[1;32m     52\u001b[0m \u001b[38;5;28;01mtry\u001b[39;00m:\n\u001b[1;32m     53\u001b[0m   ctx\u001b[38;5;241m.\u001b[39mensure_initialized()\n\u001b[0;32m---> 54\u001b[0m   tensors \u001b[38;5;241m=\u001b[39m \u001b[43mpywrap_tfe\u001b[49m\u001b[38;5;241;43m.\u001b[39;49m\u001b[43mTFE_Py_Execute\u001b[49m\u001b[43m(\u001b[49m\u001b[43mctx\u001b[49m\u001b[38;5;241;43m.\u001b[39;49m\u001b[43m_handle\u001b[49m\u001b[43m,\u001b[49m\u001b[43m \u001b[49m\u001b[43mdevice_name\u001b[49m\u001b[43m,\u001b[49m\u001b[43m \u001b[49m\u001b[43mop_name\u001b[49m\u001b[43m,\u001b[49m\n\u001b[1;32m     55\u001b[0m \u001b[43m                                      \u001b[49m\u001b[43minputs\u001b[49m\u001b[43m,\u001b[49m\u001b[43m \u001b[49m\u001b[43mattrs\u001b[49m\u001b[43m,\u001b[49m\u001b[43m \u001b[49m\u001b[43mnum_outputs\u001b[49m\u001b[43m)\u001b[49m\n\u001b[1;32m     56\u001b[0m \u001b[38;5;28;01mexcept\u001b[39;00m core\u001b[38;5;241m.\u001b[39m_NotOkStatusException \u001b[38;5;28;01mas\u001b[39;00m e:\n\u001b[1;32m     57\u001b[0m   \u001b[38;5;28;01mif\u001b[39;00m name \u001b[38;5;129;01mis\u001b[39;00m \u001b[38;5;129;01mnot\u001b[39;00m \u001b[38;5;28;01mNone\u001b[39;00m:\n",
      "\u001b[0;31mKeyboardInterrupt\u001b[0m: "
     ]
    }
   ],
   "source": [
    "# Calculate mean and standard deviation of evaluation scores\n",
    "print(f'Cross-validation loss: {np.mean(scores):.4f} +/- {np.std(scores):.4f}')\n",
    "\n",
    "# Generate recommendations for each user using the entire dataset\n",
    "for i in range(num_users):\n",
    "    # Generate recommendations for user i\n",
    "    recommendations = recommend_movies(model, i, movies)\n",
    "    # Print top 10 recommended movies for user i\n",
    "    print(\"user \",i+1,\":\")\n",
    "    print(recommendations)\n",
    "    print()\n",
    "    print(\"*******************************************************************************************************\")\n",
    "    print()"
   ]
  },
  {
   "cell_type": "markdown",
   "id": "18fce263",
   "metadata": {},
   "source": [
    "### A/B Testing"
   ]
  },
  {
   "cell_type": "code",
   "execution_count": 1,
   "id": "2cd67d75",
   "metadata": {},
   "outputs": [],
   "source": [
    "import numpy as np\n",
    "import pandas as pd\n",
    "from keras.models import load_model\n",
    "from sklearn.model_selection import train_test_split"
   ]
  },
  {
   "cell_type": "code",
   "execution_count": 2,
   "id": "dde65d12",
   "metadata": {},
   "outputs": [
    {
     "name": "stdout",
     "output_type": "stream",
     "text": [
      "Metal device set to: Apple M1\n"
     ]
    },
    {
     "name": "stderr",
     "output_type": "stream",
     "text": [
      "2023-05-11 21:33:28.255382: I tensorflow/core/common_runtime/pluggable_device/pluggable_device_factory.cc:306] Could not identify NUMA node of platform GPU ID 0, defaulting to 0. Your kernel may not have been built with NUMA support.\n",
      "2023-05-11 21:33:28.255522: I tensorflow/core/common_runtime/pluggable_device/pluggable_device_factory.cc:272] Created TensorFlow device (/job:localhost/replica:0/task:0/device:GPU:0 with 0 MB memory) -> physical PluggableDevice (device: 0, name: METAL, pci bus id: <undefined>)\n"
     ]
    }
   ],
   "source": [
    "# Load the trained models\n",
    "neumf_model = load_model('trained_neumf.h5')\n",
    "rnn_model = load_model('trained_rnn.h5')\n",
    "\n",
    "movie_df = pd.read_csv('movies.csv')\n",
    "ratings = pd.read_csv('ratings.csv')\n",
    "\n",
    "train, test = train_test_split(ratings, test_size=0.2, random_state=42)\n",
    "\n",
    "all_movies = list(movie_df.movieId.unique())\n",
    "\n",
    "user = np.full(len(all_movies), 1, dtype='int32')\n",
    "movies = np.array(all_movies, dtype='int32')\n",
    "user_movie_matrix = [user, movies]"
   ]
  },
  {
   "cell_type": "code",
   "execution_count": 3,
   "id": "84464fee",
   "metadata": {},
   "outputs": [
    {
     "name": "stdout",
     "output_type": "stream",
     "text": [
      "  44/6554 [..............................] - ETA: 15s "
     ]
    },
    {
     "name": "stderr",
     "output_type": "stream",
     "text": [
      "2023-05-11 21:33:50.108838: W tensorflow/core/platform/profile_utils/cpu_utils.cc:128] Failed to get CPU frequency: 0 Hz\n",
      "2023-05-11 21:33:50.158075: I tensorflow/core/grappler/optimizers/custom_graph_optimizer_registry.cc:114] Plugin optimizer for device_type GPU is enabled.\n"
     ]
    },
    {
     "name": "stdout",
     "output_type": "stream",
     "text": [
      "6554/6554 [==============================] - 14s 2ms/step\n"
     ]
    }
   ],
   "source": [
    "# Evaluate the models on the test data\n",
    "neumf_predictions = neumf_model.predict([test.userId, test.movieId])\n",
    "neumf_rmse = np.sqrt(np.mean(np.square(neumf_predictions - test.rating.values.reshape(-1, 1))))"
   ]
  },
  {
   "cell_type": "code",
   "execution_count": 8,
   "id": "c7f87dbc",
   "metadata": {},
   "outputs": [
    {
     "name": "stdout",
     "output_type": "stream",
     "text": [
      "6554/6554 [==============================] - 13s 2ms/step\n"
     ]
    }
   ],
   "source": [
    "rnn_predictions = rnn_model.predict(np.expand_dims(np.stack([test.userId, test.movieId], axis=1), axis=1))\n",
    "rnn_predictions = rnn_predictions.flatten() * (5.0 - 0.5) + 0.5\n",
    "rnn_rmse = np.sqrt(np.mean(np.square(rnn_predictions - test.rating.values)))"
   ]
  },
  {
   "cell_type": "code",
   "execution_count": 10,
   "id": "2a6c12a5",
   "metadata": {},
   "outputs": [
    {
     "name": "stdout",
     "output_type": "stream",
     "text": [
      "RMSE for NeuMF: 0.8983061318014586\n",
      "RMSE for RNN: 1.0522898400448653\n",
      "The winning model is: NeuMF\n"
     ]
    }
   ],
   "source": [
    "# Determine the winning model\n",
    "if neumf_rmse < rnn_rmse:\n",
    "    winning_model = 'NeuMF'\n",
    "else:\n",
    "    winning_model = 'RNN'\n",
    "\n",
    "# Print the results\n",
    "print('RMSE for NeuMF:', neumf_rmse)\n",
    "print('RMSE for RNN:', rnn_rmse)\n",
    "print('The winning model is:', winning_model)"
   ]
  },
  {
   "cell_type": "code",
   "execution_count": null,
   "id": "733ede2e",
   "metadata": {},
   "outputs": [],
   "source": []
  }
 ],
 "metadata": {
  "kernelspec": {
   "display_name": "Python 3 (ipykernel)",
   "language": "python",
   "name": "python3"
  },
  "language_info": {
   "codemirror_mode": {
    "name": "ipython",
    "version": 3
   },
   "file_extension": ".py",
   "mimetype": "text/x-python",
   "name": "python",
   "nbconvert_exporter": "python",
   "pygments_lexer": "ipython3",
   "version": "3.10.9"
  }
 },
 "nbformat": 4,
 "nbformat_minor": 5
}
