{
 "cells": [
  {
   "cell_type": "code",
   "execution_count": 1,
   "id": "90cbacee",
   "metadata": {},
   "outputs": [],
   "source": [
    "import pandas as pd\n",
    "import numpy as np\n",
    "from keras import Model\n",
    "from keras.layers import Input, Dense, Concatenate, Dropout, Embedding, Flatten\n",
    "from keras.optimizers import Adam\n",
    "from sklearn.model_selection import KFold\n",
    "from keras.layers import Input, Embedding, Flatten, Dense, Concatenate, Multiply"
   ]
  },
  {
   "cell_type": "code",
   "execution_count": 2,
   "id": "7decc467",
   "metadata": {},
   "outputs": [],
   "source": [
    "from keras.regularizers import l2\n"
   ]
  },
  {
   "cell_type": "code",
   "execution_count": 3,
   "id": "eb4e0b62",
   "metadata": {},
   "outputs": [],
   "source": [
    "from keras.wrappers.scikit_learn import KerasRegressor\n",
    "from sklearn.model_selection import GridSearchCV\n",
    "from sklearn.model_selection import train_test_split\n",
    "from sklearn.metrics import mean_squared_error\n"
   ]
  },
  {
   "cell_type": "code",
   "execution_count": 5,
   "id": "29c3d060",
   "metadata": {},
   "outputs": [],
   "source": [
    "def NeuMF(num_users, num_items, mf_dim, layers, reg_mf, reg_layers):\n",
    "    # Input variables\n",
    "    user_input = Input(shape=(1,), dtype='int32', name='user_input')\n",
    "    item_input = Input(shape=(1,), dtype='int32', name='item_input')\n",
    "\n",
    "    # Embedding layers\n",
    "    mf_user_embedding = Embedding(input_dim=num_users, output_dim=mf_dim, name='mf_user_embedding',\n",
    "                                  embeddings_initializer='random_normal', input_length=1)\n",
    "    mf_item_embedding = Embedding(input_dim=num_items, output_dim=mf_dim, name='mf_item_embedding',\n",
    "                                  embeddings_initializer='random_normal', input_length=1)\n",
    "    mlp_user_embedding = Embedding(input_dim=num_users, output_dim=layers[0]//2, name='mlp_user_embedding',\n",
    "                                   embeddings_initializer='random_normal', input_length=1)\n",
    "    mlp_item_embedding = Embedding(input_dim=num_items, output_dim=layers[0]//2, name='mlp_item_embedding',\n",
    "                                   embeddings_initializer='random_normal', input_length=1)\n",
    "\n",
    "    # GMF branch\n",
    "    mf_user_latent = Flatten()(mf_user_embedding(user_input))\n",
    "    mf_item_latent = Flatten()(mf_item_embedding(item_input))\n",
    "    mf_vector = Multiply()([mf_user_latent, mf_item_latent])\n",
    "\n",
    "    # MLP branch\n",
    "    mlp_user_latent = Flatten()(mlp_user_embedding(user_input))\n",
    "    mlp_item_latent = Flatten()(mlp_item_embedding(item_input))\n",
    "    mlp_vector = Concatenate()([mlp_user_latent, mlp_item_latent])\n",
    "    for i in range(len(layers)):\n",
    "        layer = Dense(layers[i], activation='relu', name=f'layer{i}', kernel_regularizer=l2(reg_layers[i]))\n",
    "        mlp_vector = layer(mlp_vector)\n",
    "        dropout_layer = Dropout(rate=0.2, name=f'dropout_layer{i}')\n",
    "        mlp_vector = dropout_layer(mlp_vector)\n",
    "\n",
    "    # Concatenate GMF and MLP branches\n",
    "    concat_vector = Concatenate()([mf_vector, mlp_vector])\n",
    "\n",
    "    # Output layer\n",
    "    output_layer = Dense(1, activation='linear', name='output_layer', kernel_regularizer=l2(reg_mf))\n",
    "    prediction = output_layer(concat_vector)\n",
    "\n",
    "    # Define the model\n",
    "    model = Model(inputs=[user_input, item_input], outputs=prediction)\n",
    "\n",
    "    return model\n"
   ]
  },
  {
   "cell_type": "code",
   "execution_count": null,
   "id": "d66ccdd8",
   "metadata": {},
   "outputs": [],
   "source": []
  },
  {
   "cell_type": "code",
   "execution_count": 16,
   "id": "297c6173",
   "metadata": {},
   "outputs": [],
   "source": [
    "import pandas as pd\n",
    "import numpy as np\n",
    "from sklearn.model_selection import train_test_split\n",
    "from tensorflow.keras.callbacks import EarlyStopping, ModelCheckpoint\n",
    "from tensorflow.keras.models import load_model\n",
    "from tensorflow.keras.optimizers import Adam\n",
    "from tensorflow.keras.regularizers import l2\n"
   ]
  },
  {
   "cell_type": "code",
   "execution_count": null,
   "id": "81ae3472",
   "metadata": {},
   "outputs": [],
   "source": [
    "# Load data\n",
    "ratings = pd.read_csv('ratings.csv')\n",
    "movies = pd.read_csv('movies.csv')\n",
    "\n",
    "# Split data into train and test sets\n",
    "train, test = train_test_split(ratings, test_size=0.2, random_state=42)\n",
    "\n",
    "# Define hyperparameters to search over\n",
    "hyperparameters = {\n",
    "    'num_factors': [8, 16],\n",
    "    'layers': [[64, 32, 16]],\n",
    "    'reg_mf': [0.01],\n",
    "    'reg_layers': [[0.01, 0.01, 0.01, 0.01], [0.005, 0.005, 0.005,0.005]]\n",
    "}\n"
   ]
  },
  {
   "cell_type": "code",
   "execution_count": 20,
   "id": "e784be3f",
   "metadata": {
    "scrolled": false
   },
   "outputs": [
    {
     "name": "stdout",
     "output_type": "stream",
     "text": [
      "Epoch 1/10\n"
     ]
    },
    {
     "name": "stderr",
     "output_type": "stream",
     "text": [
      "/opt/homebrew/anaconda3/lib/python3.9/site-packages/keras/optimizers/optimizer_v2/adam.py:114: UserWarning: The `lr` argument is deprecated, use `learning_rate` instead.\n",
      "  super().__init__(name, **kwargs)\n",
      "2023-05-11 20:05:07.827074: I tensorflow/core/grappler/optimizers/custom_graph_optimizer_registry.cc:114] Plugin optimizer for device_type GPU is enabled.\n"
     ]
    },
    {
     "name": "stdout",
     "output_type": "stream",
     "text": [
      "1639/1639 [==============================] - ETA: 0s - loss: 1.9587"
     ]
    },
    {
     "name": "stderr",
     "output_type": "stream",
     "text": [
      "2023-05-11 20:06:15.301042: I tensorflow/core/grappler/optimizers/custom_graph_optimizer_registry.cc:114] Plugin optimizer for device_type GPU is enabled.\n"
     ]
    },
    {
     "name": "stdout",
     "output_type": "stream",
     "text": [
      "1639/1639 [==============================] - 81s 49ms/step - loss: 1.9587 - val_loss: 0.8901\n",
      "Epoch 2/10\n",
      "1639/1639 [==============================] - 78s 47ms/step - loss: 1.0797 - val_loss: 0.8558\n",
      "Epoch 3/10\n",
      "1639/1639 [==============================] - 78s 48ms/step - loss: 0.9777 - val_loss: 0.8285\n",
      "Epoch 4/10\n",
      "1639/1639 [==============================] - 78s 47ms/step - loss: 0.9069 - val_loss: 0.8200\n",
      "Epoch 5/10\n",
      "1639/1639 [==============================] - 77s 47ms/step - loss: 0.8570 - val_loss: 0.8134\n",
      "Epoch 6/10\n",
      "1639/1639 [==============================] - 77s 47ms/step - loss: 0.8187 - val_loss: 0.7941\n",
      "Epoch 7/10\n",
      "1639/1639 [==============================] - 77s 47ms/step - loss: 0.7792 - val_loss: 0.7950\n",
      "Epoch 8/10\n",
      "1639/1639 [==============================] - 77s 47ms/step - loss: 0.7510 - val_loss: 0.7821\n",
      "Epoch 9/10\n",
      "1639/1639 [==============================] - 77s 47ms/step - loss: 0.7304 - val_loss: 0.7756\n",
      "Epoch 10/10\n",
      "1639/1639 [==============================] - 78s 48ms/step - loss: 0.7137 - val_loss: 0.7726\n",
      "Epoch 1/10\n"
     ]
    },
    {
     "name": "stderr",
     "output_type": "stream",
     "text": [
      "2023-05-11 20:18:07.412673: I tensorflow/core/grappler/optimizers/custom_graph_optimizer_registry.cc:114] Plugin optimizer for device_type GPU is enabled.\n"
     ]
    },
    {
     "name": "stdout",
     "output_type": "stream",
     "text": [
      "1639/1639 [==============================] - ETA: 0s - loss: 1.7206"
     ]
    },
    {
     "name": "stderr",
     "output_type": "stream",
     "text": [
      "2023-05-11 20:19:23.870985: I tensorflow/core/grappler/optimizers/custom_graph_optimizer_registry.cc:114] Plugin optimizer for device_type GPU is enabled.\n"
     ]
    },
    {
     "name": "stdout",
     "output_type": "stream",
     "text": [
      "1639/1639 [==============================] - 92s 55ms/step - loss: 1.7206 - val_loss: 0.8903\n",
      "Epoch 2/10\n",
      "1639/1639 [==============================] - 81s 49ms/step - loss: 1.0462 - val_loss: 0.8729\n",
      "Epoch 3/10\n",
      "1639/1639 [==============================] - 81s 49ms/step - loss: 0.9393 - val_loss: 0.8699\n",
      "Epoch 4/10\n",
      "1639/1639 [==============================] - 81s 49ms/step - loss: 0.8833 - val_loss: 0.9410\n",
      "Epoch 5/10\n",
      "1639/1639 [==============================] - 81s 49ms/step - loss: 0.8446 - val_loss: 0.9603\n",
      "Epoch 6/10\n",
      "1639/1639 [==============================] - 84s 51ms/step - loss: 0.8033 - val_loss: 0.8298\n",
      "Epoch 7/10\n",
      "1639/1639 [==============================] - 92s 56ms/step - loss: 0.7690 - val_loss: 0.8060\n",
      "Epoch 8/10\n",
      "1639/1639 [==============================] - 84s 51ms/step - loss: 0.7443 - val_loss: 0.8075\n",
      "Epoch 9/10\n",
      "1639/1639 [==============================] - 85s 52ms/step - loss: 0.7252 - val_loss: 0.8101\n",
      "Epoch 10/10\n",
      "1639/1639 [==============================] - 83s 51ms/step - loss: 0.7102 - val_loss: 0.7808\n",
      "Epoch 1/10\n"
     ]
    },
    {
     "name": "stderr",
     "output_type": "stream",
     "text": [
      "2023-05-11 20:32:09.023909: I tensorflow/core/grappler/optimizers/custom_graph_optimizer_registry.cc:114] Plugin optimizer for device_type GPU is enabled.\n"
     ]
    },
    {
     "name": "stdout",
     "output_type": "stream",
     "text": [
      "1639/1639 [==============================] - ETA: 0s - loss: 1.7596"
     ]
    },
    {
     "name": "stderr",
     "output_type": "stream",
     "text": [
      "2023-05-11 20:33:28.147542: I tensorflow/core/grappler/optimizers/custom_graph_optimizer_registry.cc:114] Plugin optimizer for device_type GPU is enabled.\n"
     ]
    },
    {
     "name": "stdout",
     "output_type": "stream",
     "text": [
      "1639/1639 [==============================] - 95s 57ms/step - loss: 1.7596 - val_loss: 0.8907\n",
      "Epoch 2/10\n",
      "1639/1639 [==============================] - 83s 51ms/step - loss: 1.0480 - val_loss: 0.8627\n",
      "Epoch 3/10\n",
      "1639/1639 [==============================] - 84s 52ms/step - loss: 0.9574 - val_loss: 0.8288\n",
      "Epoch 4/10\n",
      "1639/1639 [==============================] - 82s 50ms/step - loss: 0.8893 - val_loss: 0.8095\n",
      "Epoch 5/10\n",
      "1639/1639 [==============================] - 81s 50ms/step - loss: 0.8296 - val_loss: 0.7950\n",
      "Epoch 6/10\n",
      "1639/1639 [==============================] - 81s 49ms/step - loss: 0.7844 - val_loss: 0.7883\n",
      "Epoch 7/10\n",
      "1639/1639 [==============================] - 80s 49ms/step - loss: 0.7418 - val_loss: 0.7855\n",
      "Epoch 8/10\n",
      "1639/1639 [==============================] - 81s 49ms/step - loss: 0.7090 - val_loss: 0.7838\n",
      "Epoch 9/10\n",
      "1639/1639 [==============================] - 80s 49ms/step - loss: 0.6816 - val_loss: 0.7825\n",
      "Epoch 10/10\n",
      "1639/1639 [==============================] - 80s 49ms/step - loss: 0.6608 - val_loss: 0.7810\n",
      "Epoch 1/10\n"
     ]
    },
    {
     "name": "stderr",
     "output_type": "stream",
     "text": [
      "2023-05-11 20:45:56.736247: I tensorflow/core/grappler/optimizers/custom_graph_optimizer_registry.cc:114] Plugin optimizer for device_type GPU is enabled.\n"
     ]
    },
    {
     "name": "stdout",
     "output_type": "stream",
     "text": [
      "1639/1639 [==============================] - ETA: 0s - loss: 1.5693"
     ]
    },
    {
     "name": "stderr",
     "output_type": "stream",
     "text": [
      "2023-05-11 20:47:14.949936: I tensorflow/core/grappler/optimizers/custom_graph_optimizer_registry.cc:114] Plugin optimizer for device_type GPU is enabled.\n"
     ]
    },
    {
     "name": "stdout",
     "output_type": "stream",
     "text": [
      "1639/1639 [==============================] - 93s 56ms/step - loss: 1.5693 - val_loss: 0.8729\n",
      "Epoch 2/10\n",
      "1639/1639 [==============================] - 83s 51ms/step - loss: 0.9829 - val_loss: 0.8354\n",
      "Epoch 3/10\n",
      "1639/1639 [==============================] - 83s 51ms/step - loss: 0.9197 - val_loss: 0.8203\n",
      "Epoch 4/10\n",
      "1639/1639 [==============================] - 82s 50ms/step - loss: 0.8758 - val_loss: 0.8106\n",
      "Epoch 5/10\n",
      "1639/1639 [==============================] - 83s 51ms/step - loss: 0.8335 - val_loss: 0.7862\n",
      "Epoch 6/10\n",
      "1639/1639 [==============================] - 83s 50ms/step - loss: 0.7758 - val_loss: 0.7717\n",
      "Epoch 7/10\n",
      "1639/1639 [==============================] - 83s 50ms/step - loss: 0.7320 - val_loss: 0.7721\n",
      "Epoch 8/10\n",
      "1639/1639 [==============================] - 83s 51ms/step - loss: 0.7001 - val_loss: 0.7629\n",
      "Epoch 9/10\n",
      "1639/1639 [==============================] - 83s 51ms/step - loss: 0.6753 - val_loss: 0.7644\n",
      "Epoch 10/10\n",
      "1639/1639 [==============================] - 83s 51ms/step - loss: 0.6544 - val_loss: 0.7605\n"
     ]
    }
   ],
   "source": [
    "\n",
    "\n",
    "# Define number of epochs and batch size\n",
    "num_epochs = 10\n",
    "batch_size = 512\n",
    "\n",
    "# Define early stopping callback\n",
    "early_stopping = EarlyStopping(monitor='val_loss', patience=3)\n",
    "\n",
    "# Iterate over all combinations of hyperparameters\n",
    "for num_factors in hyperparameters['num_factors']:\n",
    "    for layers in hyperparameters['layers']:\n",
    "        for reg_mf in hyperparameters['reg_mf']:\n",
    "            for reg_layers in hyperparameters['reg_layers']:\n",
    "                # Define and compile the model\n",
    "                model = NeuMF(num_users=len(ratings['userId'].unique()), num_items=len(ratings['movieId'].unique()),\n",
    "                              mf_dim=num_factors, layers=layers, reg_mf=reg_mf, reg_layers=reg_layers)\n",
    "                model.compile(optimizer=Adam(lr=0.001), loss='mean_squared_error')\n",
    "\n",
    "                # Train the model\n",
    "                history = model.fit([train['userId'], train['movieId']], train['rating'],\n",
    "                                    batch_size=batch_size,\n",
    "                                    epochs=num_epochs,\n",
    "                                    validation_data=([test['userId'], test['movieId']], test['rating']),\n",
    "                                    callbacks=[early_stopping])\n",
    "\n",
    "                # Save the model and training history\n",
    "                model_name = f\"model_nf{num_factors}_layers{'_'.join(map(str, layers))}_regmf{reg_mf}_reg{'_'.join(map(str, reg_layers))}.h5\"\n",
    "                model.save(model_name)\n",
    "                history_name = f\"history_nf{num_factors}_layers{'_'.join(map(str, layers))}_regmf{reg_mf}_reg{'_'.join(map(str, reg_layers))}.csv\"\n",
    "                pd.DataFrame(history.history).to_csv(history_name, index=False)\n"
   ]
  },
  {
   "cell_type": "code",
   "execution_count": 24,
   "id": "98291628",
   "metadata": {},
   "outputs": [],
   "source": [
    "from keras.models import load_model\n",
    "model = load_model('model_nf16_layers64_32_16_regmf0.01_reg0.005_0.005_0.005_0.005.h5')"
   ]
  },
  {
   "cell_type": "code",
   "execution_count": 25,
   "id": "78ca71fd",
   "metadata": {},
   "outputs": [],
   "source": [
    "def recommend_movies(model, user_id, movie_df, top_n=10):\n",
    "    # Get list of all movie IDs\n",
    "    all_movies = list(movie_df.movieId.unique())\n",
    "\n",
    "    # Create list of tuples for user ID and each movie ID\n",
    "    user = np.full(len(all_movies), user_id, dtype='int32')\n",
    "    movies = np.array(all_movies, dtype='int32')\n",
    "    user_movie_matrix = [user, movies]\n",
    "\n",
    "    # Predict ratings for all movies\n",
    "    ratings = model.predict(user_movie_matrix)\n",
    "    ratings[ratings>5.0] = 5.0\n",
    "   \n",
    "    # Create DataFrame of predicted ratings for each movie\n",
    "    ratings_df = pd.DataFrame({'movieId': movies, 'rating': ratings.flatten()})\n",
    "\n",
    "    # Merge with movie DataFrame to get movie titles\n",
    "    merged_df = pd.merge(ratings_df, movie_df, on='movieId')\n",
    "\n",
    "    # Sort by predicted rating and return top n movies\n",
    "    top_movies = merged_df.sort_values(by='rating', ascending=False).head(top_n)\n",
    "\n",
    "    return top_movies[['movieId', 'title','rating']]"
   ]
  },
  {
   "cell_type": "code",
   "execution_count": 26,
   "id": "ccf5302a",
   "metadata": {},
   "outputs": [
    {
     "name": "stdout",
     "output_type": "stream",
     "text": [
      "  3/853 [..............................] - ETA: 23s "
     ]
    },
    {
     "name": "stderr",
     "output_type": "stream",
     "text": [
      "2023-05-11 21:04:59.833250: I tensorflow/core/grappler/optimizers/custom_graph_optimizer_registry.cc:114] Plugin optimizer for device_type GPU is enabled.\n"
     ]
    },
    {
     "name": "stdout",
     "output_type": "stream",
     "text": [
      "853/853 [==============================] - 2s 2ms/step\n",
      "user  1 :\n",
      "      movieId                                              title    rating\n",
      "315       318                   Shawshank Redemption, The (1994)  4.198479\n",
      "4217     4312   Himalaya (Himalaya - l'enfance d'un chef) (1999)  4.185206\n",
      "6873     6985  Passion of Joan of Arc, The (Passion de Jeanne...  4.172028\n",
      "7973     8656  Short Film About Killing, A (Krótki film o zab...  4.122800\n",
      "6172     6271          Day for Night (La Nuit Américaine) (1973)  4.122089\n",
      "3622     3713                         Long Walk Home, The (1990)  4.121580\n",
      "5721     5820           Standing in the Shadows of Motown (2002)  4.109116\n",
      "6501     6611                                  Umberto D. (1952)  4.083952\n",
      "5508     5607     Son of the Bride (Hijo de la novia, El) (2001)  4.080187\n",
      "7464     7767     Best of Youth, The (La meglio gioventù) (2003)  4.075929\n",
      "\n",
      "*******************************************************************************************************\n",
      "\n",
      "853/853 [==============================] - 2s 2ms/step\n",
      "user  2 :\n",
      "      movieId                                              title    rating\n",
      "7041     7153  Lord of the Rings: The Return of the King, The...  4.817862\n",
      "5853     5952      Lord of the Rings: The Two Towers, The (2002)  4.781925\n",
      "4897     4993  Lord of the Rings: The Fellowship of the Ring,...  4.744450\n",
      "108       110                                  Braveheart (1995)  4.662625\n",
      "7664     8132                                   Gladiator (1992)  4.478223\n",
      "352       356                                Forrest Gump (1994)  4.451393\n",
      "6429     6539  Pirates of the Caribbean: The Curse of the Bla...  4.439158\n",
      "3487     3578                                   Gladiator (2000)  4.405743\n",
      "7379     7578                                    Midnight (1939)  4.388604\n",
      "2486     2571                                 Matrix, The (1999)  4.383247\n",
      "\n",
      "*******************************************************************************************************\n",
      "\n",
      "853/853 [==============================] - 2s 2ms/step\n",
      "user  3 :\n",
      "      movieId                                              title    rating\n",
      "1171     1196  Star Wars: Episode V - The Empire Strikes Back...  5.000000\n",
      "257       260          Star Wars: Episode IV - A New Hope (1977)  5.000000\n",
      "476       480                               Jurassic Park (1993)  5.000000\n",
      "1184     1210  Star Wars: Episode VI - Return of the Jedi (1983)  5.000000\n",
      "587       593                   Silence of the Lambs, The (1991)  5.000000\n",
      "315       318                   Shawshank Redemption, The (1994)  4.974490\n",
      "1075     1097                  E.T. the Extra-Terrestrial (1982)  4.889926\n",
      "0           1                                   Toy Story (1995)  4.873056\n",
      "523       527                            Schindler's List (1993)  4.818526\n",
      "1125     1148        Wallace & Gromit: The Wrong Trousers (1993)  4.778584\n",
      "\n",
      "*******************************************************************************************************\n",
      "\n",
      "853/853 [==============================] - 2s 2ms/step\n",
      "user  4 :\n",
      "      movieId                                              title  rating\n",
      "1175     1200                                      Aliens (1986)     5.0\n",
      "587       593                   Silence of the Lambs, The (1991)     5.0\n",
      "1184     1210  Star Wars: Episode VI - Return of the Jedi (1983)     5.0\n",
      "1182     1208                              Apocalypse Now (1979)     5.0\n",
      "1173     1198  Raiders of the Lost Ark (Indiana Jones and the...     5.0\n",
      "1188     1214                                       Alien (1979)     5.0\n",
      "1171     1196  Star Wars: Episode V - The Empire Strikes Back...     5.0\n",
      "843       858                              Godfather, The (1972)     5.0\n",
      "257       260          Star Wars: Episode IV - A New Hope (1977)     5.0\n",
      "1195     1221                     Godfather: Part II, The (1974)     5.0\n",
      "\n",
      "*******************************************************************************************************\n",
      "\n",
      "853/853 [==============================] - 2s 2ms/step\n",
      "user  5 :\n",
      "      movieId                                             title    rating\n",
      "3622     3713                        Long Walk Home, The (1990)  4.467968\n",
      "523       527                           Schindler's List (1993)  4.415678\n",
      "315       318                  Shawshank Redemption, The (1994)  4.386932\n",
      "5721     5820          Standing in the Shadows of Motown (2002)  4.375162\n",
      "4217     4312  Himalaya (Himalaya - l'enfance d'un chef) (1999)  4.358545\n",
      "5508     5607    Son of the Bride (Hijo de la novia, El) (2001)  4.339307\n",
      "7593     7979                               Monterey Pop (1968)  4.328362\n",
      "7379     7578                                   Midnight (1939)  4.310339\n",
      "6035     6134                                 Starstruck (1982)  4.301481\n",
      "762       775                        Spirits of the Dead (1968)  4.297161\n",
      "\n",
      "*******************************************************************************************************\n",
      "\n"
     ]
    }
   ],
   "source": [
    "movies = pd.read_csv('movies.csv')\n",
    "\n",
    "for i in range(0,5):\n",
    "    # Generate recommendations for user i\n",
    "    recommendations = recommend_movies(model, i, movies)\n",
    "    # Print top 10 recommended movies for user i\n",
    "    print(\"user \",i+1,\":\")\n",
    "    print(recommendations)\n",
    "    print()\n",
    "    print(\"*******************************************************************************************************\")\n",
    "    print()"
   ]
  },
  {
   "cell_type": "code",
   "execution_count": null,
   "id": "f02857d0",
   "metadata": {},
   "outputs": [],
   "source": []
  }
 ],
 "metadata": {
  "kernelspec": {
   "display_name": "Python 3 (ipykernel)",
   "language": "python",
   "name": "python3"
  },
  "language_info": {
   "codemirror_mode": {
    "name": "ipython",
    "version": 3
   },
   "file_extension": ".py",
   "mimetype": "text/x-python",
   "name": "python",
   "nbconvert_exporter": "python",
   "pygments_lexer": "ipython3",
   "version": "3.9.13"
  }
 },
 "nbformat": 4,
 "nbformat_minor": 5
}
